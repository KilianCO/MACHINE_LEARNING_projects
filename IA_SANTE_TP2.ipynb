{
 "cells": [
  {
   "cell_type": "code",
   "execution_count": 2,
   "id": "ae8b1900-54ab-4588-b509-4031e6587171",
   "metadata": {},
   "outputs": [],
   "source": [
    "# !pip install -U scikit-learn\n",
    "# Une version récente de sklearn est nécessaire pour gamma='scale' (cf. plusbas)"
   ]
  },
  {
   "cell_type": "code",
   "execution_count": 46,
   "id": "90505bae-fc5d-4d91-8fc7-70c5e67091ee",
   "metadata": {},
   "outputs": [],
   "source": [
    "from sklearn.datasets import load_digits\n",
    "import numpy as np\n",
    "import matplotlib.pyplot as plt\n",
    "from sklearn import svm, datasets\n",
    "from sklearn.model_selection import train_test_split\n",
    "from sklearn.metrics import accuracy_score"
   ]
  },
  {
   "cell_type": "code",
   "execution_count": 54,
   "id": "2e19cf18-149c-4da8-ae25-a0d49974bd78",
   "metadata": {},
   "outputs": [],
   "source": [
    "# Chargement des données\n",
    "X, y = iris.data[:,:2], iris.target\n",
    "\n",
    "# On conserve 50% du jeu de données pour l'évaluation\n",
    "X_train, X_test, y_train, y_test = train_test_split(X, y, test_size=0.5)"
   ]
  },
  {
   "cell_type": "code",
   "execution_count": 57,
   "id": "4efdeb65-0717-49de-8bc1-f0d29e7780cc",
   "metadata": {},
   "outputs": [
    {
     "data": {
      "text/plain": [
       "Text(0.5, 1.0, 'SVM RBF')"
      ]
     },
     "execution_count": 57,
     "metadata": {},
     "output_type": "execute_result"
    },
    {
     "data": {
      "image/png": "[encoded data removed]",
      "text/plain": [
       "<Figure size 432x288 with 1 Axes>"
      ]
     },
     "metadata": {
      "needs_background": "light"
     },
     "output_type": "display_data"
    }
   ],
   "source": [
    "clf = svm.SVC(C=1, kernel='rbf', gamma=3)\n",
    "clf.fit(X_train, y_train)\n",
    "# Pour afficher la surface de décision on va discrétiser l'espace avec un pas h\n",
    "h = .02\n",
    "# Créer la surface de décision discretisée\n",
    "x_min, x_max = X[:, 0].min() - 1, X[:, 0].max() + 1\n",
    "y_min, y_max = X[:, 1].min() - 1, X[:, 1].max() + 1\n",
    "xx, yy = np.meshgrid(np.arange(x_min, x_max, h), np.arange(y_min, y_max, h))\n",
    "# Surface de décision\n",
    "Z = clf.predict(np.c_[xx.ravel(), yy.ravel()])\n",
    "Z = Z.reshape(xx.shape)\n",
    "plt.contourf(xx, yy, Z, cmap=plt.cm.coolwarm, alpha=0.8)\n",
    "# Afficher aussi les points d'apprentissage\n",
    "plt.scatter(X_train[:, 0], X_train[:, 1], label=\"train\", edgecolors='k',c=y_train, cmap=plt.cm.coolwarm)\n",
    "plt.scatter(X_test[:, 0], X_test[:, 1], label=\"test\", marker='*', c=y_test,cmap=plt.cm.coolwarm)\n",
    "plt.xlabel('Sepal length')\n",
    "plt.ylabel('Sepal width')\n",
    "plt.title(\"SVM RBF\")"
   ]
  },
  {
   "cell_type": "code",
   "execution_count": 59,
   "id": "56a87839-b02d-4cb0-a855-0cb72ba160f5",
   "metadata": {},
   "outputs": [
    {
     "data": {
      "text/plain": [
       "0.6133333333333333"
      ]
     },
     "execution_count": 59,
     "metadata": {},
     "output_type": "execute_result"
    }
   ],
   "source": [
    "y_pred=clf.predict(X_test)\n",
    "accuracy_score(y_test,y_pred)"
   ]
  },
  {
   "cell_type": "markdown",
   "id": "e5da728f-c5ef-4a6b-9a43-066878c76d75",
   "metadata": {},
   "source": [
    "#### Question 4"
   ]
  },
  {
   "cell_type": "markdown",
   "id": "f9c97672-36d3-432b-8490-9f0ec07db31f",
   "metadata": {},
   "source": [
    "La paramètre gamme distort les frontières"
   ]
  },
  {
   "cell_type": "markdown",
   "id": "87ec1948-0fbf-467f-964a-ab168ebb0254",
   "metadata": {},
   "source": [
    "#### Question 5"
   ]
  },
  {
   "cell_type": "code",
   "execution_count": 101,
   "id": "de7d168d-de54-4e2a-a62a-72a06ce7e7e3",
   "metadata": {},
   "outputs": [
    {
     "name": "stdout",
     "output_type": "stream",
     "text": [
      "(1797, 64)\n",
      "(1797,)\n"
     ]
    }
   ],
   "source": [
    "from sklearn.datasets import load_digits\n",
    "digits = load_digits()\n",
    "X, y = digits.data, digits.target\n",
    "print(X.shape)\n",
    "print(y.shape)\n",
    "X_train, X_test, y_train, y_test = train_test_split(X, y, test_size=0.2)"
   ]
  },
  {
   "cell_type": "markdown",
   "id": "aa53f63e-013d-4f21-92b2-810fb7e3b3b2",
   "metadata": {},
   "source": [
    "#### Question 6"
   ]
  },
  {
   "cell_type": "code",
   "execution_count": 102,
   "id": "90da1709-6806-4a47-8d32-55e87570be8a",
   "metadata": {},
   "outputs": [
    {
     "data": {
      "text/plain": [
       "0.9361111111111111"
      ]
     },
     "execution_count": 102,
     "metadata": {},
     "output_type": "execute_result"
    }
   ],
   "source": [
    "lin_svc = svm.LinearSVC(C=0.5, max_iter=10000000)\n",
    "lin_svc.fit(X_train, y_train)\n",
    "\n",
    "y_pred=lin_svc.predict(X_test)\n",
    "accuracy_score(y_test,y_pred)"
   ]
  },
  {
   "cell_type": "code",
   "execution_count": 103,
   "id": "98934c6b-a31a-4152-a1c3-8697ca9aab09",
   "metadata": {},
   "outputs": [
    {
     "data": {
      "text/plain": [
       "0.9888888888888889"
      ]
     },
     "execution_count": 103,
     "metadata": {},
     "output_type": "execute_result"
    }
   ],
   "source": [
    "clf = svm.SVC(C=10, kernel='rbf', gamma='scale', max_iter=100000)\n",
    "clf.fit(X_train, y_train)\n",
    "\n",
    "y_pred=clf.predict(X_test)\n",
    "accuracy_score(y_test,y_pred)"
   ]
  },
  {
   "cell_type": "markdown",
   "id": "db7d61f3-61eb-4068-8bea-de3e64692b5b",
   "metadata": {},
   "source": [
    "#### Question 7"
   ]
  },
  {
   "cell_type": "code",
   "execution_count": 104,
   "id": "30a70837-6718-4ae1-899f-c65364a769b9",
   "metadata": {},
   "outputs": [
    {
     "name": "stdout",
     "output_type": "stream",
     "text": [
      "Fitting 5 folds for each of 25 candidates, totalling 125 fits\n",
      "[CV 1/5] END ......C=2, gamma=0.001, kernel=rbf;, score=0.990 total time=   0.1s\n",
      "[CV 2/5] END ......C=2, gamma=0.001, kernel=rbf;, score=0.986 total time=   0.1s\n",
      "[CV 3/5] END ......C=2, gamma=0.001, kernel=rbf;, score=0.983 total time=   0.1s\n",
      "[CV 4/5] END ......C=2, gamma=0.001, kernel=rbf;, score=0.990 total time=   0.1s\n",
      "[CV 5/5] END ......C=2, gamma=0.001, kernel=rbf;, score=0.990 total time=   0.1s\n",
      "[CV 1/5] END ....C=2, gamma=0.00075, kernel=rbf;, score=0.993 total time=   0.1s\n",
      "[CV 2/5] END ....C=2, gamma=0.00075, kernel=rbf;, score=0.986 total time=   0.1s\n",
      "[CV 3/5] END ....C=2, gamma=0.00075, kernel=rbf;, score=0.983 total time=   0.1s\n",
      "[CV 4/5] END ....C=2, gamma=0.00075, kernel=rbf;, score=0.990 total time=   0.1s\n",
      "[CV 5/5] END ....C=2, gamma=0.00075, kernel=rbf;, score=0.990 total time=   0.1s\n",
      "[CV 1/5] END .....C=2, gamma=0.0005, kernel=rbf;, score=0.997 total time=   0.1s\n",
      "[CV 2/5] END .....C=2, gamma=0.0005, kernel=rbf;, score=0.983 total time=   0.1s\n",
      "[CV 3/5] END .....C=2, gamma=0.0005, kernel=rbf;, score=0.983 total time=   0.1s\n",
      "[CV 4/5] END .....C=2, gamma=0.0005, kernel=rbf;, score=0.990 total time=   0.1s\n",
      "[CV 5/5] END .....C=2, gamma=0.0005, kernel=rbf;, score=0.990 total time=   0.1s\n",
      "[CV 1/5] END ....C=2, gamma=0.00025, kernel=rbf;, score=0.993 total time=   0.1s\n",
      "[CV 2/5] END ....C=2, gamma=0.00025, kernel=rbf;, score=0.969 total time=   0.1s\n",
      "[CV 3/5] END ....C=2, gamma=0.00025, kernel=rbf;, score=0.972 total time=   0.1s\n",
      "[CV 4/5] END ....C=2, gamma=0.00025, kernel=rbf;, score=0.986 total time=   0.1s\n",
      "[CV 5/5] END ....C=2, gamma=0.00025, kernel=rbf;, score=0.993 total time=   0.1s\n",
      "[CV 1/5] END ......C=2, gamma=1e-05, kernel=rbf;, score=0.934 total time=   0.2s\n",
      "[CV 2/5] END ......C=2, gamma=1e-05, kernel=rbf;, score=0.913 total time=   0.2s\n",
      "[CV 3/5] END ......C=2, gamma=1e-05, kernel=rbf;, score=0.927 total time=   0.2s\n",
      "[CV 4/5] END ......C=2, gamma=1e-05, kernel=rbf;, score=0.913 total time=   0.2s\n",
      "[CV 5/5] END ......C=2, gamma=1e-05, kernel=rbf;, score=0.962 total time=   0.2s\n",
      "[CV 1/5] END ...C=2.25, gamma=0.001, kernel=rbf;, score=0.990 total time=   0.1s\n",
      "[CV 2/5] END ...C=2.25, gamma=0.001, kernel=rbf;, score=0.990 total time=   0.1s\n",
      "[CV 3/5] END ...C=2.25, gamma=0.001, kernel=rbf;, score=0.983 total time=   0.1s\n",
      "[CV 4/5] END ...C=2.25, gamma=0.001, kernel=rbf;, score=0.990 total time=   0.1s\n",
      "[CV 5/5] END ...C=2.25, gamma=0.001, kernel=rbf;, score=0.990 total time=   0.1s\n",
      "[CV 1/5] END .C=2.25, gamma=0.00075, kernel=rbf;, score=0.993 total time=   0.1s\n",
      "[CV 2/5] END .C=2.25, gamma=0.00075, kernel=rbf;, score=0.986 total time=   0.1s\n",
      "[CV 3/5] END .C=2.25, gamma=0.00075, kernel=rbf;, score=0.983 total time=   0.1s\n",
      "[CV 4/5] END .C=2.25, gamma=0.00075, kernel=rbf;, score=0.990 total time=   0.1s\n",
      "[CV 5/5] END .C=2.25, gamma=0.00075, kernel=rbf;, score=0.990 total time=   0.1s\n",
      "[CV 1/5] END ..C=2.25, gamma=0.0005, kernel=rbf;, score=0.997 total time=   0.1s\n",
      "[CV 2/5] END ..C=2.25, gamma=0.0005, kernel=rbf;, score=0.986 total time=   0.1s\n",
      "[CV 3/5] END ..C=2.25, gamma=0.0005, kernel=rbf;, score=0.983 total time=   0.1s\n",
      "[CV 4/5] END ..C=2.25, gamma=0.0005, kernel=rbf;, score=0.990 total time=   0.1s\n",
      "[CV 5/5] END ..C=2.25, gamma=0.0005, kernel=rbf;, score=0.990 total time=   0.1s\n",
      "[CV 1/5] END .C=2.25, gamma=0.00025, kernel=rbf;, score=0.997 total time=   0.1s\n",
      "[CV 2/5] END .C=2.25, gamma=0.00025, kernel=rbf;, score=0.969 total time=   0.1s\n",
      "[CV 3/5] END .C=2.25, gamma=0.00025, kernel=rbf;, score=0.976 total time=   0.1s\n",
      "[CV 4/5] END .C=2.25, gamma=0.00025, kernel=rbf;, score=0.986 total time=   0.1s\n",
      "[CV 5/5] END .C=2.25, gamma=0.00025, kernel=rbf;, score=0.993 total time=   0.1s\n",
      "[CV 1/5] END ...C=2.25, gamma=1e-05, kernel=rbf;, score=0.934 total time=   0.2s\n",
      "[CV 2/5] END ...C=2.25, gamma=1e-05, kernel=rbf;, score=0.920 total time=   0.2s\n",
      "[CV 3/5] END ...C=2.25, gamma=1e-05, kernel=rbf;, score=0.923 total time=   0.2s\n",
      "[CV 4/5] END ...C=2.25, gamma=1e-05, kernel=rbf;, score=0.913 total time=   0.2s\n",
      "[CV 5/5] END ...C=2.25, gamma=1e-05, kernel=rbf;, score=0.962 total time=   0.2s\n",
      "[CV 1/5] END ....C=2.5, gamma=0.001, kernel=rbf;, score=0.990 total time=   0.1s\n",
      "[CV 2/5] END ....C=2.5, gamma=0.001, kernel=rbf;, score=0.990 total time=   0.1s\n",
      "[CV 3/5] END ....C=2.5, gamma=0.001, kernel=rbf;, score=0.983 total time=   0.1s\n",
      "[CV 4/5] END ....C=2.5, gamma=0.001, kernel=rbf;, score=0.990 total time=   0.1s\n",
      "[CV 5/5] END ....C=2.5, gamma=0.001, kernel=rbf;, score=0.990 total time=   0.1s\n",
      "[CV 1/5] END ..C=2.5, gamma=0.00075, kernel=rbf;, score=0.993 total time=   0.1s\n",
      "[CV 2/5] END ..C=2.5, gamma=0.00075, kernel=rbf;, score=0.986 total time=   0.1s\n",
      "[CV 3/5] END ..C=2.5, gamma=0.00075, kernel=rbf;, score=0.983 total time=   0.1s\n",
      "[CV 4/5] END ..C=2.5, gamma=0.00075, kernel=rbf;, score=0.990 total time=   0.1s\n",
      "[CV 5/5] END ..C=2.5, gamma=0.00075, kernel=rbf;, score=0.990 total time=   0.1s\n",
      "[CV 1/5] END ...C=2.5, gamma=0.0005, kernel=rbf;, score=0.997 total time=   0.1s\n",
      "[CV 2/5] END ...C=2.5, gamma=0.0005, kernel=rbf;, score=0.986 total time=   0.1s\n",
      "[CV 3/5] END ...C=2.5, gamma=0.0005, kernel=rbf;, score=0.983 total time=   0.1s\n",
      "[CV 4/5] END ...C=2.5, gamma=0.0005, kernel=rbf;, score=0.990 total time=   0.1s\n",
      "[CV 5/5] END ...C=2.5, gamma=0.0005, kernel=rbf;, score=0.990 total time=   0.1s\n",
      "[CV 1/5] END ..C=2.5, gamma=0.00025, kernel=rbf;, score=0.997 total time=   0.1s\n",
      "[CV 2/5] END ..C=2.5, gamma=0.00025, kernel=rbf;, score=0.972 total time=   0.1s\n",
      "[CV 3/5] END ..C=2.5, gamma=0.00025, kernel=rbf;, score=0.976 total time=   0.1s\n",
      "[CV 4/5] END ..C=2.5, gamma=0.00025, kernel=rbf;, score=0.990 total time=   0.1s\n",
      "[CV 5/5] END ..C=2.5, gamma=0.00025, kernel=rbf;, score=0.993 total time=   0.1s\n",
      "[CV 1/5] END ....C=2.5, gamma=1e-05, kernel=rbf;, score=0.944 total time=   0.2s\n",
      "[CV 2/5] END ....C=2.5, gamma=1e-05, kernel=rbf;, score=0.924 total time=   0.2s\n",
      "[CV 3/5] END ....C=2.5, gamma=1e-05, kernel=rbf;, score=0.927 total time=   0.2s\n",
      "[CV 4/5] END ....C=2.5, gamma=1e-05, kernel=rbf;, score=0.916 total time=   0.2s\n",
      "[CV 5/5] END ....C=2.5, gamma=1e-05, kernel=rbf;, score=0.965 total time=   0.2s\n",
      "[CV 1/5] END ...C=2.75, gamma=0.001, kernel=rbf;, score=0.990 total time=   0.1s\n",
      "[CV 2/5] END ...C=2.75, gamma=0.001, kernel=rbf;, score=0.990 total time=   0.1s\n",
      "[CV 3/5] END ...C=2.75, gamma=0.001, kernel=rbf;, score=0.983 total time=   0.1s\n",
      "[CV 4/5] END ...C=2.75, gamma=0.001, kernel=rbf;, score=0.993 total time=   0.1s\n",
      "[CV 5/5] END ...C=2.75, gamma=0.001, kernel=rbf;, score=0.990 total time=   0.1s\n",
      "[CV 1/5] END .C=2.75, gamma=0.00075, kernel=rbf;, score=0.993 total time=   0.1s\n",
      "[CV 2/5] END .C=2.75, gamma=0.00075, kernel=rbf;, score=0.986 total time=   0.1s\n",
      "[CV 3/5] END .C=2.75, gamma=0.00075, kernel=rbf;, score=0.983 total time=   0.1s\n",
      "[CV 4/5] END .C=2.75, gamma=0.00075, kernel=rbf;, score=0.990 total time=   0.1s\n",
      "[CV 5/5] END .C=2.75, gamma=0.00075, kernel=rbf;, score=0.990 total time=   0.1s\n",
      "[CV 1/5] END ..C=2.75, gamma=0.0005, kernel=rbf;, score=0.997 total time=   0.1s\n",
      "[CV 2/5] END ..C=2.75, gamma=0.0005, kernel=rbf;, score=0.986 total time=   0.1s\n",
      "[CV 3/5] END ..C=2.75, gamma=0.0005, kernel=rbf;, score=0.983 total time=   0.1s\n",
      "[CV 4/5] END ..C=2.75, gamma=0.0005, kernel=rbf;, score=0.990 total time=   0.1s\n",
      "[CV 5/5] END ..C=2.75, gamma=0.0005, kernel=rbf;, score=0.990 total time=   0.1s\n",
      "[CV 1/5] END .C=2.75, gamma=0.00025, kernel=rbf;, score=0.997 total time=   0.1s\n",
      "[CV 2/5] END .C=2.75, gamma=0.00025, kernel=rbf;, score=0.972 total time=   0.1s\n",
      "[CV 3/5] END .C=2.75, gamma=0.00025, kernel=rbf;, score=0.976 total time=   0.1s\n",
      "[CV 4/5] END .C=2.75, gamma=0.00025, kernel=rbf;, score=0.990 total time=   0.1s\n",
      "[CV 5/5] END .C=2.75, gamma=0.00025, kernel=rbf;, score=0.993 total time=   0.1s\n",
      "[CV 1/5] END ...C=2.75, gamma=1e-05, kernel=rbf;, score=0.944 total time=   0.2s\n",
      "[CV 2/5] END ...C=2.75, gamma=1e-05, kernel=rbf;, score=0.924 total time=   0.2s\n",
      "[CV 3/5] END ...C=2.75, gamma=1e-05, kernel=rbf;, score=0.930 total time=   0.2s\n",
      "[CV 4/5] END ...C=2.75, gamma=1e-05, kernel=rbf;, score=0.916 total time=   0.2s\n",
      "[CV 5/5] END ...C=2.75, gamma=1e-05, kernel=rbf;, score=0.965 total time=   0.2s\n",
      "[CV 1/5] END ......C=3, gamma=0.001, kernel=rbf;, score=0.990 total time=   0.1s\n",
      "[CV 2/5] END ......C=3, gamma=0.001, kernel=rbf;, score=0.990 total time=   0.1s\n",
      "[CV 3/5] END ......C=3, gamma=0.001, kernel=rbf;, score=0.983 total time=   0.1s\n",
      "[CV 4/5] END ......C=3, gamma=0.001, kernel=rbf;, score=0.993 total time=   0.1s\n",
      "[CV 5/5] END ......C=3, gamma=0.001, kernel=rbf;, score=0.990 total time=   0.1s\n",
      "[CV 1/5] END ....C=3, gamma=0.00075, kernel=rbf;, score=0.993 total time=   0.1s\n",
      "[CV 2/5] END ....C=3, gamma=0.00075, kernel=rbf;, score=0.990 total time=   0.1s\n",
      "[CV 3/5] END ....C=3, gamma=0.00075, kernel=rbf;, score=0.983 total time=   0.1s\n",
      "[CV 4/5] END ....C=3, gamma=0.00075, kernel=rbf;, score=0.990 total time=   0.1s\n",
      "[CV 5/5] END ....C=3, gamma=0.00075, kernel=rbf;, score=0.990 total time=   0.1s\n",
      "[CV 1/5] END .....C=3, gamma=0.0005, kernel=rbf;, score=0.997 total time=   0.1s\n",
      "[CV 2/5] END .....C=3, gamma=0.0005, kernel=rbf;, score=0.986 total time=   0.1s\n",
      "[CV 3/5] END .....C=3, gamma=0.0005, kernel=rbf;, score=0.983 total time=   0.1s\n",
      "[CV 4/5] END .....C=3, gamma=0.0005, kernel=rbf;, score=0.993 total time=   0.1s\n",
      "[CV 5/5] END .....C=3, gamma=0.0005, kernel=rbf;, score=0.990 total time=   0.1s\n",
      "[CV 1/5] END ....C=3, gamma=0.00025, kernel=rbf;, score=0.997 total time=   0.1s\n",
      "[CV 2/5] END ....C=3, gamma=0.00025, kernel=rbf;, score=0.972 total time=   0.1s\n",
      "[CV 3/5] END ....C=3, gamma=0.00025, kernel=rbf;, score=0.976 total time=   0.1s\n",
      "[CV 4/5] END ....C=3, gamma=0.00025, kernel=rbf;, score=0.990 total time=   0.1s\n",
      "[CV 5/5] END ....C=3, gamma=0.00025, kernel=rbf;, score=0.993 total time=   0.1s\n",
      "[CV 1/5] END ......C=3, gamma=1e-05, kernel=rbf;, score=0.948 total time=   0.2s\n",
      "[CV 2/5] END ......C=3, gamma=1e-05, kernel=rbf;, score=0.927 total time=   0.2s\n",
      "[CV 3/5] END ......C=3, gamma=1e-05, kernel=rbf;, score=0.934 total time=   0.2s\n",
      "[CV 4/5] END ......C=3, gamma=1e-05, kernel=rbf;, score=0.927 total time=   0.2s\n",
      "[CV 5/5] END ......C=3, gamma=1e-05, kernel=rbf;, score=0.965 total time=   0.2s\n"
     ]
    },
    {
     "data": {
      "text/plain": [
       "GridSearchCV(estimator=SVC(),\n",
       "             param_grid={'C': [2, 2.25, 2.5, 2.75, 3],\n",
       "                         'gamma': [0.001, 0.00075, 0.0005, 0.00025, 1e-05],\n",
       "                         'kernel': ['rbf']},\n",
       "             verbose=3)"
      ]
     },
     "execution_count": 104,
     "metadata": {},
     "output_type": "execute_result"
    }
   ],
   "source": [
    "from sklearn.model_selection import GridSearchCV\n",
    "# standardiser les données\n",
    "\n",
    "# grille de parametres\n",
    "param_grid = {'C' : [2,2.25,2.5,2.75,3],'gamma':[0.001,0.00075,0.0005,0.00025,0.00001], 'kernel' : ['rbf']}\n",
    "\n",
    "#initialiser une recherche sur grille\n",
    "grid = GridSearchCV(svm.SVC(), param_grid, refit = True, verbose = 3)\n",
    "\n",
    "#faire tourner la recherche sur grille\n",
    "grid.fit(X_train,y_train)"
   ]
  },
  {
   "cell_type": "code",
   "execution_count": 105,
   "id": "99634e39-0998-4379-b69b-2ed24d2de561",
   "metadata": {},
   "outputs": [
    {
     "name": "stdout",
     "output_type": "stream",
     "text": [
      "{'C': 3, 'gamma': 0.0005, 'kernel': 'rbf'}\n"
     ]
    }
   ],
   "source": [
    "print(grid.best_params_)"
   ]
  },
  {
   "cell_type": "code",
   "execution_count": 108,
   "id": "a73a5f33-5f10-4f8a-852c-db7d16a2acbe",
   "metadata": {},
   "outputs": [
    {
     "data": {
      "text/plain": [
       "0.9916666666666667"
      ]
     },
     "execution_count": 108,
     "metadata": {},
     "output_type": "execute_result"
    }
   ],
   "source": [
    "grid_prediction = grid.predict(X_test)\n",
    "accuracy_score(y_test,grid_prediction)"
   ]
  }
 ],
 "metadata": {
  "kernelspec": {
   "display_name": "Python 3 (ipykernel)",
   "language": "python",
   "name": "python3"
  },
  "language_info": {
   "codemirror_mode": {
    "name": "ipython",
    "version": 3
   },
   "file_extension": ".py",
   "mimetype": "text/x-python",
   "name": "python",
   "nbconvert_exporter": "python",
   "pygments_lexer": "ipython3",
   "version": "3.10.6"
  }
 },
 "nbformat": 4,
 "nbformat_minor": 5
}
