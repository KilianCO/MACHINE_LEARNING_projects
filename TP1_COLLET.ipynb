{
 "cells": [
  {
   "cell_type": "markdown",
   "id": "9a052c9f-5fca-4e47-8414-b3007541ea9a",
   "metadata": {},
   "source": [
    "# Kilian COLLET ####"
   ]
  },
  {
   "cell_type": "markdown",
   "id": "d45a70cb-bcfc-401b-9278-e445300fddc8",
   "metadata": {},
   "source": [
    "# TP 1 ####"
   ]
  },
  {
   "cell_type": "markdown",
   "id": "21c1b5ac-d33b-4111-8cd7-b06c49091ed4",
   "metadata": {},
   "source": [
    "### I. Réduction de dimensions et Visualisation des données ####"
   ]
  },
  {
   "cell_type": "code",
   "execution_count": 1,
   "id": "fc5f1392-62e7-4b5e-ae9b-4dd98b4215a9",
   "metadata": {},
   "outputs": [],
   "source": [
    "# Villes ####"
   ]
  },
  {
   "cell_type": "code",
   "execution_count": 2,
   "id": "8a9aa515-1b5c-44ba-9a5a-b96dfda17fa5",
   "metadata": {},
   "outputs": [],
   "source": [
    "import numpy as np\n",
    "np.set_printoptions(threshold=10000,suppress=True)\n",
    "import pandas as pd\n",
    "import warnings\n",
    "import matplotlib.pyplot as plt\n",
    "warnings.filterwarnings('ignore')"
   ]
  },
  {
   "cell_type": "code",
   "execution_count": 3,
   "id": "629531d8-ea70-4a0e-b553-203daf62fcb4",
   "metadata": {},
   "outputs": [],
   "source": [
    "# Question 1"
   ]
  },
  {
   "cell_type": "code",
   "execution_count": 4,
   "id": "e2af5828-1592-4f8d-be08-01edd1ace331",
   "metadata": {},
   "outputs": [],
   "source": [
    "data1 = pd.read_csv('./villes.csv', sep=';') #importation des données\n",
    "X1 = data1.iloc[:, 1:13].values\n",
    "labels1 = data1.iloc[:, 0].values"
   ]
  },
  {
   "cell_type": "code",
   "execution_count": 5,
   "id": "d511e778-db17-4df2-837e-26f98b3a52e4",
   "metadata": {},
   "outputs": [
    {
     "data": {
      "text/html": [
       "<div>\n",
       "<style scoped>\n",
       "    .dataframe tbody tr th:only-of-type {\n",
       "        vertical-align: middle;\n",
       "    }\n",
       "\n",
       "    .dataframe tbody tr th {\n",
       "        vertical-align: top;\n",
       "    }\n",
       "\n",
       "    .dataframe thead th {\n",
       "        text-align: right;\n",
       "    }\n",
       "</style>\n",
       "<table border=\"1\" class=\"dataframe\">\n",
       "  <thead>\n",
       "    <tr style=\"text-align: right;\">\n",
       "      <th></th>\n",
       "      <th>ville</th>\n",
       "      <th>janv</th>\n",
       "      <th>fev</th>\n",
       "      <th>mars</th>\n",
       "      <th>avril</th>\n",
       "      <th>mai</th>\n",
       "      <th>juin</th>\n",
       "      <th>juil</th>\n",
       "      <th>aout</th>\n",
       "      <th>sept</th>\n",
       "      <th>oct</th>\n",
       "      <th>nov</th>\n",
       "      <th>dec</th>\n",
       "    </tr>\n",
       "  </thead>\n",
       "  <tbody>\n",
       "    <tr>\n",
       "      <th>0</th>\n",
       "      <td>ajac</td>\n",
       "      <td>7.7</td>\n",
       "      <td>8.7</td>\n",
       "      <td>10.5</td>\n",
       "      <td>12.6</td>\n",
       "      <td>15.9</td>\n",
       "      <td>19.8</td>\n",
       "      <td>22.0</td>\n",
       "      <td>22.2</td>\n",
       "      <td>20.3</td>\n",
       "      <td>16.3</td>\n",
       "      <td>11.8</td>\n",
       "      <td>8.7</td>\n",
       "    </tr>\n",
       "    <tr>\n",
       "      <th>1</th>\n",
       "      <td>ange</td>\n",
       "      <td>4.2</td>\n",
       "      <td>4.9</td>\n",
       "      <td>7.9</td>\n",
       "      <td>10.4</td>\n",
       "      <td>13.6</td>\n",
       "      <td>17.0</td>\n",
       "      <td>18.7</td>\n",
       "      <td>18.4</td>\n",
       "      <td>16.1</td>\n",
       "      <td>11.7</td>\n",
       "      <td>7.6</td>\n",
       "      <td>4.9</td>\n",
       "    </tr>\n",
       "    <tr>\n",
       "      <th>2</th>\n",
       "      <td>ango</td>\n",
       "      <td>4.6</td>\n",
       "      <td>5.4</td>\n",
       "      <td>8.9</td>\n",
       "      <td>11.3</td>\n",
       "      <td>14.5</td>\n",
       "      <td>17.2</td>\n",
       "      <td>19.5</td>\n",
       "      <td>19.4</td>\n",
       "      <td>16.9</td>\n",
       "      <td>12.5</td>\n",
       "      <td>8.1</td>\n",
       "      <td>5.3</td>\n",
       "    </tr>\n",
       "    <tr>\n",
       "      <th>3</th>\n",
       "      <td>besa</td>\n",
       "      <td>1.1</td>\n",
       "      <td>2.2</td>\n",
       "      <td>6.4</td>\n",
       "      <td>9.7</td>\n",
       "      <td>13.6</td>\n",
       "      <td>16.9</td>\n",
       "      <td>18.7</td>\n",
       "      <td>18.3</td>\n",
       "      <td>15.5</td>\n",
       "      <td>10.4</td>\n",
       "      <td>5.7</td>\n",
       "      <td>2.0</td>\n",
       "    </tr>\n",
       "    <tr>\n",
       "      <th>4</th>\n",
       "      <td>biar</td>\n",
       "      <td>7.6</td>\n",
       "      <td>8.0</td>\n",
       "      <td>10.8</td>\n",
       "      <td>12.0</td>\n",
       "      <td>14.7</td>\n",
       "      <td>17.8</td>\n",
       "      <td>19.7</td>\n",
       "      <td>19.9</td>\n",
       "      <td>18.5</td>\n",
       "      <td>14.8</td>\n",
       "      <td>10.9</td>\n",
       "      <td>8.2</td>\n",
       "    </tr>\n",
       "  </tbody>\n",
       "</table>\n",
       "</div>"
      ],
      "text/plain": [
       "  ville  janv  fev  mars  avril   mai  juin  juil  aout  sept   oct   nov  dec\n",
       "0  ajac   7.7  8.7  10.5   12.6  15.9  19.8  22.0  22.2  20.3  16.3  11.8  8.7\n",
       "1  ange   4.2  4.9   7.9   10.4  13.6  17.0  18.7  18.4  16.1  11.7   7.6  4.9\n",
       "2  ango   4.6  5.4   8.9   11.3  14.5  17.2  19.5  19.4  16.9  12.5   8.1  5.3\n",
       "3  besa   1.1  2.2   6.4    9.7  13.6  16.9  18.7  18.3  15.5  10.4   5.7  2.0\n",
       "4  biar   7.6  8.0  10.8   12.0  14.7  17.8  19.7  19.9  18.5  14.8  10.9  8.2"
      ]
     },
     "execution_count": 5,
     "metadata": {},
     "output_type": "execute_result"
    }
   ],
   "source": [
    "data1.head() #première visualisation"
   ]
  },
  {
   "cell_type": "code",
   "execution_count": 6,
   "id": "64d8e8a5-040d-45d6-bd14-36a2fb79a661",
   "metadata": {},
   "outputs": [],
   "source": [
    "# Question 2"
   ]
  },
  {
   "cell_type": "code",
   "execution_count": 7,
   "id": "e31a5afb-8ce4-49db-895a-e7cc4fddc898",
   "metadata": {},
   "outputs": [],
   "source": [
    "from sklearn.preprocessing import StandardScaler\n",
    "x1 = StandardScaler().fit_transform(X1) #normalizing the features"
   ]
  },
  {
   "cell_type": "code",
   "execution_count": 8,
   "id": "39f08689-7275-4d39-b6c8-df5f67e6ff98",
   "metadata": {},
   "outputs": [
    {
     "name": "stdout",
     "output_type": "stream",
     "text": [
      "[0.87268193 0.11720602]\n"
     ]
    }
   ],
   "source": [
    "from sklearn.decomposition import PCA\n",
    "pca1 = PCA(n_components=0.9) #modèle\n",
    "X_pca1 = pca1.fit_transform(x1) #fit\n",
    "print(pca1.explained_variance_ratio_) #affichage de la variance expliquée par nos deux composantes"
   ]
  },
  {
   "cell_type": "code",
   "execution_count": 9,
   "id": "80d3aebf-81de-42ab-804a-790c7052b906",
   "metadata": {},
   "outputs": [
    {
     "data": {
      "text/plain": [
       "array([[ 0.27151028,  0.28846164,  0.3010811 ,  0.30354174,  0.28353089,\n",
       "         0.27841907,  0.27290295,  0.28757774,  0.30472022,  0.3038548 ,\n",
       "         0.29242808,  0.2729549 ],\n",
       "       [ 0.39933494,  0.29907184,  0.12943051, -0.11530598, -0.32314291,\n",
       "        -0.35846763, -0.38879639, -0.3010133 , -0.11231622,  0.12249226,\n",
       "         0.26269461,  0.38693688]])"
      ]
     },
     "execution_count": 9,
     "metadata": {},
     "output_type": "execute_result"
    }
   ],
   "source": [
    "pca1.components_ #affichage des vecteurs composantes"
   ]
  },
  {
   "cell_type": "markdown",
   "id": "190bc123-3b89-485a-9cd5-977f40998727",
   "metadata": {},
   "source": [
    "On retient donc deux axes"
   ]
  },
  {
   "cell_type": "markdown",
   "id": "c1c130f8-87a5-4059-a872-d6b8c031511f",
   "metadata": {},
   "source": [
    "Chaque axe est le résultat d'une combinaison linéaire entre le array et nos données"
   ]
  },
  {
   "cell_type": "code",
   "execution_count": 10,
   "id": "a7bd6629-c51e-438c-9080-e5d3b887c524",
   "metadata": {},
   "outputs": [
    {
     "data": {
      "image/png": "[encoded data removed]",
      "text/plain": [
       "<Figure size 432x288 with 1 Axes>"
      ]
     },
     "metadata": {
      "needs_background": "light"
     },
     "output_type": "display_data"
    }
   ],
   "source": [
    "import matplotlib\n",
    "plt.scatter(X_pca1[:, 0], X_pca1[:, 1])\n",
    "for label, x, y in zip(labels1, X_pca1[:, 0], X_pca1[:, 1]):\n",
    "    plt.annotate(label, xy=(x, y), xytext=(-0.2, 0.2), textcoords='offset points')\n",
    "plt.show()"
   ]
  },
  {
   "cell_type": "markdown",
   "id": "ca8bd022-46f3-49ae-a9cc-6d7031f8fadd",
   "metadata": {},
   "source": [
    "On pourrait supposer que l'axe X soit un axe Nord/Sud (ou froid/chaud) car il sépare les villes en fonction de leur température :\n",
    "\n",
    "Une valeur négative pour les villes plutôt froides et une positive pour les villes plutôt chaudes par rapport à la moyenne des autres villes.\n",
    "\n",
    "L'axe Y pourrait quand à lui être un indicateur des variations de températures au cours de l'année :\n",
    "\n",
    "Une valeur négative indique de fortes variations de températures tandis qu'une positive indique un climat plus modéré\n",
    "\n",
    "En regardant le vecteur array précédent, nous remarquons que les valeurs de l'hiver ont une influence positive sur l'axe Y tandis que les valeurs prises en été ont une influence négative."
   ]
  },
  {
   "cell_type": "code",
   "execution_count": null,
   "id": "adc3a1c5-d049-4cc1-a855-d084e338ec51",
   "metadata": {},
   "outputs": [],
   "source": []
  },
  {
   "cell_type": "code",
   "execution_count": null,
   "id": "b491436a-0512-498a-9340-45c73f34d6ff",
   "metadata": {},
   "outputs": [],
   "source": []
  },
  {
   "cell_type": "code",
   "execution_count": 11,
   "id": "d2824ddf-ea1b-4221-9547-dc015adb50ca",
   "metadata": {},
   "outputs": [],
   "source": [
    "# Question 3"
   ]
  },
  {
   "cell_type": "code",
   "execution_count": 12,
   "id": "341866d9-cd96-4b6e-aa8e-d37e0ddbdc86",
   "metadata": {},
   "outputs": [],
   "source": [
    "# Crimes ####"
   ]
  },
  {
   "cell_type": "code",
   "execution_count": 13,
   "id": "564466a5-02a8-4015-971e-4c3d06d3d50c",
   "metadata": {
    "tags": []
   },
   "outputs": [],
   "source": [
    "data2 = pd.read_csv('./crimes.csv', sep=';')\n",
    "X2 = data2.iloc[:, 1:8].values\n",
    "labels2 = data2.iloc[:, 0].values"
   ]
  },
  {
   "cell_type": "code",
   "execution_count": 14,
   "id": "26810c39-99cd-410e-94c0-cd04c95ef705",
   "metadata": {},
   "outputs": [
    {
     "data": {
      "text/html": [
       "<div>\n",
       "<style scoped>\n",
       "    .dataframe tbody tr th:only-of-type {\n",
       "        vertical-align: middle;\n",
       "    }\n",
       "\n",
       "    .dataframe tbody tr th {\n",
       "        vertical-align: top;\n",
       "    }\n",
       "\n",
       "    .dataframe thead th {\n",
       "        text-align: right;\n",
       "    }\n",
       "</style>\n",
       "<table border=\"1\" class=\"dataframe\">\n",
       "  <thead>\n",
       "    <tr style=\"text-align: right;\">\n",
       "      <th></th>\n",
       "      <th>Etat</th>\n",
       "      <th>Meutre</th>\n",
       "      <th>Rapt</th>\n",
       "      <th>Vol</th>\n",
       "      <th>Attaque</th>\n",
       "      <th>Viol</th>\n",
       "      <th>Larcin</th>\n",
       "      <th>Auto_Theft</th>\n",
       "    </tr>\n",
       "  </thead>\n",
       "  <tbody>\n",
       "    <tr>\n",
       "      <th>0</th>\n",
       "      <td>Alabama</td>\n",
       "      <td>14.2</td>\n",
       "      <td>25.2</td>\n",
       "      <td>96.8</td>\n",
       "      <td>278.3</td>\n",
       "      <td>1135.5</td>\n",
       "      <td>1881.9</td>\n",
       "      <td>280.7</td>\n",
       "    </tr>\n",
       "    <tr>\n",
       "      <th>1</th>\n",
       "      <td>Alaska</td>\n",
       "      <td>10.8</td>\n",
       "      <td>51.6</td>\n",
       "      <td>96.8</td>\n",
       "      <td>284.0</td>\n",
       "      <td>1331.7</td>\n",
       "      <td>3369.8</td>\n",
       "      <td>753.3</td>\n",
       "    </tr>\n",
       "    <tr>\n",
       "      <th>2</th>\n",
       "      <td>Arizona</td>\n",
       "      <td>9.5</td>\n",
       "      <td>34.2</td>\n",
       "      <td>138.2</td>\n",
       "      <td>312.3</td>\n",
       "      <td>2346.1</td>\n",
       "      <td>4467.4</td>\n",
       "      <td>439.5</td>\n",
       "    </tr>\n",
       "    <tr>\n",
       "      <th>3</th>\n",
       "      <td>Arkansas</td>\n",
       "      <td>8.8</td>\n",
       "      <td>27.6</td>\n",
       "      <td>83.2</td>\n",
       "      <td>203.4</td>\n",
       "      <td>972.6</td>\n",
       "      <td>1862.1</td>\n",
       "      <td>183.4</td>\n",
       "    </tr>\n",
       "    <tr>\n",
       "      <th>4</th>\n",
       "      <td>California</td>\n",
       "      <td>11.5</td>\n",
       "      <td>49.4</td>\n",
       "      <td>287.0</td>\n",
       "      <td>358.0</td>\n",
       "      <td>2139.4</td>\n",
       "      <td>3499.8</td>\n",
       "      <td>663.5</td>\n",
       "    </tr>\n",
       "  </tbody>\n",
       "</table>\n",
       "</div>"
      ],
      "text/plain": [
       "        Etat   Meutre  Rapt    Vol  Attaque    Viol  Larcin  Auto_Theft\n",
       "0     Alabama    14.2  25.2   96.8    278.3  1135.5  1881.9       280.7\n",
       "1      Alaska    10.8  51.6   96.8    284.0  1331.7  3369.8       753.3\n",
       "2     Arizona     9.5  34.2  138.2    312.3  2346.1  4467.4       439.5\n",
       "3    Arkansas     8.8  27.6   83.2    203.4   972.6  1862.1       183.4\n",
       "4  California    11.5  49.4  287.0    358.0  2139.4  3499.8       663.5"
      ]
     },
     "execution_count": 14,
     "metadata": {},
     "output_type": "execute_result"
    }
   ],
   "source": [
    "data2.head()"
   ]
  },
  {
   "cell_type": "code",
   "execution_count": 15,
   "id": "40320fdc-fa42-41c1-9c36-ae73f0f312a8",
   "metadata": {},
   "outputs": [
    {
     "name": "stdout",
     "output_type": "stream",
     "text": [
      "[0.58785136 0.17696026 0.10368809 0.04520458]\n"
     ]
    },
    {
     "data": {
      "image/png": "[encoded data removed]",
      "text/plain": [
       "<Figure size 432x288 with 1 Axes>"
      ]
     },
     "metadata": {
      "needs_background": "light"
     },
     "output_type": "display_data"
    }
   ],
   "source": [
    "x2 = StandardScaler().fit_transform(X2)\n",
    "pca2 = PCA(n_components=0.9)\n",
    "X_pca2 = pca2.fit_transform(x2)\n",
    "print(pca2.explained_variance_ratio_)\n",
    "plt.scatter(X_pca2[:, 0], X_pca2[:, 1])\n",
    "for label, x, y in zip(labels2, X_pca2[:, 0], X_pca2[:, 1]):\n",
    "    plt.annotate(label, xy=(x, y), xytext=(-0.2, 0.2), textcoords='offset points')\n",
    "plt.show()"
   ]
  },
  {
   "cell_type": "code",
   "execution_count": 16,
   "id": "5bba4f8a-883f-40f5-a186-efee6cd4eb8a",
   "metadata": {},
   "outputs": [
    {
     "data": {
      "text/plain": [
       "array([[ 0.30027916,  0.43175936,  0.39687549,  0.3966517 ,  0.44015721,\n",
       "         0.35735953,  0.29517681],\n",
       "       [-0.62917444, -0.16943512,  0.04224698, -0.34352815,  0.20334059,\n",
       "         0.40231912,  0.50242093],\n",
       "       [ 0.1782453 , -0.24419758,  0.49586087, -0.06950972, -0.20989509,\n",
       "        -0.53923144,  0.56838373],\n",
       "       [-0.23211411,  0.06221567, -0.55798926,  0.62980445, -0.05755491,\n",
       "        -0.23488987,  0.41923832]])"
      ]
     },
     "execution_count": 16,
     "metadata": {},
     "output_type": "execute_result"
    }
   ],
   "source": [
    "pca2.components_"
   ]
  },
  {
   "cell_type": "markdown",
   "id": "61c19dcd-69d5-4c9f-b20a-c15f9fb666a2",
   "metadata": {},
   "source": [
    "Cette fois nous gardons donc 4 axes"
   ]
  },
  {
   "cell_type": "markdown",
   "id": "e98eb433-f3ae-40ee-8297-9bf583ac7011",
   "metadata": {},
   "source": [
    "Comme précédemment, la première composante serait une composante de taille, c'est-à-dire un indicateur sur l'intensité des crimes commis dans une ville. À droite les villes à forte criminalité, à gauche celles à faibles criminalité (par rapport à la moyenne).\n",
    "\n",
    "La deuxième composante serait quant à elle une composante de forme, ici elle indiquerait la nature plus ou moins \"grave\" des crimes commis (en haut une forte intensité des crimes les moins graves et en bas ceux les plus graves).\n",
    "\n",
    "Les deux composantes suivantes n'apportent pas grand chose."
   ]
  },
  {
   "cell_type": "code",
   "execution_count": null,
   "id": "5aab5a28-f546-480f-a58c-6e6d5b790096",
   "metadata": {},
   "outputs": [],
   "source": []
  },
  {
   "cell_type": "code",
   "execution_count": null,
   "id": "453f5c9f-d3c5-4ce5-9685-d801a0ced1f0",
   "metadata": {},
   "outputs": [],
   "source": []
  },
  {
   "cell_type": "code",
   "execution_count": 17,
   "id": "e4f0a789-9c2f-4989-b768-9dfbec05e2bd",
   "metadata": {},
   "outputs": [],
   "source": [
    "# Question 4"
   ]
  },
  {
   "cell_type": "code",
   "execution_count": 18,
   "id": "bcf1b42d-ce1d-434e-82f7-dae0d96ee54c",
   "metadata": {},
   "outputs": [],
   "source": [
    "# 50_Startups ####"
   ]
  },
  {
   "cell_type": "code",
   "execution_count": 19,
   "id": "8ed269e1-f282-47dc-a3b0-0e7d68bffa03",
   "metadata": {},
   "outputs": [
    {
     "data": {
      "text/html": [
       "<div>\n",
       "<style scoped>\n",
       "    .dataframe tbody tr th:only-of-type {\n",
       "        vertical-align: middle;\n",
       "    }\n",
       "\n",
       "    .dataframe tbody tr th {\n",
       "        vertical-align: top;\n",
       "    }\n",
       "\n",
       "    .dataframe thead th {\n",
       "        text-align: right;\n",
       "    }\n",
       "</style>\n",
       "<table border=\"1\" class=\"dataframe\">\n",
       "  <thead>\n",
       "    <tr style=\"text-align: right;\">\n",
       "      <th></th>\n",
       "      <th>Id</th>\n",
       "      <th>Depenses R&amp;D</th>\n",
       "      <th>Depenses Administration</th>\n",
       "      <th>Depenses Marketing Spend</th>\n",
       "      <th>Benefice</th>\n",
       "    </tr>\n",
       "  </thead>\n",
       "  <tbody>\n",
       "    <tr>\n",
       "      <th>0</th>\n",
       "      <td>1</td>\n",
       "      <td>165349.20</td>\n",
       "      <td>136897.80</td>\n",
       "      <td>471784.10</td>\n",
       "      <td>192261.83</td>\n",
       "    </tr>\n",
       "    <tr>\n",
       "      <th>1</th>\n",
       "      <td>2</td>\n",
       "      <td>162597.70</td>\n",
       "      <td>151377.59</td>\n",
       "      <td>443898.53</td>\n",
       "      <td>191792.06</td>\n",
       "    </tr>\n",
       "    <tr>\n",
       "      <th>2</th>\n",
       "      <td>3</td>\n",
       "      <td>153441.51</td>\n",
       "      <td>101145.55</td>\n",
       "      <td>407934.54</td>\n",
       "      <td>191050.39</td>\n",
       "    </tr>\n",
       "    <tr>\n",
       "      <th>3</th>\n",
       "      <td>4</td>\n",
       "      <td>144372.41</td>\n",
       "      <td>118671.85</td>\n",
       "      <td>383199.62</td>\n",
       "      <td>182901.99</td>\n",
       "    </tr>\n",
       "    <tr>\n",
       "      <th>4</th>\n",
       "      <td>5</td>\n",
       "      <td>142107.34</td>\n",
       "      <td>91391.77</td>\n",
       "      <td>366168.42</td>\n",
       "      <td>166187.94</td>\n",
       "    </tr>\n",
       "  </tbody>\n",
       "</table>\n",
       "</div>"
      ],
      "text/plain": [
       "   Id  Depenses R&D  Depenses Administration  Depenses Marketing Spend  \\\n",
       "0   1     165349.20                136897.80                 471784.10   \n",
       "1   2     162597.70                151377.59                 443898.53   \n",
       "2   3     153441.51                101145.55                 407934.54   \n",
       "3   4     144372.41                118671.85                 383199.62   \n",
       "4   5     142107.34                 91391.77                 366168.42   \n",
       "\n",
       "    Benefice  \n",
       "0  192261.83  \n",
       "1  191792.06  \n",
       "2  191050.39  \n",
       "3  182901.99  \n",
       "4  166187.94  "
      ]
     },
     "execution_count": 19,
     "metadata": {},
     "output_type": "execute_result"
    }
   ],
   "source": [
    "data3 = pd.read_csv('./50_Startups.csv', sep=';')\n",
    "X3 = data3.iloc[:, 1:5].values\n",
    "labels3 = data3.iloc[:, 0].values\n",
    "data3.head()"
   ]
  },
  {
   "cell_type": "code",
   "execution_count": 20,
   "id": "189090e3-45fd-450e-b828-f26b867bad65",
   "metadata": {},
   "outputs": [
    {
     "name": "stdout",
     "output_type": "stream",
     "text": [
      "[0.66804393 0.25484695]\n"
     ]
    },
    {
     "data": {
      "image/png": "[encoded data removed]",
      "text/plain": [
       "<Figure size 432x288 with 1 Axes>"
      ]
     },
     "metadata": {
      "needs_background": "light"
     },
     "output_type": "display_data"
    }
   ],
   "source": [
    "x3 = StandardScaler().fit_transform(X3)\n",
    "pca3 = PCA(n_components=0.9)\n",
    "X_pca3 = pca3.fit_transform(x3)\n",
    "print(pca3.explained_variance_ratio_)\n",
    "plt.scatter(X_pca3[:, 0], X_pca3[:, 1])\n",
    "for label, x, y in zip(labels3, X_pca3[:, 0], X_pca3[:, 1]):\n",
    "    plt.annotate(label, xy=(x, y), xytext=(-0.2, 0.2), textcoords='offset points')\n",
    "plt.show()"
   ]
  },
  {
   "cell_type": "code",
   "execution_count": 21,
   "id": "86732f09-97f2-4ebf-88bb-b1da38731b6f",
   "metadata": {},
   "outputs": [
    {
     "data": {
      "text/plain": [
       "array([[ 0.59347855,  0.14737886,  0.52064694,  0.59580992],\n",
       "       [-0.04048087, -0.95051314,  0.30797098,  0.00632069]])"
      ]
     },
     "execution_count": 21,
     "metadata": {},
     "output_type": "execute_result"
    }
   ],
   "source": [
    "pca3.components_"
   ]
  },
  {
   "cell_type": "markdown",
   "id": "4e2af807-281d-4456-a08c-16c1e931359c",
   "metadata": {},
   "source": [
    "Ici nous gardons deux axes"
   ]
  },
  {
   "cell_type": "markdown",
   "id": "71ca8087-ceec-4f5d-a0bb-00e3506e58f5",
   "metadata": {},
   "source": [
    "La première composante peut être interprétée comme un indicateur de performance globale de l'entreprise : chaque variable lui est corrélée positivement. Ici aussi c'est donc une composante de taille.\n",
    "\n",
    "La seconde composante est quand à elle une composante de forme : elle indique la stratégie de l'entreprise avec en bas les entreprises axées R&D ou administration tandis qu'en haut seront représentées celles qui s'orientent plutôt vers le marketing."
   ]
  },
  {
   "cell_type": "markdown",
   "id": "01ce1ef8-dd50-4432-9a16-20c32fdf7e0b",
   "metadata": {},
   "source": [
    "# II. Clustering ####"
   ]
  },
  {
   "cell_type": "code",
   "execution_count": 22,
   "id": "d50e6043-bf9f-4cdc-a9ff-53295c46147e",
   "metadata": {},
   "outputs": [],
   "source": [
    "from sklearn.cluster import KMeans\n",
    "from sklearn.cluster import AgglomerativeClustering\n",
    "from sklearn import metrics\n",
    "from sklearn.metrics import silhouette_score"
   ]
  },
  {
   "cell_type": "code",
   "execution_count": 23,
   "id": "74c54431-9c81-4ea1-82e4-dd33a938b2f6",
   "metadata": {},
   "outputs": [],
   "source": [
    "# Question 1"
   ]
  },
  {
   "cell_type": "code",
   "execution_count": 24,
   "id": "add4d79e-a3d3-4e79-988a-e6a712830d97",
   "metadata": {},
   "outputs": [
    {
     "data": {
      "image/png": "[encoded data removed]",
      "text/plain": [
       "<Figure size 432x288 with 1 Axes>"
      ]
     },
     "metadata": {
      "needs_background": "light"
     },
     "output_type": "display_data"
    }
   ],
   "source": [
    "kmeans = KMeans(n_clusters=3)\n",
    "kmeans.fit(x1)\n",
    "clustering = kmeans.predict(x1)\n",
    "\n",
    "colors = ['red','blue','pink']\n",
    "plt.scatter(X_pca1[:, 0], X_pca1[:, 1], c= clustering, cmap=matplotlib.colors.ListedColormap(colors))\n",
    "for label, x, y in zip(labels1, X_pca1[:, 0], X_pca1[:, 1]):\n",
    "    plt.annotate(label, xy=(x, y), xytext=(-0.2, 0.2), textcoords='offset points')\n",
    "plt.show()"
   ]
  },
  {
   "cell_type": "code",
   "execution_count": 25,
   "id": "7dd6a6bb-d0da-4438-8028-797c04db139d",
   "metadata": {},
   "outputs": [
    {
     "name": "stdout",
     "output_type": "stream",
     "text": [
      "Score avec Kmeans : 0.38592443493051315\n"
     ]
    }
   ],
   "source": [
    "score1 = metrics.silhouette_score(x1, clustering,metric='euclidean')\n",
    "print(f'Score avec Kmeans : {score1}')"
   ]
  },
  {
   "cell_type": "code",
   "execution_count": 26,
   "id": "b71e86fd-b57c-4406-becf-f3d123203604",
   "metadata": {},
   "outputs": [],
   "source": [
    "# Question 2"
   ]
  },
  {
   "cell_type": "code",
   "execution_count": 27,
   "id": "ee00ddb0-c58d-494f-8a97-bc4bf923d0a1",
   "metadata": {},
   "outputs": [],
   "source": [
    "# AC ward ####"
   ]
  },
  {
   "cell_type": "code",
   "execution_count": 28,
   "id": "ed0c1c22-183e-4774-a039-e5636ad8a727",
   "metadata": {},
   "outputs": [
    {
     "data": {
      "image/png": "[encoded data removed]",
      "text/plain": [
       "<Figure size 432x288 with 1 Axes>"
      ]
     },
     "metadata": {
      "needs_background": "light"
     },
     "output_type": "display_data"
    }
   ],
   "source": [
    "ACw = AgglomerativeClustering(n_clusters=3,linkage='ward')\n",
    "clustering = ACw.fit_predict(x1)\n",
    "\n",
    "colors = ['red','blue','pink']\n",
    "plt.scatter(X_pca1[:, 0], X_pca1[:, 1], c= clustering, cmap=matplotlib.colors.ListedColormap(colors))\n",
    "for label, x, y in zip(labels1, X_pca1[:, 0], X_pca1[:, 1]):\n",
    "    plt.annotate(label, xy=(x, y), xytext=(-0.2, 0.2), textcoords='offset points')\n",
    "plt.show()"
   ]
  },
  {
   "cell_type": "code",
   "execution_count": 29,
   "id": "45980c99-878f-466a-a1a5-0685a6398bcd",
   "metadata": {},
   "outputs": [
    {
     "name": "stdout",
     "output_type": "stream",
     "text": [
      "Score avec AgglomerativeClustering Ward : 0.36807826080005457\n"
     ]
    }
   ],
   "source": [
    "score2 = metrics.silhouette_score(x1, clustering,metric='euclidean')\n",
    "print(f'Score avec AgglomerativeClustering Ward : {score2}')"
   ]
  },
  {
   "cell_type": "code",
   "execution_count": 30,
   "id": "cdd6c52a-38c8-4e86-bac3-60ef526e74da",
   "metadata": {},
   "outputs": [],
   "source": [
    "# AC average ####"
   ]
  },
  {
   "cell_type": "code",
   "execution_count": 31,
   "id": "d71dbddd-9422-4564-987c-bf006caa9633",
   "metadata": {},
   "outputs": [
    {
     "data": {
      "image/png": "[encoded data removed]",
      "text/plain": [
       "<Figure size 432x288 with 1 Axes>"
      ]
     },
     "metadata": {
      "needs_background": "light"
     },
     "output_type": "display_data"
    }
   ],
   "source": [
    "ACa = AgglomerativeClustering(n_clusters=3,linkage='average')\n",
    "clustering = ACa.fit_predict(x1)\n",
    "\n",
    "colors = ['red','blue','pink']\n",
    "plt.scatter(X_pca1[:, 0], X_pca1[:, 1], c= clustering, cmap=matplotlib.colors.ListedColormap(colors))\n",
    "for label, x, y in zip(labels1, X_pca1[:, 0], X_pca1[:, 1]):\n",
    "    plt.annotate(label, xy=(x, y), xytext=(-0.2, 0.2), textcoords='offset points')\n",
    "plt.show()"
   ]
  },
  {
   "cell_type": "code",
   "execution_count": 32,
   "id": "855bf91f-22be-4af0-b479-9ed54fdc09de",
   "metadata": {},
   "outputs": [
    {
     "name": "stdout",
     "output_type": "stream",
     "text": [
      "Score avec AgglomerativeClustering Average : 0.49568744626910916\n"
     ]
    }
   ],
   "source": [
    "score3 = metrics.silhouette_score(x1, clustering,metric='euclidean')\n",
    "print(f'Score avec AgglomerativeClustering Average : {score3}')"
   ]
  },
  {
   "cell_type": "code",
   "execution_count": 33,
   "id": "f69bbac9-608f-44be-bab0-2eac328dd082",
   "metadata": {},
   "outputs": [],
   "source": [
    "# Question 3"
   ]
  },
  {
   "cell_type": "code",
   "execution_count": 37,
   "id": "91e6ff74-5d29-4d51-b893-591e365041c1",
   "metadata": {},
   "outputs": [],
   "source": [
    "#?metrics.silhouette_score"
   ]
  },
  {
   "cell_type": "markdown",
   "id": "c16eec43-9e69-4e5d-9675-410e1e9432ef",
   "metadata": {},
   "source": [
    "Documentation sur le score\n",
    "\n",
    "The Silhouette Coefficient is calculated using the mean intra-cluster\n",
    "distance (``a``) and the mean nearest-cluster distance (``b``) for each\n",
    "sample.  The Silhouette Coefficient for a sample is ``(b - a) / max(a,\n",
    "b)``.  To clarify, ``b`` is the distance between a sample and the nearest\n",
    "cluster that the sample is not a part of.\n",
    "Note that Silhouette Coefficient is only defined if number of labels\n",
    "is ``2 <= n_labels <= n_samples - 1``.\n",
    "\n",
    "This function returns the mean Silhouette Coefficient over all samples.\n",
    "To obtain the values for each sample, use :func:`silhouette_samples`.\n",
    "\n",
    "The best value is 1 and the worst value is -1. Values near 0 indicate\n",
    "overlapping clusters. Negative values generally indicate that a sample has\n",
    "been assigned to the wrong cluster, as a different cluster is more similar.\n",
    "\n",
    "Nous cherchons à obtenir une distance maximale entre chaque point et le cluster le plus proche dont il ne fait pas partie, ainsi qu'une distance minimale entre les points d'un même cluster."
   ]
  },
  {
   "cell_type": "code",
   "execution_count": 34,
   "id": "9f335e96-60a5-4cf0-9669-1e5950bfc510",
   "metadata": {},
   "outputs": [
    {
     "name": "stdout",
     "output_type": "stream",
     "text": [
      "0.6181156437258195\n",
      "\n",
      "0.3997417097231568\n",
      "\n",
      "0.35300577123355753\n",
      "\n",
      "0.3131361411020844\n",
      "\n"
     ]
    }
   ],
   "source": [
    "for i in np.arange(2, 6):\n",
    "    clustering = KMeans(n_clusters=i).fit_predict(x1)\n",
    "    print(metrics.silhouette_score(X1, clustering,metric='euclidean'))\n",
    "    print()"
   ]
  },
  {
   "cell_type": "markdown",
   "id": "cfbb44df-cd18-4e7e-a5aa-85164b8060af",
   "metadata": {},
   "source": [
    "La meilleure partition est la première c'est-à-dire celle pour obtenir 2 classes"
   ]
  },
  {
   "cell_type": "code",
   "execution_count": 35,
   "id": "06a2bc46-30e3-4f33-ae01-2b53ec5ec964",
   "metadata": {},
   "outputs": [],
   "source": [
    "# Question 4"
   ]
  },
  {
   "cell_type": "code",
   "execution_count": 36,
   "id": "7723690f-e364-4b00-9131-4c81d6109544",
   "metadata": {},
   "outputs": [
    {
     "name": "stdout",
     "output_type": "stream",
     "text": [
      "Score avec Kmeans : 0.38592443493051315\n",
      "Score avec AggloClustering Ward : 0.36807826080005457\n",
      "Score avec AggloClustering Average :0.49568744626910916\n"
     ]
    }
   ],
   "source": [
    "print(f'Score avec Kmeans : {score1}\\nScore avec AggloClustering Ward : {score2}\\nScore avec AggloClustering Average :{score3}')"
   ]
  },
  {
   "cell_type": "markdown",
   "id": "146d6591-529c-4890-b82d-d4f128bf38eb",
   "metadata": {},
   "source": [
    "Ainsi le meilleur algo est le troisième (AggloClustering Average) avec une accuracy d'environ 0.496"
   ]
  }
 ],
 "metadata": {
  "kernelspec": {
   "display_name": "Python 3 (ipykernel)",
   "language": "python",
   "name": "python3"
  },
  "language_info": {
   "codemirror_mode": {
    "name": "ipython",
    "version": 3
   },
   "file_extension": ".py",
   "mimetype": "text/x-python",
   "name": "python",
   "nbconvert_exporter": "python",
   "pygments_lexer": "ipython3",
   "version": "3.10.6"
  }
 },
 "nbformat": 4,
 "nbformat_minor": 5
}
