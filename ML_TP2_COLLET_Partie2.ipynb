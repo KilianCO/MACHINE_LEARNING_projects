{
 "cells": [
  {
   "cell_type": "markdown",
   "id": "9a052c9f-5fca-4e47-8414-b3007541ea9a",
   "metadata": {},
   "source": [
    "# Kilian COLLET ####"
   ]
  },
  {
   "cell_type": "markdown",
   "id": "d45a70cb-bcfc-401b-9278-e445300fddc8",
   "metadata": {
    "tags": []
   },
   "source": [
    "# TP 2 ####"
   ]
  },
  {
   "cell_type": "code",
   "execution_count": 2,
   "id": "84b9a5ff-ef1b-438f-ab33-cf967b9fe68a",
   "metadata": {},
   "outputs": [
    {
     "name": "stderr",
     "output_type": "stream",
     "text": [
      "2023-01-03 16:10:16.327370: W tensorflow/stream_executor/platform/default/dso_loader.cc:64] Could not load dynamic library 'libcudart.so.11.0'; dlerror: libcudart.so.11.0: cannot open shared object file: No such file or directory\n",
      "2023-01-03 16:10:16.327497: I tensorflow/stream_executor/cuda/cudart_stub.cc:29] Ignore above cudart dlerror if you do not have a GPU set up on your machine.\n",
      "2023-01-03 16:10:16.423928: E tensorflow/stream_executor/cuda/cuda_blas.cc:2981] Unable to register cuBLAS factory: Attempting to register factory for plugin cuBLAS when one has already been registered\n",
      "2023-01-03 16:10:17.863418: W tensorflow/stream_executor/platform/default/dso_loader.cc:64] Could not load dynamic library 'libnvinfer.so.7'; dlerror: libnvinfer.so.7: cannot open shared object file: No such file or directory\n",
      "2023-01-03 16:10:17.863630: W tensorflow/stream_executor/platform/default/dso_loader.cc:64] Could not load dynamic library 'libnvinfer_plugin.so.7'; dlerror: libnvinfer_plugin.so.7: cannot open shared object file: No such file or directory\n",
      "2023-01-03 16:10:17.863654: W tensorflow/compiler/tf2tensorrt/utils/py_utils.cc:38] TF-TRT Warning: Cannot dlopen some TensorRT libraries. If you would like to use Nvidia GPU with TensorRT, please make sure the missing libraries mentioned above are installed properly.\n"
     ]
    }
   ],
   "source": [
    "import numpy as np\n",
    "np.set_printoptions(threshold=10000,suppress=True)\n",
    "import pandas as pd\n",
    "import warnings\n",
    "import matplotlib.pyplot as plt\n",
    "warnings.filterwarnings('ignore')\n",
    "from sklearn import svm, datasets, tree\n",
    "from sklearn.metrics import accuracy_score, precision_score, fbeta_score, make_scorer, f1_score, recall_score\n",
    "from sklearn.ensemble import RandomForestClassifier, BaggingClassifier, AdaBoostClassifier\n",
    "from sklearn.neighbors import KNeighborsClassifier\n",
    "from sklearn.neural_network import MLPClassifier\n",
    "from sklearn.datasets import make_classification\n",
    "from sklearn.model_selection import train_test_split, GridSearchCV,  KFold, cross_val_score, cross_validate\n",
    "from sklearn.preprocessing import StandardScaler, MinMaxScaler, LabelEncoder, OrdinalEncoder, OneHotEncoder\n",
    "from sklearn.decomposition import PCA, TruncatedSVD\n",
    "from sklearn.pipeline import Pipeline\n",
    "from sklearn.naive_bayes import GaussianNB\n",
    "from sklearn.svm import SVC\n",
    "from sklearn.impute import SimpleImputer\n",
    "from sklearn.feature_extraction.text import CountVectorizer, TfidfTransformer\n",
    "from tensorflow.keras import Sequential\n",
    "from tensorflow.keras.layers import Embedding, Dense, GlobalAveragePooling1D\n",
    "import re\n",
    "from nltk.corpus import stopwords"
   ]
  },
  {
   "cell_type": "code",
   "execution_count": 3,
   "id": "da4bdd23-ab56-4ef7-a524-fd3b09af2177",
   "metadata": {},
   "outputs": [],
   "source": [
    "def run_classifiers(clfs, X, Y):\n",
    "    kf = KFold(n_splits = 10, shuffle = True, random_state = 0)\n",
    "    scores = {\"accuracy\": \"accuracy\", \"auc\": \"roc_auc\", \"precision\": \"precision\"}\n",
    "    for i in clfs:\n",
    "        clf = clfs[i]\n",
    "        cv_scores = cross_validate(clf, X, Y, cv = kf, scoring = scores)\n",
    "        print(\"Accuracy for {0} is: {1:.3f} +/- {2:.3f}\".format(i, np.mean(cv_scores[\"test_accuracy\"]), np.std(cv_scores[\"test_accuracy\"])))\n",
    "        print(\"AUC for {0} is: {1:.3f} +/- {2:.3f}\".format(i, np.mean(cv_scores[\"test_auc\"]), np.std(cv_scores[\"test_auc\"])))\n",
    "        print(\"Precision for {0} is: {1:.3f} +/- {2:.3f}\".format(i, np.mean(cv_scores[\"test_precision\"]), np.std(cv_scores[\"test_precision\"])))\n",
    "        print(\"Execution time for {0} is: {1:.3f} +/- {2:.3f}\\n\".format(i, np.mean(cv_scores[\"fit_time\"]), np.std(cv_scores[\"fit_time\"])))"
   ]
  },
  {
   "cell_type": "code",
   "execution_count": 4,
   "id": "1eb31144-4785-43f4-8870-a82ba9897556",
   "metadata": {},
   "outputs": [],
   "source": [
    "clfs = {\n",
    "     'RF': RandomForestClassifier(n_estimators=200, random_state=1),\n",
    "     'KNN': KNeighborsClassifier(n_neighbors=5),\n",
    "     'NBS': GaussianNB(),\n",
    "     'CART': tree.DecisionTreeClassifier(random_state = 1),\n",
    "     'ID3': tree.DecisionTreeClassifier(criterion = 'entropy',random_state = 1),\n",
    "     'DS': tree.DecisionTreeClassifier(max_depth=1, random_state = 1),\n",
    "     'MLP': MLPClassifier(hidden_layer_sizes=(50, 10), random_state=1),\n",
    "     'BC': BaggingClassifier(n_estimators=200, random_state=1),\n",
    "     'ADA': AdaBoostClassifier(n_estimators=200, random_state=1),\n",
    "     'SVC': SVC(),\n",
    "}"
   ]
  },
  {
   "cell_type": "markdown",
   "id": "2d2b15dd-0a71-40fc-839c-5c369d949aa6",
   "metadata": {},
   "source": [
    "# II. Apprentissage supervisé : Données hétérogènes ####"
   ]
  },
  {
   "cell_type": "code",
   "execution_count": 5,
   "id": "a5892538-ef7e-46cc-bdf1-46df663a92fe",
   "metadata": {},
   "outputs": [],
   "source": [
    "# Question 1"
   ]
  },
  {
   "cell_type": "code",
   "execution_count": 6,
   "id": "3a973f7a-d5de-416e-9574-d5cc3814b789",
   "metadata": {},
   "outputs": [],
   "source": [
    "data = pd.read_csv('./credit.data',sep='\\t', header=None)"
   ]
  },
  {
   "cell_type": "code",
   "execution_count": 7,
   "id": "7aff826b-6b19-496b-be35-9d183ef31bcd",
   "metadata": {},
   "outputs": [
    {
     "data": {
      "text/html": [
       "<div>\n",
       "<style scoped>\n",
       "    .dataframe tbody tr th:only-of-type {\n",
       "        vertical-align: middle;\n",
       "    }\n",
       "\n",
       "    .dataframe tbody tr th {\n",
       "        vertical-align: top;\n",
       "    }\n",
       "\n",
       "    .dataframe thead th {\n",
       "        text-align: right;\n",
       "    }\n",
       "</style>\n",
       "<table border=\"1\" class=\"dataframe\">\n",
       "  <thead>\n",
       "    <tr style=\"text-align: right;\">\n",
       "      <th></th>\n",
       "      <th>0</th>\n",
       "      <th>1</th>\n",
       "      <th>2</th>\n",
       "      <th>3</th>\n",
       "      <th>4</th>\n",
       "      <th>5</th>\n",
       "      <th>6</th>\n",
       "      <th>7</th>\n",
       "      <th>8</th>\n",
       "      <th>9</th>\n",
       "      <th>10</th>\n",
       "      <th>11</th>\n",
       "      <th>12</th>\n",
       "      <th>13</th>\n",
       "      <th>14</th>\n",
       "      <th>15</th>\n",
       "    </tr>\n",
       "  </thead>\n",
       "  <tbody>\n",
       "    <tr>\n",
       "      <th>0</th>\n",
       "      <td>b</td>\n",
       "      <td>30.83</td>\n",
       "      <td>0.000</td>\n",
       "      <td>u</td>\n",
       "      <td>g</td>\n",
       "      <td>w</td>\n",
       "      <td>v</td>\n",
       "      <td>1.25</td>\n",
       "      <td>t</td>\n",
       "      <td>t</td>\n",
       "      <td>1</td>\n",
       "      <td>f</td>\n",
       "      <td>g</td>\n",
       "      <td>202</td>\n",
       "      <td>0</td>\n",
       "      <td>+</td>\n",
       "    </tr>\n",
       "    <tr>\n",
       "      <th>1</th>\n",
       "      <td>a</td>\n",
       "      <td>58.67</td>\n",
       "      <td>4.460</td>\n",
       "      <td>u</td>\n",
       "      <td>g</td>\n",
       "      <td>q</td>\n",
       "      <td>h</td>\n",
       "      <td>3.04</td>\n",
       "      <td>t</td>\n",
       "      <td>t</td>\n",
       "      <td>6</td>\n",
       "      <td>f</td>\n",
       "      <td>g</td>\n",
       "      <td>43</td>\n",
       "      <td>560</td>\n",
       "      <td>+</td>\n",
       "    </tr>\n",
       "    <tr>\n",
       "      <th>2</th>\n",
       "      <td>a</td>\n",
       "      <td>24.50</td>\n",
       "      <td>0.500</td>\n",
       "      <td>u</td>\n",
       "      <td>g</td>\n",
       "      <td>q</td>\n",
       "      <td>h</td>\n",
       "      <td>1.50</td>\n",
       "      <td>t</td>\n",
       "      <td>f</td>\n",
       "      <td>0</td>\n",
       "      <td>f</td>\n",
       "      <td>g</td>\n",
       "      <td>280</td>\n",
       "      <td>824</td>\n",
       "      <td>+</td>\n",
       "    </tr>\n",
       "    <tr>\n",
       "      <th>3</th>\n",
       "      <td>b</td>\n",
       "      <td>27.83</td>\n",
       "      <td>1.540</td>\n",
       "      <td>u</td>\n",
       "      <td>g</td>\n",
       "      <td>w</td>\n",
       "      <td>v</td>\n",
       "      <td>3.75</td>\n",
       "      <td>t</td>\n",
       "      <td>t</td>\n",
       "      <td>5</td>\n",
       "      <td>t</td>\n",
       "      <td>g</td>\n",
       "      <td>100</td>\n",
       "      <td>3</td>\n",
       "      <td>+</td>\n",
       "    </tr>\n",
       "    <tr>\n",
       "      <th>4</th>\n",
       "      <td>b</td>\n",
       "      <td>20.17</td>\n",
       "      <td>5.625</td>\n",
       "      <td>u</td>\n",
       "      <td>g</td>\n",
       "      <td>w</td>\n",
       "      <td>v</td>\n",
       "      <td>1.71</td>\n",
       "      <td>t</td>\n",
       "      <td>f</td>\n",
       "      <td>0</td>\n",
       "      <td>f</td>\n",
       "      <td>s</td>\n",
       "      <td>120</td>\n",
       "      <td>0</td>\n",
       "      <td>+</td>\n",
       "    </tr>\n",
       "    <tr>\n",
       "      <th>...</th>\n",
       "      <td>...</td>\n",
       "      <td>...</td>\n",
       "      <td>...</td>\n",
       "      <td>...</td>\n",
       "      <td>...</td>\n",
       "      <td>...</td>\n",
       "      <td>...</td>\n",
       "      <td>...</td>\n",
       "      <td>...</td>\n",
       "      <td>...</td>\n",
       "      <td>...</td>\n",
       "      <td>...</td>\n",
       "      <td>...</td>\n",
       "      <td>...</td>\n",
       "      <td>...</td>\n",
       "      <td>...</td>\n",
       "    </tr>\n",
       "    <tr>\n",
       "      <th>683</th>\n",
       "      <td>b</td>\n",
       "      <td>21.08</td>\n",
       "      <td>10.085</td>\n",
       "      <td>y</td>\n",
       "      <td>p</td>\n",
       "      <td>e</td>\n",
       "      <td>h</td>\n",
       "      <td>1.25</td>\n",
       "      <td>f</td>\n",
       "      <td>f</td>\n",
       "      <td>0</td>\n",
       "      <td>f</td>\n",
       "      <td>g</td>\n",
       "      <td>260</td>\n",
       "      <td>0</td>\n",
       "      <td>-</td>\n",
       "    </tr>\n",
       "    <tr>\n",
       "      <th>684</th>\n",
       "      <td>a</td>\n",
       "      <td>22.67</td>\n",
       "      <td>0.750</td>\n",
       "      <td>u</td>\n",
       "      <td>g</td>\n",
       "      <td>c</td>\n",
       "      <td>v</td>\n",
       "      <td>2.00</td>\n",
       "      <td>f</td>\n",
       "      <td>t</td>\n",
       "      <td>2</td>\n",
       "      <td>t</td>\n",
       "      <td>g</td>\n",
       "      <td>200</td>\n",
       "      <td>394</td>\n",
       "      <td>-</td>\n",
       "    </tr>\n",
       "    <tr>\n",
       "      <th>685</th>\n",
       "      <td>a</td>\n",
       "      <td>25.25</td>\n",
       "      <td>13.500</td>\n",
       "      <td>y</td>\n",
       "      <td>p</td>\n",
       "      <td>ff</td>\n",
       "      <td>ff</td>\n",
       "      <td>2.00</td>\n",
       "      <td>f</td>\n",
       "      <td>t</td>\n",
       "      <td>1</td>\n",
       "      <td>t</td>\n",
       "      <td>g</td>\n",
       "      <td>200</td>\n",
       "      <td>1</td>\n",
       "      <td>-</td>\n",
       "    </tr>\n",
       "    <tr>\n",
       "      <th>686</th>\n",
       "      <td>b</td>\n",
       "      <td>17.92</td>\n",
       "      <td>0.205</td>\n",
       "      <td>u</td>\n",
       "      <td>g</td>\n",
       "      <td>aa</td>\n",
       "      <td>v</td>\n",
       "      <td>0.04</td>\n",
       "      <td>f</td>\n",
       "      <td>f</td>\n",
       "      <td>0</td>\n",
       "      <td>f</td>\n",
       "      <td>g</td>\n",
       "      <td>280</td>\n",
       "      <td>750</td>\n",
       "      <td>-</td>\n",
       "    </tr>\n",
       "    <tr>\n",
       "      <th>687</th>\n",
       "      <td>b</td>\n",
       "      <td>35.00</td>\n",
       "      <td>3.375</td>\n",
       "      <td>u</td>\n",
       "      <td>g</td>\n",
       "      <td>c</td>\n",
       "      <td>h</td>\n",
       "      <td>8.29</td>\n",
       "      <td>f</td>\n",
       "      <td>f</td>\n",
       "      <td>0</td>\n",
       "      <td>t</td>\n",
       "      <td>g</td>\n",
       "      <td>0</td>\n",
       "      <td>0</td>\n",
       "      <td>-</td>\n",
       "    </tr>\n",
       "  </tbody>\n",
       "</table>\n",
       "<p>688 rows × 16 columns</p>\n",
       "</div>"
      ],
      "text/plain": [
       "    0      1       2  3  4   5   6     7  8  9   10 11 12   13   14 15\n",
       "0    b  30.83   0.000  u  g   w   v  1.25  t  t   1  f  g  202    0  +\n",
       "1    a  58.67   4.460  u  g   q   h  3.04  t  t   6  f  g   43  560  +\n",
       "2    a  24.50   0.500  u  g   q   h  1.50  t  f   0  f  g  280  824  +\n",
       "3    b  27.83   1.540  u  g   w   v  3.75  t  t   5  t  g  100    3  +\n",
       "4    b  20.17   5.625  u  g   w   v  1.71  t  f   0  f  s  120    0  +\n",
       "..  ..    ...     ... .. ..  ..  ..   ... .. ..  .. .. ..  ...  ... ..\n",
       "683  b  21.08  10.085  y  p   e   h  1.25  f  f   0  f  g  260    0  -\n",
       "684  a  22.67   0.750  u  g   c   v  2.00  f  t   2  t  g  200  394  -\n",
       "685  a  25.25  13.500  y  p  ff  ff  2.00  f  t   1  t  g  200    1  -\n",
       "686  b  17.92   0.205  u  g  aa   v  0.04  f  f   0  f  g  280  750  -\n",
       "687  b  35.00   3.375  u  g   c   h  8.29  f  f   0  t  g    0    0  -\n",
       "\n",
       "[688 rows x 16 columns]"
      ]
     },
     "execution_count": 7,
     "metadata": {},
     "output_type": "execute_result"
    }
   ],
   "source": [
    "data"
   ]
  },
  {
   "cell_type": "code",
   "execution_count": 8,
   "id": "c28aed84-d451-4740-97eb-9a7ca9cbc29e",
   "metadata": {},
   "outputs": [],
   "source": [
    "# Transformer en numpyArray (c.f. values) et séparation\n",
    "X = data.iloc[:, :-1].values\n",
    "Y = data.iloc[:,-1].values"
   ]
  },
  {
   "cell_type": "code",
   "execution_count": 9,
   "id": "8380ea20-444c-45cf-9eb1-94085928b3b6",
   "metadata": {},
   "outputs": [
    {
     "name": "stdout",
     "output_type": "stream",
     "text": [
      "Nous avons 688 observations de 15 variables explicatives pour le jeu de données X\n"
     ]
    }
   ],
   "source": [
    "print(f'Nous avons {X.shape[0]} observations de {X.shape[1]} variables explicatives pour le jeu de données X') "
   ]
  },
  {
   "cell_type": "code",
   "execution_count": 10,
   "id": "5dcdee46-1d9b-4079-bb5a-f3f6d9f028a7",
   "metadata": {},
   "outputs": [],
   "source": [
    "# Isolement des variables num et remplacement des ? par nàn\n",
    "Xnum = X[:,[1,2,7,10,13,14]]\n",
    "Xnum = np.where(((Xnum != '?')), Xnum, np.nan)\n",
    "Xnum = Xnum.astype(float) # Passage en float"
   ]
  },
  {
   "cell_type": "code",
   "execution_count": 11,
   "id": "a61b0e2e-7cf2-4067-910d-4bb30f5ce765",
   "metadata": {},
   "outputs": [],
   "source": [
    "# Suppression des individus contenant des nàn sur au moins une variable\n",
    "Y = Y[~np.isnan(Xnum).any(axis=1)]\n",
    "Xnum = Xnum[~np.isnan(Xnum).any(axis=1), :]"
   ]
  },
  {
   "cell_type": "code",
   "execution_count": 12,
   "id": "848c62cc-af18-4bbd-a3a9-6b9e3902f81b",
   "metadata": {},
   "outputs": [
    {
     "name": "stdout",
     "output_type": "stream",
     "text": [
      "(666, 6)\n",
      "(666,)\n"
     ]
    }
   ],
   "source": [
    "# Taille des échantillons\n",
    "print(np.shape(Xnum))\n",
    "print(np.shape(Y))"
   ]
  },
  {
   "cell_type": "code",
   "execution_count": 13,
   "id": "e4d2f7a6-84f7-463e-8e14-e62b7d46083c",
   "metadata": {},
   "outputs": [
    {
     "data": {
      "text/plain": [
       "(array([299.,   0., 367.]),\n",
       " array([0.        , 0.33333333, 0.66666667, 1.        ]),\n",
       " <BarContainer object of 3 artists>)"
      ]
     },
     "execution_count": 13,
     "metadata": {},
     "output_type": "execute_result"
    },
    {
     "data": {
      "image/png": "[encoded data removed]",
      "text/plain": [
       "<Figure size 432x288 with 1 Axes>"
      ]
     },
     "metadata": {
      "needs_background": "light"
     },
     "output_type": "display_data"
    }
   ],
   "source": [
    "plt.hist(Y, bins = 3, color = 'orange', edgecolor = 'blue', hatch = '/')"
   ]
  },
  {
   "cell_type": "code",
   "execution_count": 14,
   "id": "2943322b-f13c-4111-8db6-71b0842f1c75",
   "metadata": {},
   "outputs": [],
   "source": [
    "# Binarisation de target\n",
    "Y = 1 - LabelEncoder().fit_transform(Y)"
   ]
  },
  {
   "cell_type": "code",
   "execution_count": 15,
   "id": "523ec0c1-5421-4e99-909e-52d50622035b",
   "metadata": {},
   "outputs": [
    {
     "name": "stdout",
     "output_type": "stream",
     "text": [
      "Accuracy for RF is: 0.760 +/- 0.051\n",
      "AUC for RF is: 0.844 +/- 0.044\n",
      "Precision for RF is: 0.769 +/- 0.099\n",
      "Execution time for RF is: 0.417 +/- 0.111\n",
      "\n",
      "Accuracy for KNN is: 0.649 +/- 0.093\n",
      "AUC for KNN is: 0.697 +/- 0.095\n",
      "Precision for KNN is: 0.645 +/- 0.102\n",
      "Execution time for KNN is: 0.001 +/- 0.000\n",
      "\n",
      "Accuracy for NBS is: 0.730 +/- 0.072\n",
      "AUC for NBS is: 0.807 +/- 0.050\n",
      "Precision for NBS is: 0.862 +/- 0.093\n",
      "Execution time for NBS is: 0.001 +/- 0.000\n",
      "\n",
      "Accuracy for CART is: 0.681 +/- 0.071\n",
      "AUC for CART is: 0.684 +/- 0.072\n",
      "Precision for CART is: 0.665 +/- 0.141\n",
      "Execution time for CART is: 0.002 +/- 0.000\n",
      "\n",
      "Accuracy for ID3 is: 0.699 +/- 0.079\n",
      "AUC for ID3 is: 0.697 +/- 0.078\n",
      "Precision for ID3 is: 0.687 +/- 0.131\n",
      "Execution time for ID3 is: 0.002 +/- 0.000\n",
      "\n",
      "Accuracy for DS is: 0.748 +/- 0.073\n",
      "AUC for DS is: 0.743 +/- 0.058\n",
      "Precision for DS is: 0.873 +/- 0.091\n",
      "Execution time for DS is: 0.001 +/- 0.000\n",
      "\n",
      "Accuracy for MLP is: 0.730 +/- 0.065\n",
      "AUC for MLP is: 0.807 +/- 0.030\n",
      "Precision for MLP is: 0.762 +/- 0.070\n",
      "Execution time for MLP is: 0.313 +/- 0.075\n",
      "\n",
      "Accuracy for BC is: 0.748 +/- 0.084\n",
      "AUC for BC is: 0.820 +/- 0.066\n",
      "Precision for BC is: 0.752 +/- 0.130\n",
      "Execution time for BC is: 0.491 +/- 0.008\n",
      "\n",
      "Accuracy for ADA is: 0.724 +/- 0.049\n",
      "AUC for ADA is: 0.774 +/- 0.062\n",
      "Precision for ADA is: 0.703 +/- 0.075\n",
      "Execution time for ADA is: 0.385 +/- 0.004\n",
      "\n",
      "Accuracy for SVC is: 0.664 +/- 0.079\n",
      "AUC for SVC is: 0.680 +/- 0.075\n",
      "Precision for SVC is: 0.838 +/- 0.160\n",
      "Execution time for SVC is: 0.006 +/- 0.001\n",
      "\n"
     ]
    }
   ],
   "source": [
    "Xnum_train, Xnum_test, Y_train, Y_test = train_test_split(Xnum, Y, train_size = 0.5, random_state = 1)\n",
    "run_classifiers(clfs, Xnum_train, Y_train)"
   ]
  },
  {
   "cell_type": "markdown",
   "id": "0ff852ba-9b0e-4e1d-a7a4-ea8497010a6b",
   "metadata": {},
   "source": [
    "Cette fois-ci, le modèle RF semble être le meilleur.\n",
    "Nous allons maintenant répéter le processus mais avec des donnés normalisées."
   ]
  },
  {
   "cell_type": "code",
   "execution_count": 15,
   "id": "94e5f5a6-08c3-4480-8c75-8f9ebd23de7d",
   "metadata": {},
   "outputs": [
    {
     "name": "stdout",
     "output_type": "stream",
     "text": [
      "Accuracy for RF is: 0.760 +/- 0.051\n",
      "AUC for RF is: 0.844 +/- 0.044\n",
      "Precision for RF is: 0.769 +/- 0.099\n",
      "Execution time for RF is: 0.419 +/- 0.008\n",
      "\n",
      "Accuracy for KNN is: 0.721 +/- 0.045\n",
      "AUC for KNN is: 0.780 +/- 0.061\n",
      "Precision for KNN is: 0.767 +/- 0.142\n",
      "Execution time for KNN is: 0.001 +/- 0.000\n",
      "\n",
      "Accuracy for NBS is: 0.730 +/- 0.072\n",
      "AUC for NBS is: 0.807 +/- 0.050\n",
      "Precision for NBS is: 0.862 +/- 0.093\n",
      "Execution time for NBS is: 0.001 +/- 0.000\n",
      "\n",
      "Accuracy for CART is: 0.681 +/- 0.074\n",
      "AUC for CART is: 0.683 +/- 0.076\n",
      "Precision for CART is: 0.666 +/- 0.139\n",
      "Execution time for CART is: 0.002 +/- 0.000\n",
      "\n",
      "Accuracy for ID3 is: 0.699 +/- 0.079\n",
      "AUC for ID3 is: 0.697 +/- 0.078\n",
      "Precision for ID3 is: 0.687 +/- 0.131\n",
      "Execution time for ID3 is: 0.002 +/- 0.000\n",
      "\n",
      "Accuracy for DS is: 0.748 +/- 0.073\n",
      "AUC for DS is: 0.743 +/- 0.058\n",
      "Precision for DS is: 0.873 +/- 0.091\n",
      "Execution time for DS is: 0.001 +/- 0.000\n",
      "\n",
      "Accuracy for MLP is: 0.781 +/- 0.071\n",
      "AUC for MLP is: 0.844 +/- 0.058\n",
      "Precision for MLP is: 0.816 +/- 0.125\n",
      "Execution time for MLP is: 0.408 +/- 0.092\n",
      "\n",
      "Accuracy for BC is: 0.748 +/- 0.084\n",
      "AUC for BC is: 0.821 +/- 0.065\n",
      "Precision for BC is: 0.752 +/- 0.130\n",
      "Execution time for BC is: 0.532 +/- 0.007\n",
      "\n",
      "Accuracy for ADA is: 0.724 +/- 0.049\n",
      "AUC for ADA is: 0.774 +/- 0.062\n",
      "Precision for ADA is: 0.703 +/- 0.075\n",
      "Execution time for ADA is: 0.410 +/- 0.007\n",
      "\n",
      "Accuracy for SVC is: 0.757 +/- 0.056\n",
      "AUC for SVC is: 0.845 +/- 0.051\n",
      "Precision for SVC is: 0.826 +/- 0.094\n",
      "Execution time for SVC is: 0.006 +/- 0.001\n",
      "\n"
     ]
    }
   ],
   "source": [
    "# Avec StandardScaler\n",
    "Scaler = StandardScaler().fit_transform(Xnum)\n",
    "Xnum_train, Xnum_test, Y_train, Y_test = train_test_split(Scaler, Y, train_size = 0.5, random_state = 1)\n",
    "run_classifiers(clfs, Xnum_train, Y_train)"
   ]
  },
  {
   "cell_type": "markdown",
   "id": "1c6d8e68-dc3b-4ab8-b69f-c764d7c53545",
   "metadata": {},
   "source": [
    "Le modèle MLP est le plus performant. De plus il posède une des meilleures précision.\n",
    "On choisira donc ce modèle comme étant le meilleur ici."
   ]
  },
  {
   "cell_type": "code",
   "execution_count": 16,
   "id": "1a79d801-962e-41e5-9a6e-2b18373e98b3",
   "metadata": {},
   "outputs": [
    {
     "name": "stdout",
     "output_type": "stream",
     "text": [
      "Accuracy for RF is: 0.760 +/- 0.055\n",
      "AUC for RF is: 0.843 +/- 0.044\n",
      "Precision for RF is: 0.771 +/- 0.104\n",
      "Execution time for RF is: 0.412 +/- 0.006\n",
      "\n",
      "Accuracy for KNN is: 0.709 +/- 0.073\n",
      "AUC for KNN is: 0.744 +/- 0.077\n",
      "Precision for KNN is: 0.774 +/- 0.130\n",
      "Execution time for KNN is: 0.001 +/- 0.000\n",
      "\n",
      "Accuracy for NBS is: 0.730 +/- 0.072\n",
      "AUC for NBS is: 0.807 +/- 0.050\n",
      "Precision for NBS is: 0.862 +/- 0.093\n",
      "Execution time for NBS is: 0.001 +/- 0.000\n",
      "\n",
      "Accuracy for CART is: 0.681 +/- 0.071\n",
      "AUC for CART is: 0.684 +/- 0.072\n",
      "Precision for CART is: 0.665 +/- 0.141\n",
      "Execution time for CART is: 0.002 +/- 0.000\n",
      "\n",
      "Accuracy for ID3 is: 0.696 +/- 0.080\n",
      "AUC for ID3 is: 0.694 +/- 0.078\n",
      "Precision for ID3 is: 0.682 +/- 0.130\n",
      "Execution time for ID3 is: 0.002 +/- 0.000\n",
      "\n",
      "Accuracy for DS is: 0.748 +/- 0.073\n",
      "AUC for DS is: 0.743 +/- 0.058\n",
      "Precision for DS is: 0.873 +/- 0.091\n",
      "Execution time for DS is: 0.001 +/- 0.000\n",
      "\n",
      "Accuracy for MLP is: 0.757 +/- 0.074\n",
      "AUC for MLP is: 0.816 +/- 0.046\n",
      "Precision for MLP is: 0.814 +/- 0.109\n",
      "Execution time for MLP is: 0.356 +/- 0.005\n",
      "\n",
      "Accuracy for BC is: 0.748 +/- 0.084\n",
      "AUC for BC is: 0.821 +/- 0.066\n",
      "Precision for BC is: 0.752 +/- 0.130\n",
      "Execution time for BC is: 0.557 +/- 0.016\n",
      "\n",
      "Accuracy for ADA is: 0.724 +/- 0.049\n",
      "AUC for ADA is: 0.774 +/- 0.062\n",
      "Precision for ADA is: 0.703 +/- 0.075\n",
      "Execution time for ADA is: 0.409 +/- 0.004\n",
      "\n",
      "Accuracy for SVC is: 0.733 +/- 0.087\n",
      "AUC for SVC is: 0.834 +/- 0.057\n",
      "Precision for SVC is: 0.823 +/- 0.106\n",
      "Execution time for SVC is: 0.006 +/- 0.001\n",
      "\n"
     ]
    }
   ],
   "source": [
    "# Avec MinMaxScaler\n",
    "Scaler1 = MinMaxScaler().fit_transform(Xnum)\n",
    "Xnum_train, Xnum_test, Y_train, Y_test = train_test_split(Scaler1, Y, train_size = 0.5, random_state = 1)\n",
    "run_classifiers(clfs, Xnum_train, Y_train)"
   ]
  },
  {
   "cell_type": "markdown",
   "id": "50873d95-d251-47b6-9477-f0a585046dd6",
   "metadata": {},
   "source": [
    "Les résultats sont très proches des résultats via StandardScaler, on ne regardera donc que StandardScaler.\n",
    "\n",
    "De plus, la normalisation des données améliore le score du modèle. On choisira donc le modèle MLP avec données normalisées pour la suite."
   ]
  },
  {
   "cell_type": "code",
   "execution_count": 17,
   "id": "cb782372-e572-4ad1-8838-556dcaab6ab7",
   "metadata": {},
   "outputs": [],
   "source": [
    "# Question 2"
   ]
  },
  {
   "cell_type": "code",
   "execution_count": 16,
   "id": "b2593a48-ad7c-49dc-8d3b-a346f9221962",
   "metadata": {},
   "outputs": [],
   "source": [
    "data = pd.read_csv('./credit.data',sep='\\t', header=None)"
   ]
  },
  {
   "cell_type": "code",
   "execution_count": 17,
   "id": "439293bf-1b0c-4e89-ac39-de2e592a3717",
   "metadata": {},
   "outputs": [],
   "source": [
    "X = data.iloc[:, :-1].values\n",
    "Y = data.iloc[:,-1].values"
   ]
  },
  {
   "cell_type": "code",
   "execution_count": 18,
   "id": "17b8b55e-6dbb-422f-a6d9-944e12c88ac9",
   "metadata": {},
   "outputs": [],
   "source": [
    "col_num = [1,2,7,10,13,14]\n",
    "col_cat = [0,3,4,5,6,8,9,11,12]"
   ]
  },
  {
   "cell_type": "code",
   "execution_count": 19,
   "id": "e2f774fa-5c62-468a-9e5a-21abe36d5f69",
   "metadata": {},
   "outputs": [],
   "source": [
    "X[:, col_cat] = OrdinalEncoder().fit_transform(X[:, col_cat])"
   ]
  },
  {
   "cell_type": "code",
   "execution_count": 20,
   "id": "ddb9a557-957d-4abf-8d64-e393595728de",
   "metadata": {},
   "outputs": [],
   "source": [
    "Y = 1 - LabelEncoder().fit_transform(Y)\n",
    "Y = Y.astype(\"float64\")"
   ]
  },
  {
   "cell_type": "code",
   "execution_count": 21,
   "id": "f3bc6071-3fc9-425c-a0fe-b1ce6363efc8",
   "metadata": {},
   "outputs": [],
   "source": [
    "# Variables catégoriques\n",
    "X_cat = np.copy(X[:, col_cat]) \n",
    "for col_id in range(len(col_cat)):\n",
    "     unique_val, val_idx = np.unique(X_cat[:, col_id], return_inverse=True)\n",
    "     X_cat[:, col_id] = val_idx\n",
    "imp_cat = SimpleImputer(missing_values=0, strategy='most_frequent')\n",
    "X_cat[:, range(5)] = imp_cat.fit_transform(X_cat[:, range(5)])"
   ]
  },
  {
   "cell_type": "code",
   "execution_count": 22,
   "id": "a55f3acd-cdfb-40b9-b66d-c7f3e47946b6",
   "metadata": {},
   "outputs": [],
   "source": [
    "# Variables numériques\n",
    "X_num = np.copy(X[:, col_num])\n",
    "X_num[X_num == '?'] = np.nan\n",
    "X_num = X_num.astype(float)\n",
    "imp_num = SimpleImputer(missing_values=np.nan, strategy='mean')\n",
    "X_num = imp_num.fit_transform(X_num)"
   ]
  },
  {
   "cell_type": "code",
   "execution_count": 23,
   "id": "729d3d60-c93d-42fb-94ed-9c7f8ddf52a5",
   "metadata": {},
   "outputs": [],
   "source": [
    "# Traitement des variables catégoriques\n",
    "X_cat_bin = OneHotEncoder().fit_transform(X_cat).toarray()"
   ]
  },
  {
   "cell_type": "code",
   "execution_count": 24,
   "id": "5dcf420d-3826-49e1-bd36-9d1abbd78fea",
   "metadata": {},
   "outputs": [],
   "source": [
    "Scaler2 = StandardScaler().fit_transform(X_num)\n",
    "Xconc = np.concatenate((X_cat_bin, Scaler2), axis = 1)"
   ]
  },
  {
   "cell_type": "code",
   "execution_count": 25,
   "id": "9f13f053-b959-4c52-9a17-9f953b1b022c",
   "metadata": {},
   "outputs": [
    {
     "name": "stdout",
     "output_type": "stream",
     "text": [
      "Accuracy for RF is: 0.863 +/- 0.043\n",
      "AUC for RF is: 0.930 +/- 0.039\n",
      "Precision for RF is: 0.834 +/- 0.045\n",
      "Execution time for RF is: 0.424 +/- 0.133\n",
      "\n",
      "Accuracy for KNN is: 0.846 +/- 0.061\n",
      "AUC for KNN is: 0.897 +/- 0.052\n",
      "Precision for KNN is: 0.857 +/- 0.087\n",
      "Execution time for KNN is: 0.001 +/- 0.000\n",
      "\n",
      "Accuracy for NBS is: 0.791 +/- 0.055\n",
      "AUC for NBS is: 0.896 +/- 0.036\n",
      "Precision for NBS is: 0.825 +/- 0.090\n",
      "Execution time for NBS is: 0.001 +/- 0.000\n",
      "\n",
      "Accuracy for CART is: 0.814 +/- 0.046\n",
      "AUC for CART is: 0.808 +/- 0.049\n",
      "Precision for CART is: 0.794 +/- 0.041\n",
      "Execution time for CART is: 0.002 +/- 0.000\n",
      "\n",
      "Accuracy for ID3 is: 0.817 +/- 0.050\n",
      "AUC for ID3 is: 0.813 +/- 0.048\n",
      "Precision for ID3 is: 0.801 +/- 0.054\n",
      "Execution time for ID3 is: 0.003 +/- 0.000\n",
      "\n",
      "Accuracy for DS is: 0.861 +/- 0.048\n",
      "AUC for DS is: 0.861 +/- 0.049\n",
      "Precision for DS is: 0.802 +/- 0.055\n",
      "Execution time for DS is: 0.001 +/- 0.000\n",
      "\n",
      "Accuracy for MLP is: 0.846 +/- 0.044\n",
      "AUC for MLP is: 0.901 +/- 0.045\n",
      "Precision for MLP is: 0.832 +/- 0.062\n",
      "Execution time for MLP is: 1.744 +/- 0.127\n",
      "\n",
      "Accuracy for BC is: 0.863 +/- 0.044\n",
      "AUC for BC is: 0.928 +/- 0.039\n",
      "Precision for BC is: 0.833 +/- 0.034\n",
      "Execution time for BC is: 0.543 +/- 0.009\n",
      "\n",
      "Accuracy for ADA is: 0.814 +/- 0.046\n",
      "AUC for ADA is: 0.875 +/- 0.041\n",
      "Precision for ADA is: 0.802 +/- 0.052\n",
      "Execution time for ADA is: 0.431 +/- 0.008\n",
      "\n",
      "Accuracy for SVC is: 0.855 +/- 0.032\n",
      "AUC for SVC is: 0.929 +/- 0.036\n",
      "Precision for SVC is: 0.805 +/- 0.040\n",
      "Execution time for SVC is: 0.007 +/- 0.001\n",
      "\n"
     ]
    }
   ],
   "source": [
    "# Jeu de données concaténé\n",
    "Xconc_train, Xconc_test, Y_train, Y_test = train_test_split(Xconc, Y, train_size = 0.5, random_state = 1)\n",
    "run_classifiers(clfs, Xconc_train, Y_train)"
   ]
  },
  {
   "cell_type": "markdown",
   "id": "e716aeff-0baf-45de-ac24-e3c9d0d354d6",
   "metadata": {},
   "source": [
    "Le modèle RF est légèrement meilleur que les autres."
   ]
  },
  {
   "cell_type": "markdown",
   "id": "ec41a481-9d16-4828-b164-d3260d3b5b70",
   "metadata": {},
   "source": [
    "# III. Apprentissage supervisé sur des données textuelles : Feature engineering et Classification"
   ]
  },
  {
   "cell_type": "code",
   "execution_count": 7,
   "id": "a0e759c0-ca03-4e19-b544-a4a9262323df",
   "metadata": {},
   "outputs": [],
   "source": [
    "data2 = pd.read_table(\"./SMSSpamCollection.data\", names = [\"Target\", \"SMS\"])\n",
    "X1 = data2[\"SMS\"]\n",
    "Y1 = LabelEncoder().fit_transform(data2[\"Target\"])"
   ]
  },
  {
   "cell_type": "code",
   "execution_count": 8,
   "id": "67957026-3150-45d5-b0f2-212c034eba59",
   "metadata": {},
   "outputs": [],
   "source": [
    "# Count Vectorizer\n",
    "vectorizer = CountVectorizer(stop_words = \"english\", min_df = 0.01)\n",
    "X1 = vectorizer.fit_transform(X1)"
   ]
  },
  {
   "cell_type": "code",
   "execution_count": 28,
   "id": "dc6fa0c8-7d44-40e0-ae1d-7ce39040142a",
   "metadata": {},
   "outputs": [
    {
     "name": "stdout",
     "output_type": "stream",
     "text": [
      "Accuracy for RF is: 0.969 +/- 0.007\n",
      "AUC for RF is: 0.960 +/- 0.010\n",
      "Precision for RF is: 0.914 +/- 0.034\n",
      "Execution time for RF is: 2.329 +/- 0.130\n",
      "\n",
      "Accuracy for KNN is: 0.949 +/- 0.010\n",
      "AUC for KNN is: 0.921 +/- 0.014\n",
      "Precision for KNN is: 0.976 +/- 0.016\n",
      "Execution time for KNN is: 0.003 +/- 0.003\n",
      "\n",
      "Accuracy for NBS is: 0.545 +/- 0.018\n",
      "AUC for NBS is: 0.740 +/- 0.016\n",
      "Precision for NBS is: 0.224 +/- 0.025\n",
      "Execution time for NBS is: 0.010 +/- 0.002\n",
      "\n",
      "Accuracy for CART is: 0.961 +/- 0.006\n",
      "AUC for CART is: 0.938 +/- 0.018\n",
      "Precision for CART is: 0.873 +/- 0.038\n",
      "Execution time for CART is: 0.129 +/- 0.003\n",
      "\n",
      "Accuracy for ID3 is: 0.962 +/- 0.005\n",
      "AUC for ID3 is: 0.944 +/- 0.014\n",
      "Precision for ID3 is: 0.882 +/- 0.033\n",
      "Execution time for ID3 is: 0.121 +/- 0.002\n",
      "\n",
      "Accuracy for DS is: 0.891 +/- 0.012\n",
      "AUC for DS is: 0.599 +/- 0.022\n",
      "Precision for DS is: 0.920 +/- 0.050\n",
      "Execution time for DS is: 0.006 +/- 0.000\n",
      "\n",
      "Accuracy for MLP is: 0.972 +/- 0.007\n",
      "AUC for MLP is: 0.962 +/- 0.014\n",
      "Precision for MLP is: 0.956 +/- 0.027\n",
      "Execution time for MLP is: 29.598 +/- 2.788\n",
      "\n",
      "Accuracy for BC is: 0.964 +/- 0.005\n",
      "AUC for BC is: 0.958 +/- 0.010\n",
      "Precision for BC is: 0.883 +/- 0.034\n",
      "Execution time for BC is: 10.809 +/- 0.255\n",
      "\n",
      "Accuracy for ADA is: 0.966 +/- 0.006\n",
      "AUC for ADA is: 0.952 +/- 0.012\n",
      "Precision for ADA is: 0.924 +/- 0.030\n",
      "Execution time for ADA is: 1.629 +/- 0.026\n",
      "\n",
      "Accuracy for SVC is: 0.969 +/- 0.004\n",
      "AUC for SVC is: 0.960 +/- 0.009\n",
      "Precision for SVC is: 0.964 +/- 0.023\n",
      "Execution time for SVC is: 0.893 +/- 0.029\n",
      "\n"
     ]
    }
   ],
   "source": [
    "run_classifiers(clfs, X1.toarray(), Y1)"
   ]
  },
  {
   "cell_type": "markdown",
   "id": "b8277144-9960-47f5-b7b6-e850bec8b5c9",
   "metadata": {},
   "source": [
    "Nous avons plusieurs modèles avec d'excellentes performances, nous en relevons en particulier 3 :\n",
    "- Le modèle RF est le plus rapide mais le moins performant des 3\n",
    "- SVC et MLP sont tous deux très eprformants mais SVC est le plus rapide des deux."
   ]
  },
  {
   "cell_type": "code",
   "execution_count": 29,
   "id": "55d754db-a350-47db-bea5-692f12b864e7",
   "metadata": {},
   "outputs": [],
   "source": [
    "# TfidTransformer\n",
    "transformer = TfidfTransformer()\n",
    "X1 = transformer.fit_transform(X1)"
   ]
  },
  {
   "cell_type": "code",
   "execution_count": 30,
   "id": "c5224c75-26e8-4f3c-bed6-bc14255aa41b",
   "metadata": {},
   "outputs": [
    {
     "name": "stdout",
     "output_type": "stream",
     "text": [
      "Accuracy for RF is: 0.969 +/- 0.008\n",
      "AUC for RF is: 0.963 +/- 0.012\n",
      "Precision for RF is: 0.932 +/- 0.036\n",
      "Execution time for RF is: 2.895 +/- 0.139\n",
      "\n",
      "Accuracy for KNN is: 0.962 +/- 0.006\n",
      "AUC for KNN is: 0.934 +/- 0.012\n",
      "Precision for KNN is: 0.936 +/- 0.029\n",
      "Execution time for KNN is: 0.002 +/- 0.001\n",
      "\n",
      "Accuracy for NBS is: 0.627 +/- 0.015\n",
      "AUC for NBS is: 0.784 +/- 0.014\n",
      "Precision for NBS is: 0.260 +/- 0.024\n",
      "Execution time for NBS is: 0.008 +/- 0.002\n",
      "\n",
      "Accuracy for CART is: 0.962 +/- 0.007\n",
      "AUC for CART is: 0.925 +/- 0.020\n",
      "Precision for CART is: 0.892 +/- 0.038\n",
      "Execution time for CART is: 0.182 +/- 0.003\n",
      "\n",
      "Accuracy for ID3 is: 0.960 +/- 0.007\n",
      "AUC for ID3 is: 0.918 +/- 0.017\n",
      "Precision for ID3 is: 0.894 +/- 0.041\n",
      "Execution time for ID3 is: 0.184 +/- 0.006\n",
      "\n",
      "Accuracy for DS is: 0.891 +/- 0.012\n",
      "AUC for DS is: 0.599 +/- 0.022\n",
      "Precision for DS is: 0.920 +/- 0.050\n",
      "Execution time for DS is: 0.007 +/- 0.000\n",
      "\n",
      "Accuracy for MLP is: 0.970 +/- 0.007\n",
      "AUC for MLP is: 0.963 +/- 0.011\n",
      "Precision for MLP is: 0.953 +/- 0.026\n",
      "Execution time for MLP is: 16.246 +/- 2.777\n",
      "\n",
      "Accuracy for BC is: 0.966 +/- 0.006\n",
      "AUC for BC is: 0.960 +/- 0.011\n",
      "Precision for BC is: 0.912 +/- 0.032\n",
      "Execution time for BC is: 16.384 +/- 0.304\n",
      "\n",
      "Accuracy for ADA is: 0.965 +/- 0.007\n",
      "AUC for ADA is: 0.953 +/- 0.014\n",
      "Precision for ADA is: 0.921 +/- 0.034\n",
      "Execution time for ADA is: 1.776 +/- 0.087\n",
      "\n",
      "Accuracy for SVC is: 0.972 +/- 0.007\n",
      "AUC for SVC is: 0.963 +/- 0.012\n",
      "Precision for SVC is: 0.966 +/- 0.023\n",
      "Execution time for SVC is: 0.660 +/- 0.013\n",
      "\n"
     ]
    }
   ],
   "source": [
    "run_classifiers(clfs, X1.toarray(), Y1)"
   ]
  },
  {
   "cell_type": "markdown",
   "id": "b59ff257-1b43-466f-9c0c-23e198f40d95",
   "metadata": {},
   "source": [
    "Toujours en tête le SVC, le MLP et le RF."
   ]
  },
  {
   "cell_type": "code",
   "execution_count": 9,
   "id": "0e552afc-108d-48a9-9437-371ab113356d",
   "metadata": {},
   "outputs": [],
   "source": [
    "# Truncated SVD\n",
    "tSVD = TruncatedSVD(n_components = 100)\n",
    "X1_Svd = tSVD.fit_transform(X1)"
   ]
  },
  {
   "cell_type": "code",
   "execution_count": 10,
   "id": "293aeffa-a9e0-438f-91e1-1b7a0861154f",
   "metadata": {},
   "outputs": [
    {
     "name": "stdout",
     "output_type": "stream",
     "text": [
      "Accuracy for RF is: 0.968 +/- 0.006\n",
      "AUC for RF is: 0.954 +/- 0.009\n",
      "Precision for RF is: 0.962 +/- 0.020\n",
      "Execution time for RF is: 7.151 +/- 0.143\n",
      "\n"
     ]
    },
    {
     "name": "stderr",
     "output_type": "stream",
     "text": [
      "OpenBLAS warning: precompiled NUM_THREADS exceeded, adding auxiliary array for thread metadata.\n",
      "OpenBLAS warning: precompiled NUM_THREADS exceeded, adding auxiliary array for thread metadata.\n",
      "OpenBLAS warning: precompiled NUM_THREADS exceeded, adding auxiliary array for thread metadata.\n"
     ]
    },
    {
     "name": "stdout",
     "output_type": "stream",
     "text": [
      "Accuracy for KNN is: 0.955 +/- 0.011\n",
      "AUC for KNN is: 0.918 +/- 0.016\n",
      "Precision for KNN is: 0.968 +/- 0.026\n",
      "Execution time for KNN is: 0.003 +/- 0.001\n",
      "\n",
      "Accuracy for NBS is: 0.891 +/- 0.007\n",
      "AUC for NBS is: 0.918 +/- 0.010\n",
      "Precision for NBS is: 0.561 +/- 0.041\n",
      "Execution time for NBS is: 0.007 +/- 0.000\n",
      "\n",
      "Accuracy for CART is: 0.950 +/- 0.009\n",
      "AUC for CART is: 0.896 +/- 0.026\n",
      "Precision for CART is: 0.837 +/- 0.052\n",
      "Execution time for CART is: 0.774 +/- 0.061\n",
      "\n",
      "Accuracy for ID3 is: 0.947 +/- 0.009\n",
      "AUC for ID3 is: 0.891 +/- 0.028\n",
      "Precision for ID3 is: 0.822 +/- 0.036\n",
      "Execution time for ID3 is: 0.582 +/- 0.029\n",
      "\n",
      "Accuracy for DS is: 0.909 +/- 0.010\n",
      "AUC for DS is: 0.766 +/- 0.026\n",
      "Precision for DS is: 0.706 +/- 0.077\n",
      "Execution time for DS is: 0.048 +/- 0.001\n",
      "\n",
      "Accuracy for MLP is: 0.972 +/- 0.008\n",
      "AUC for MLP is: 0.963 +/- 0.014\n",
      "Precision for MLP is: 0.950 +/- 0.030\n",
      "Execution time for MLP is: 10.952 +/- 1.808\n",
      "\n"
     ]
    },
    {
     "ename": "KeyboardInterrupt",
     "evalue": "",
     "output_type": "error",
     "traceback": [
      "\u001b[0;31m---------------------------------------------------------------------------\u001b[0m",
      "\u001b[0;31mKeyboardInterrupt\u001b[0m                         Traceback (most recent call last)",
      "\u001b[0;32m/tmp/ipykernel_4121014/3191395173.py\u001b[0m in \u001b[0;36m<module>\u001b[0;34m\u001b[0m\n\u001b[0;32m----> 1\u001b[0;31m \u001b[0mrun_classifiers\u001b[0m\u001b[0;34m(\u001b[0m\u001b[0mclfs\u001b[0m\u001b[0;34m,\u001b[0m \u001b[0mX1_Svd\u001b[0m\u001b[0;34m,\u001b[0m \u001b[0mY1\u001b[0m\u001b[0;34m)\u001b[0m\u001b[0;34m\u001b[0m\u001b[0;34m\u001b[0m\u001b[0m\n\u001b[0m",
      "\u001b[0;32m/tmp/ipykernel_4121014/2904309131.py\u001b[0m in \u001b[0;36mrun_classifiers\u001b[0;34m(clfs, X, Y)\u001b[0m\n\u001b[1;32m      4\u001b[0m     \u001b[0;32mfor\u001b[0m \u001b[0mi\u001b[0m \u001b[0;32min\u001b[0m \u001b[0mclfs\u001b[0m\u001b[0;34m:\u001b[0m\u001b[0;34m\u001b[0m\u001b[0;34m\u001b[0m\u001b[0m\n\u001b[1;32m      5\u001b[0m         \u001b[0mclf\u001b[0m \u001b[0;34m=\u001b[0m \u001b[0mclfs\u001b[0m\u001b[0;34m[\u001b[0m\u001b[0mi\u001b[0m\u001b[0;34m]\u001b[0m\u001b[0;34m\u001b[0m\u001b[0;34m\u001b[0m\u001b[0m\n\u001b[0;32m----> 6\u001b[0;31m         \u001b[0mcv_scores\u001b[0m \u001b[0;34m=\u001b[0m \u001b[0mcross_validate\u001b[0m\u001b[0;34m(\u001b[0m\u001b[0mclf\u001b[0m\u001b[0;34m,\u001b[0m \u001b[0mX\u001b[0m\u001b[0;34m,\u001b[0m \u001b[0mY\u001b[0m\u001b[0;34m,\u001b[0m \u001b[0mcv\u001b[0m \u001b[0;34m=\u001b[0m \u001b[0mkf\u001b[0m\u001b[0;34m,\u001b[0m \u001b[0mscoring\u001b[0m \u001b[0;34m=\u001b[0m \u001b[0mscores\u001b[0m\u001b[0;34m)\u001b[0m\u001b[0;34m\u001b[0m\u001b[0;34m\u001b[0m\u001b[0m\n\u001b[0m\u001b[1;32m      7\u001b[0m         \u001b[0mprint\u001b[0m\u001b[0;34m(\u001b[0m\u001b[0;34m\"Accuracy for {0} is: {1:.3f} +/- {2:.3f}\"\u001b[0m\u001b[0;34m.\u001b[0m\u001b[0mformat\u001b[0m\u001b[0;34m(\u001b[0m\u001b[0mi\u001b[0m\u001b[0;34m,\u001b[0m \u001b[0mnp\u001b[0m\u001b[0;34m.\u001b[0m\u001b[0mmean\u001b[0m\u001b[0;34m(\u001b[0m\u001b[0mcv_scores\u001b[0m\u001b[0;34m[\u001b[0m\u001b[0;34m\"test_accuracy\"\u001b[0m\u001b[0;34m]\u001b[0m\u001b[0;34m)\u001b[0m\u001b[0;34m,\u001b[0m \u001b[0mnp\u001b[0m\u001b[0;34m.\u001b[0m\u001b[0mstd\u001b[0m\u001b[0;34m(\u001b[0m\u001b[0mcv_scores\u001b[0m\u001b[0;34m[\u001b[0m\u001b[0;34m\"test_accuracy\"\u001b[0m\u001b[0;34m]\u001b[0m\u001b[0;34m)\u001b[0m\u001b[0;34m)\u001b[0m\u001b[0;34m)\u001b[0m\u001b[0;34m\u001b[0m\u001b[0;34m\u001b[0m\u001b[0m\n\u001b[1;32m      8\u001b[0m         \u001b[0mprint\u001b[0m\u001b[0;34m(\u001b[0m\u001b[0;34m\"AUC for {0} is: {1:.3f} +/- {2:.3f}\"\u001b[0m\u001b[0;34m.\u001b[0m\u001b[0mformat\u001b[0m\u001b[0;34m(\u001b[0m\u001b[0mi\u001b[0m\u001b[0;34m,\u001b[0m \u001b[0mnp\u001b[0m\u001b[0;34m.\u001b[0m\u001b[0mmean\u001b[0m\u001b[0;34m(\u001b[0m\u001b[0mcv_scores\u001b[0m\u001b[0;34m[\u001b[0m\u001b[0;34m\"test_auc\"\u001b[0m\u001b[0;34m]\u001b[0m\u001b[0;34m)\u001b[0m\u001b[0;34m,\u001b[0m \u001b[0mnp\u001b[0m\u001b[0;34m.\u001b[0m\u001b[0mstd\u001b[0m\u001b[0;34m(\u001b[0m\u001b[0mcv_scores\u001b[0m\u001b[0;34m[\u001b[0m\u001b[0;34m\"test_auc\"\u001b[0m\u001b[0;34m]\u001b[0m\u001b[0;34m)\u001b[0m\u001b[0;34m)\u001b[0m\u001b[0;34m)\u001b[0m\u001b[0;34m\u001b[0m\u001b[0;34m\u001b[0m\u001b[0m\n",
      "\u001b[0;32m~/.local/lib/python3.10/site-packages/sklearn/model_selection/_validation.py\u001b[0m in \u001b[0;36mcross_validate\u001b[0;34m(estimator, X, y, groups, scoring, cv, n_jobs, verbose, fit_params, pre_dispatch, return_train_score, return_estimator, error_score)\u001b[0m\n\u001b[1;32m    264\u001b[0m     \u001b[0;31m# independent, and that it is pickle-able.\u001b[0m\u001b[0;34m\u001b[0m\u001b[0;34m\u001b[0m\u001b[0m\n\u001b[1;32m    265\u001b[0m     \u001b[0mparallel\u001b[0m \u001b[0;34m=\u001b[0m \u001b[0mParallel\u001b[0m\u001b[0;34m(\u001b[0m\u001b[0mn_jobs\u001b[0m\u001b[0;34m=\u001b[0m\u001b[0mn_jobs\u001b[0m\u001b[0;34m,\u001b[0m \u001b[0mverbose\u001b[0m\u001b[0;34m=\u001b[0m\u001b[0mverbose\u001b[0m\u001b[0;34m,\u001b[0m \u001b[0mpre_dispatch\u001b[0m\u001b[0;34m=\u001b[0m\u001b[0mpre_dispatch\u001b[0m\u001b[0;34m)\u001b[0m\u001b[0;34m\u001b[0m\u001b[0;34m\u001b[0m\u001b[0m\n\u001b[0;32m--> 266\u001b[0;31m     results = parallel(\n\u001b[0m\u001b[1;32m    267\u001b[0m         delayed(_fit_and_score)(\n\u001b[1;32m    268\u001b[0m             \u001b[0mclone\u001b[0m\u001b[0;34m(\u001b[0m\u001b[0mestimator\u001b[0m\u001b[0;34m)\u001b[0m\u001b[0;34m,\u001b[0m\u001b[0;34m\u001b[0m\u001b[0;34m\u001b[0m\u001b[0m\n",
      "\u001b[0;32m/usr/lib/python3.10/site-packages/joblib/parallel.py\u001b[0m in \u001b[0;36m__call__\u001b[0;34m(self, iterable)\u001b[0m\n\u001b[1;32m   1042\u001b[0m                 \u001b[0mself\u001b[0m\u001b[0;34m.\u001b[0m\u001b[0m_iterating\u001b[0m \u001b[0;34m=\u001b[0m \u001b[0mself\u001b[0m\u001b[0;34m.\u001b[0m\u001b[0m_original_iterator\u001b[0m \u001b[0;32mis\u001b[0m \u001b[0;32mnot\u001b[0m \u001b[0;32mNone\u001b[0m\u001b[0;34m\u001b[0m\u001b[0;34m\u001b[0m\u001b[0m\n\u001b[1;32m   1043\u001b[0m \u001b[0;34m\u001b[0m\u001b[0m\n\u001b[0;32m-> 1044\u001b[0;31m             \u001b[0;32mwhile\u001b[0m \u001b[0mself\u001b[0m\u001b[0;34m.\u001b[0m\u001b[0mdispatch_one_batch\u001b[0m\u001b[0;34m(\u001b[0m\u001b[0miterator\u001b[0m\u001b[0;34m)\u001b[0m\u001b[0;34m:\u001b[0m\u001b[0;34m\u001b[0m\u001b[0;34m\u001b[0m\u001b[0m\n\u001b[0m\u001b[1;32m   1045\u001b[0m                 \u001b[0;32mpass\u001b[0m\u001b[0;34m\u001b[0m\u001b[0;34m\u001b[0m\u001b[0m\n\u001b[1;32m   1046\u001b[0m \u001b[0;34m\u001b[0m\u001b[0m\n",
      "\u001b[0;32m/usr/lib/python3.10/site-packages/joblib/parallel.py\u001b[0m in \u001b[0;36mdispatch_one_batch\u001b[0;34m(self, iterator)\u001b[0m\n\u001b[1;32m    857\u001b[0m                 \u001b[0;32mreturn\u001b[0m \u001b[0;32mFalse\u001b[0m\u001b[0;34m\u001b[0m\u001b[0;34m\u001b[0m\u001b[0m\n\u001b[1;32m    858\u001b[0m             \u001b[0;32melse\u001b[0m\u001b[0;34m:\u001b[0m\u001b[0;34m\u001b[0m\u001b[0;34m\u001b[0m\u001b[0m\n\u001b[0;32m--> 859\u001b[0;31m                 \u001b[0mself\u001b[0m\u001b[0;34m.\u001b[0m\u001b[0m_dispatch\u001b[0m\u001b[0;34m(\u001b[0m\u001b[0mtasks\u001b[0m\u001b[0;34m)\u001b[0m\u001b[0;34m\u001b[0m\u001b[0;34m\u001b[0m\u001b[0m\n\u001b[0m\u001b[1;32m    860\u001b[0m                 \u001b[0;32mreturn\u001b[0m \u001b[0;32mTrue\u001b[0m\u001b[0;34m\u001b[0m\u001b[0;34m\u001b[0m\u001b[0m\n\u001b[1;32m    861\u001b[0m \u001b[0;34m\u001b[0m\u001b[0m\n",
      "\u001b[0;32m/usr/lib/python3.10/site-packages/joblib/parallel.py\u001b[0m in \u001b[0;36m_dispatch\u001b[0;34m(self, batch)\u001b[0m\n\u001b[1;32m    775\u001b[0m         \u001b[0;32mwith\u001b[0m \u001b[0mself\u001b[0m\u001b[0;34m.\u001b[0m\u001b[0m_lock\u001b[0m\u001b[0;34m:\u001b[0m\u001b[0;34m\u001b[0m\u001b[0;34m\u001b[0m\u001b[0m\n\u001b[1;32m    776\u001b[0m             \u001b[0mjob_idx\u001b[0m \u001b[0;34m=\u001b[0m \u001b[0mlen\u001b[0m\u001b[0;34m(\u001b[0m\u001b[0mself\u001b[0m\u001b[0;34m.\u001b[0m\u001b[0m_jobs\u001b[0m\u001b[0;34m)\u001b[0m\u001b[0;34m\u001b[0m\u001b[0;34m\u001b[0m\u001b[0m\n\u001b[0;32m--> 777\u001b[0;31m             \u001b[0mjob\u001b[0m \u001b[0;34m=\u001b[0m \u001b[0mself\u001b[0m\u001b[0;34m.\u001b[0m\u001b[0m_backend\u001b[0m\u001b[0;34m.\u001b[0m\u001b[0mapply_async\u001b[0m\u001b[0;34m(\u001b[0m\u001b[0mbatch\u001b[0m\u001b[0;34m,\u001b[0m \u001b[0mcallback\u001b[0m\u001b[0;34m=\u001b[0m\u001b[0mcb\u001b[0m\u001b[0;34m)\u001b[0m\u001b[0;34m\u001b[0m\u001b[0;34m\u001b[0m\u001b[0m\n\u001b[0m\u001b[1;32m    778\u001b[0m             \u001b[0;31m# A job can complete so quickly than its callback is\u001b[0m\u001b[0;34m\u001b[0m\u001b[0;34m\u001b[0m\u001b[0m\n\u001b[1;32m    779\u001b[0m             \u001b[0;31m# called before we get here, causing self._jobs to\u001b[0m\u001b[0;34m\u001b[0m\u001b[0;34m\u001b[0m\u001b[0m\n",
      "\u001b[0;32m/usr/lib/python3.10/site-packages/joblib/_parallel_backends.py\u001b[0m in \u001b[0;36mapply_async\u001b[0;34m(self, func, callback)\u001b[0m\n\u001b[1;32m    206\u001b[0m     \u001b[0;32mdef\u001b[0m \u001b[0mapply_async\u001b[0m\u001b[0;34m(\u001b[0m\u001b[0mself\u001b[0m\u001b[0;34m,\u001b[0m \u001b[0mfunc\u001b[0m\u001b[0;34m,\u001b[0m \u001b[0mcallback\u001b[0m\u001b[0;34m=\u001b[0m\u001b[0;32mNone\u001b[0m\u001b[0;34m)\u001b[0m\u001b[0;34m:\u001b[0m\u001b[0;34m\u001b[0m\u001b[0;34m\u001b[0m\u001b[0m\n\u001b[1;32m    207\u001b[0m         \u001b[0;34m\"\"\"Schedule a func to be run\"\"\"\u001b[0m\u001b[0;34m\u001b[0m\u001b[0;34m\u001b[0m\u001b[0m\n\u001b[0;32m--> 208\u001b[0;31m         \u001b[0mresult\u001b[0m \u001b[0;34m=\u001b[0m \u001b[0mImmediateResult\u001b[0m\u001b[0;34m(\u001b[0m\u001b[0mfunc\u001b[0m\u001b[0;34m)\u001b[0m\u001b[0;34m\u001b[0m\u001b[0;34m\u001b[0m\u001b[0m\n\u001b[0m\u001b[1;32m    209\u001b[0m         \u001b[0;32mif\u001b[0m \u001b[0mcallback\u001b[0m\u001b[0;34m:\u001b[0m\u001b[0;34m\u001b[0m\u001b[0;34m\u001b[0m\u001b[0m\n\u001b[1;32m    210\u001b[0m             \u001b[0mcallback\u001b[0m\u001b[0;34m(\u001b[0m\u001b[0mresult\u001b[0m\u001b[0;34m)\u001b[0m\u001b[0;34m\u001b[0m\u001b[0;34m\u001b[0m\u001b[0m\n",
      "\u001b[0;32m/usr/lib/python3.10/site-packages/joblib/_parallel_backends.py\u001b[0m in \u001b[0;36m__init__\u001b[0;34m(self, batch)\u001b[0m\n\u001b[1;32m    570\u001b[0m         \u001b[0;31m# Don't delay the application, to avoid keeping the input\u001b[0m\u001b[0;34m\u001b[0m\u001b[0;34m\u001b[0m\u001b[0m\n\u001b[1;32m    571\u001b[0m         \u001b[0;31m# arguments in memory\u001b[0m\u001b[0;34m\u001b[0m\u001b[0;34m\u001b[0m\u001b[0m\n\u001b[0;32m--> 572\u001b[0;31m         \u001b[0mself\u001b[0m\u001b[0;34m.\u001b[0m\u001b[0mresults\u001b[0m \u001b[0;34m=\u001b[0m \u001b[0mbatch\u001b[0m\u001b[0;34m(\u001b[0m\u001b[0;34m)\u001b[0m\u001b[0;34m\u001b[0m\u001b[0;34m\u001b[0m\u001b[0m\n\u001b[0m\u001b[1;32m    573\u001b[0m \u001b[0;34m\u001b[0m\u001b[0m\n\u001b[1;32m    574\u001b[0m     \u001b[0;32mdef\u001b[0m \u001b[0mget\u001b[0m\u001b[0;34m(\u001b[0m\u001b[0mself\u001b[0m\u001b[0;34m)\u001b[0m\u001b[0;34m:\u001b[0m\u001b[0;34m\u001b[0m\u001b[0;34m\u001b[0m\u001b[0m\n",
      "\u001b[0;32m/usr/lib/python3.10/site-packages/joblib/parallel.py\u001b[0m in \u001b[0;36m__call__\u001b[0;34m(self)\u001b[0m\n\u001b[1;32m    260\u001b[0m         \u001b[0;31m# change the default number of processes to -1\u001b[0m\u001b[0;34m\u001b[0m\u001b[0;34m\u001b[0m\u001b[0m\n\u001b[1;32m    261\u001b[0m         \u001b[0;32mwith\u001b[0m \u001b[0mparallel_backend\u001b[0m\u001b[0;34m(\u001b[0m\u001b[0mself\u001b[0m\u001b[0;34m.\u001b[0m\u001b[0m_backend\u001b[0m\u001b[0;34m,\u001b[0m \u001b[0mn_jobs\u001b[0m\u001b[0;34m=\u001b[0m\u001b[0mself\u001b[0m\u001b[0;34m.\u001b[0m\u001b[0m_n_jobs\u001b[0m\u001b[0;34m)\u001b[0m\u001b[0;34m:\u001b[0m\u001b[0;34m\u001b[0m\u001b[0;34m\u001b[0m\u001b[0m\n\u001b[0;32m--> 262\u001b[0;31m             return [func(*args, **kwargs)\n\u001b[0m\u001b[1;32m    263\u001b[0m                     for func, args, kwargs in self.items]\n\u001b[1;32m    264\u001b[0m \u001b[0;34m\u001b[0m\u001b[0m\n",
      "\u001b[0;32m/usr/lib/python3.10/site-packages/joblib/parallel.py\u001b[0m in \u001b[0;36m<listcomp>\u001b[0;34m(.0)\u001b[0m\n\u001b[1;32m    260\u001b[0m         \u001b[0;31m# change the default number of processes to -1\u001b[0m\u001b[0;34m\u001b[0m\u001b[0;34m\u001b[0m\u001b[0m\n\u001b[1;32m    261\u001b[0m         \u001b[0;32mwith\u001b[0m \u001b[0mparallel_backend\u001b[0m\u001b[0;34m(\u001b[0m\u001b[0mself\u001b[0m\u001b[0;34m.\u001b[0m\u001b[0m_backend\u001b[0m\u001b[0;34m,\u001b[0m \u001b[0mn_jobs\u001b[0m\u001b[0;34m=\u001b[0m\u001b[0mself\u001b[0m\u001b[0;34m.\u001b[0m\u001b[0m_n_jobs\u001b[0m\u001b[0;34m)\u001b[0m\u001b[0;34m:\u001b[0m\u001b[0;34m\u001b[0m\u001b[0;34m\u001b[0m\u001b[0m\n\u001b[0;32m--> 262\u001b[0;31m             return [func(*args, **kwargs)\n\u001b[0m\u001b[1;32m    263\u001b[0m                     for func, args, kwargs in self.items]\n\u001b[1;32m    264\u001b[0m \u001b[0;34m\u001b[0m\u001b[0m\n",
      "\u001b[0;32m~/.local/lib/python3.10/site-packages/sklearn/utils/fixes.py\u001b[0m in \u001b[0;36m__call__\u001b[0;34m(self, *args, **kwargs)\u001b[0m\n\u001b[1;32m    115\u001b[0m     \u001b[0;32mdef\u001b[0m \u001b[0m__call__\u001b[0m\u001b[0;34m(\u001b[0m\u001b[0mself\u001b[0m\u001b[0;34m,\u001b[0m \u001b[0;34m*\u001b[0m\u001b[0margs\u001b[0m\u001b[0;34m,\u001b[0m \u001b[0;34m**\u001b[0m\u001b[0mkwargs\u001b[0m\u001b[0;34m)\u001b[0m\u001b[0;34m:\u001b[0m\u001b[0;34m\u001b[0m\u001b[0;34m\u001b[0m\u001b[0m\n\u001b[1;32m    116\u001b[0m         \u001b[0;32mwith\u001b[0m \u001b[0mconfig_context\u001b[0m\u001b[0;34m(\u001b[0m\u001b[0;34m**\u001b[0m\u001b[0mself\u001b[0m\u001b[0;34m.\u001b[0m\u001b[0mconfig\u001b[0m\u001b[0;34m)\u001b[0m\u001b[0;34m:\u001b[0m\u001b[0;34m\u001b[0m\u001b[0;34m\u001b[0m\u001b[0m\n\u001b[0;32m--> 117\u001b[0;31m             \u001b[0;32mreturn\u001b[0m \u001b[0mself\u001b[0m\u001b[0;34m.\u001b[0m\u001b[0mfunction\u001b[0m\u001b[0;34m(\u001b[0m\u001b[0;34m*\u001b[0m\u001b[0margs\u001b[0m\u001b[0;34m,\u001b[0m \u001b[0;34m**\u001b[0m\u001b[0mkwargs\u001b[0m\u001b[0;34m)\u001b[0m\u001b[0;34m\u001b[0m\u001b[0;34m\u001b[0m\u001b[0m\n\u001b[0m\u001b[1;32m    118\u001b[0m \u001b[0;34m\u001b[0m\u001b[0m\n\u001b[1;32m    119\u001b[0m \u001b[0;34m\u001b[0m\u001b[0m\n",
      "\u001b[0;32m~/.local/lib/python3.10/site-packages/sklearn/model_selection/_validation.py\u001b[0m in \u001b[0;36m_fit_and_score\u001b[0;34m(estimator, X, y, scorer, train, test, verbose, parameters, fit_params, return_train_score, return_parameters, return_n_test_samples, return_times, return_estimator, split_progress, candidate_progress, error_score)\u001b[0m\n\u001b[1;32m    684\u001b[0m             \u001b[0mestimator\u001b[0m\u001b[0;34m.\u001b[0m\u001b[0mfit\u001b[0m\u001b[0;34m(\u001b[0m\u001b[0mX_train\u001b[0m\u001b[0;34m,\u001b[0m \u001b[0;34m**\u001b[0m\u001b[0mfit_params\u001b[0m\u001b[0;34m)\u001b[0m\u001b[0;34m\u001b[0m\u001b[0;34m\u001b[0m\u001b[0m\n\u001b[1;32m    685\u001b[0m         \u001b[0;32melse\u001b[0m\u001b[0;34m:\u001b[0m\u001b[0;34m\u001b[0m\u001b[0;34m\u001b[0m\u001b[0m\n\u001b[0;32m--> 686\u001b[0;31m             \u001b[0mestimator\u001b[0m\u001b[0;34m.\u001b[0m\u001b[0mfit\u001b[0m\u001b[0;34m(\u001b[0m\u001b[0mX_train\u001b[0m\u001b[0;34m,\u001b[0m \u001b[0my_train\u001b[0m\u001b[0;34m,\u001b[0m \u001b[0;34m**\u001b[0m\u001b[0mfit_params\u001b[0m\u001b[0;34m)\u001b[0m\u001b[0;34m\u001b[0m\u001b[0;34m\u001b[0m\u001b[0m\n\u001b[0m\u001b[1;32m    687\u001b[0m \u001b[0;34m\u001b[0m\u001b[0m\n\u001b[1;32m    688\u001b[0m     \u001b[0;32mexcept\u001b[0m \u001b[0mException\u001b[0m\u001b[0;34m:\u001b[0m\u001b[0;34m\u001b[0m\u001b[0;34m\u001b[0m\u001b[0m\n",
      "\u001b[0;32m~/.local/lib/python3.10/site-packages/sklearn/ensemble/_bagging.py\u001b[0m in \u001b[0;36mfit\u001b[0;34m(self, X, y, sample_weight)\u001b[0m\n\u001b[1;32m    295\u001b[0m             \u001b[0mmulti_output\u001b[0m\u001b[0;34m=\u001b[0m\u001b[0;32mTrue\u001b[0m\u001b[0;34m,\u001b[0m\u001b[0;34m\u001b[0m\u001b[0;34m\u001b[0m\u001b[0m\n\u001b[1;32m    296\u001b[0m         )\n\u001b[0;32m--> 297\u001b[0;31m         \u001b[0;32mreturn\u001b[0m \u001b[0mself\u001b[0m\u001b[0;34m.\u001b[0m\u001b[0m_fit\u001b[0m\u001b[0;34m(\u001b[0m\u001b[0mX\u001b[0m\u001b[0;34m,\u001b[0m \u001b[0my\u001b[0m\u001b[0;34m,\u001b[0m \u001b[0mself\u001b[0m\u001b[0;34m.\u001b[0m\u001b[0mmax_samples\u001b[0m\u001b[0;34m,\u001b[0m \u001b[0msample_weight\u001b[0m\u001b[0;34m=\u001b[0m\u001b[0msample_weight\u001b[0m\u001b[0;34m)\u001b[0m\u001b[0;34m\u001b[0m\u001b[0;34m\u001b[0m\u001b[0m\n\u001b[0m\u001b[1;32m    298\u001b[0m \u001b[0;34m\u001b[0m\u001b[0m\n\u001b[1;32m    299\u001b[0m     \u001b[0;32mdef\u001b[0m \u001b[0m_parallel_args\u001b[0m\u001b[0;34m(\u001b[0m\u001b[0mself\u001b[0m\u001b[0;34m)\u001b[0m\u001b[0;34m:\u001b[0m\u001b[0;34m\u001b[0m\u001b[0;34m\u001b[0m\u001b[0m\n",
      "\u001b[0;32m~/.local/lib/python3.10/site-packages/sklearn/ensemble/_bagging.py\u001b[0m in \u001b[0;36m_fit\u001b[0;34m(self, X, y, max_samples, max_depth, sample_weight, check_input)\u001b[0m\n\u001b[1;32m    432\u001b[0m         \u001b[0mself\u001b[0m\u001b[0;34m.\u001b[0m\u001b[0m_seeds\u001b[0m \u001b[0;34m=\u001b[0m \u001b[0mseeds\u001b[0m\u001b[0;34m\u001b[0m\u001b[0;34m\u001b[0m\u001b[0m\n\u001b[1;32m    433\u001b[0m \u001b[0;34m\u001b[0m\u001b[0m\n\u001b[0;32m--> 434\u001b[0;31m         all_results = Parallel(\n\u001b[0m\u001b[1;32m    435\u001b[0m             \u001b[0mn_jobs\u001b[0m\u001b[0;34m=\u001b[0m\u001b[0mn_jobs\u001b[0m\u001b[0;34m,\u001b[0m \u001b[0mverbose\u001b[0m\u001b[0;34m=\u001b[0m\u001b[0mself\u001b[0m\u001b[0;34m.\u001b[0m\u001b[0mverbose\u001b[0m\u001b[0;34m,\u001b[0m \u001b[0;34m**\u001b[0m\u001b[0mself\u001b[0m\u001b[0;34m.\u001b[0m\u001b[0m_parallel_args\u001b[0m\u001b[0;34m(\u001b[0m\u001b[0;34m)\u001b[0m\u001b[0;34m\u001b[0m\u001b[0;34m\u001b[0m\u001b[0m\n\u001b[1;32m    436\u001b[0m         \u001b[0;34m)\u001b[0m\u001b[0;34m(\u001b[0m\u001b[0;34m\u001b[0m\u001b[0;34m\u001b[0m\u001b[0m\n",
      "\u001b[0;32m/usr/lib/python3.10/site-packages/joblib/parallel.py\u001b[0m in \u001b[0;36m__call__\u001b[0;34m(self, iterable)\u001b[0m\n\u001b[1;32m   1039\u001b[0m             \u001b[0;31m# remaining jobs.\u001b[0m\u001b[0;34m\u001b[0m\u001b[0;34m\u001b[0m\u001b[0m\n\u001b[1;32m   1040\u001b[0m             \u001b[0mself\u001b[0m\u001b[0;34m.\u001b[0m\u001b[0m_iterating\u001b[0m \u001b[0;34m=\u001b[0m \u001b[0;32mFalse\u001b[0m\u001b[0;34m\u001b[0m\u001b[0;34m\u001b[0m\u001b[0m\n\u001b[0;32m-> 1041\u001b[0;31m             \u001b[0;32mif\u001b[0m \u001b[0mself\u001b[0m\u001b[0;34m.\u001b[0m\u001b[0mdispatch_one_batch\u001b[0m\u001b[0;34m(\u001b[0m\u001b[0miterator\u001b[0m\u001b[0;34m)\u001b[0m\u001b[0;34m:\u001b[0m\u001b[0;34m\u001b[0m\u001b[0;34m\u001b[0m\u001b[0m\n\u001b[0m\u001b[1;32m   1042\u001b[0m                 \u001b[0mself\u001b[0m\u001b[0;34m.\u001b[0m\u001b[0m_iterating\u001b[0m \u001b[0;34m=\u001b[0m \u001b[0mself\u001b[0m\u001b[0;34m.\u001b[0m\u001b[0m_original_iterator\u001b[0m \u001b[0;32mis\u001b[0m \u001b[0;32mnot\u001b[0m \u001b[0;32mNone\u001b[0m\u001b[0;34m\u001b[0m\u001b[0;34m\u001b[0m\u001b[0m\n\u001b[1;32m   1043\u001b[0m \u001b[0;34m\u001b[0m\u001b[0m\n",
      "\u001b[0;32m/usr/lib/python3.10/site-packages/joblib/parallel.py\u001b[0m in \u001b[0;36mdispatch_one_batch\u001b[0;34m(self, iterator)\u001b[0m\n\u001b[1;32m    857\u001b[0m                 \u001b[0;32mreturn\u001b[0m \u001b[0;32mFalse\u001b[0m\u001b[0;34m\u001b[0m\u001b[0;34m\u001b[0m\u001b[0m\n\u001b[1;32m    858\u001b[0m             \u001b[0;32melse\u001b[0m\u001b[0;34m:\u001b[0m\u001b[0;34m\u001b[0m\u001b[0;34m\u001b[0m\u001b[0m\n\u001b[0;32m--> 859\u001b[0;31m                 \u001b[0mself\u001b[0m\u001b[0;34m.\u001b[0m\u001b[0m_dispatch\u001b[0m\u001b[0;34m(\u001b[0m\u001b[0mtasks\u001b[0m\u001b[0;34m)\u001b[0m\u001b[0;34m\u001b[0m\u001b[0;34m\u001b[0m\u001b[0m\n\u001b[0m\u001b[1;32m    860\u001b[0m                 \u001b[0;32mreturn\u001b[0m \u001b[0;32mTrue\u001b[0m\u001b[0;34m\u001b[0m\u001b[0;34m\u001b[0m\u001b[0m\n\u001b[1;32m    861\u001b[0m \u001b[0;34m\u001b[0m\u001b[0m\n",
      "\u001b[0;32m/usr/lib/python3.10/site-packages/joblib/parallel.py\u001b[0m in \u001b[0;36m_dispatch\u001b[0;34m(self, batch)\u001b[0m\n\u001b[1;32m    775\u001b[0m         \u001b[0;32mwith\u001b[0m \u001b[0mself\u001b[0m\u001b[0;34m.\u001b[0m\u001b[0m_lock\u001b[0m\u001b[0;34m:\u001b[0m\u001b[0;34m\u001b[0m\u001b[0;34m\u001b[0m\u001b[0m\n\u001b[1;32m    776\u001b[0m             \u001b[0mjob_idx\u001b[0m \u001b[0;34m=\u001b[0m \u001b[0mlen\u001b[0m\u001b[0;34m(\u001b[0m\u001b[0mself\u001b[0m\u001b[0;34m.\u001b[0m\u001b[0m_jobs\u001b[0m\u001b[0;34m)\u001b[0m\u001b[0;34m\u001b[0m\u001b[0;34m\u001b[0m\u001b[0m\n\u001b[0;32m--> 777\u001b[0;31m             \u001b[0mjob\u001b[0m \u001b[0;34m=\u001b[0m \u001b[0mself\u001b[0m\u001b[0;34m.\u001b[0m\u001b[0m_backend\u001b[0m\u001b[0;34m.\u001b[0m\u001b[0mapply_async\u001b[0m\u001b[0;34m(\u001b[0m\u001b[0mbatch\u001b[0m\u001b[0;34m,\u001b[0m \u001b[0mcallback\u001b[0m\u001b[0;34m=\u001b[0m\u001b[0mcb\u001b[0m\u001b[0;34m)\u001b[0m\u001b[0;34m\u001b[0m\u001b[0;34m\u001b[0m\u001b[0m\n\u001b[0m\u001b[1;32m    778\u001b[0m             \u001b[0;31m# A job can complete so quickly than its callback is\u001b[0m\u001b[0;34m\u001b[0m\u001b[0;34m\u001b[0m\u001b[0m\n\u001b[1;32m    779\u001b[0m             \u001b[0;31m# called before we get here, causing self._jobs to\u001b[0m\u001b[0;34m\u001b[0m\u001b[0;34m\u001b[0m\u001b[0m\n",
      "\u001b[0;32m/usr/lib/python3.10/site-packages/joblib/_parallel_backends.py\u001b[0m in \u001b[0;36mapply_async\u001b[0;34m(self, func, callback)\u001b[0m\n\u001b[1;32m    206\u001b[0m     \u001b[0;32mdef\u001b[0m \u001b[0mapply_async\u001b[0m\u001b[0;34m(\u001b[0m\u001b[0mself\u001b[0m\u001b[0;34m,\u001b[0m \u001b[0mfunc\u001b[0m\u001b[0;34m,\u001b[0m \u001b[0mcallback\u001b[0m\u001b[0;34m=\u001b[0m\u001b[0;32mNone\u001b[0m\u001b[0;34m)\u001b[0m\u001b[0;34m:\u001b[0m\u001b[0;34m\u001b[0m\u001b[0;34m\u001b[0m\u001b[0m\n\u001b[1;32m    207\u001b[0m         \u001b[0;34m\"\"\"Schedule a func to be run\"\"\"\u001b[0m\u001b[0;34m\u001b[0m\u001b[0;34m\u001b[0m\u001b[0m\n\u001b[0;32m--> 208\u001b[0;31m         \u001b[0mresult\u001b[0m \u001b[0;34m=\u001b[0m \u001b[0mImmediateResult\u001b[0m\u001b[0;34m(\u001b[0m\u001b[0mfunc\u001b[0m\u001b[0;34m)\u001b[0m\u001b[0;34m\u001b[0m\u001b[0;34m\u001b[0m\u001b[0m\n\u001b[0m\u001b[1;32m    209\u001b[0m         \u001b[0;32mif\u001b[0m \u001b[0mcallback\u001b[0m\u001b[0;34m:\u001b[0m\u001b[0;34m\u001b[0m\u001b[0;34m\u001b[0m\u001b[0m\n\u001b[1;32m    210\u001b[0m             \u001b[0mcallback\u001b[0m\u001b[0;34m(\u001b[0m\u001b[0mresult\u001b[0m\u001b[0;34m)\u001b[0m\u001b[0;34m\u001b[0m\u001b[0;34m\u001b[0m\u001b[0m\n",
      "\u001b[0;32m/usr/lib/python3.10/site-packages/joblib/_parallel_backends.py\u001b[0m in \u001b[0;36m__init__\u001b[0;34m(self, batch)\u001b[0m\n\u001b[1;32m    570\u001b[0m         \u001b[0;31m# Don't delay the application, to avoid keeping the input\u001b[0m\u001b[0;34m\u001b[0m\u001b[0;34m\u001b[0m\u001b[0m\n\u001b[1;32m    571\u001b[0m         \u001b[0;31m# arguments in memory\u001b[0m\u001b[0;34m\u001b[0m\u001b[0;34m\u001b[0m\u001b[0m\n\u001b[0;32m--> 572\u001b[0;31m         \u001b[0mself\u001b[0m\u001b[0;34m.\u001b[0m\u001b[0mresults\u001b[0m \u001b[0;34m=\u001b[0m \u001b[0mbatch\u001b[0m\u001b[0;34m(\u001b[0m\u001b[0;34m)\u001b[0m\u001b[0;34m\u001b[0m\u001b[0;34m\u001b[0m\u001b[0m\n\u001b[0m\u001b[1;32m    573\u001b[0m \u001b[0;34m\u001b[0m\u001b[0m\n\u001b[1;32m    574\u001b[0m     \u001b[0;32mdef\u001b[0m \u001b[0mget\u001b[0m\u001b[0;34m(\u001b[0m\u001b[0mself\u001b[0m\u001b[0;34m)\u001b[0m\u001b[0;34m:\u001b[0m\u001b[0;34m\u001b[0m\u001b[0;34m\u001b[0m\u001b[0m\n",
      "\u001b[0;32m/usr/lib/python3.10/site-packages/joblib/parallel.py\u001b[0m in \u001b[0;36m__call__\u001b[0;34m(self)\u001b[0m\n\u001b[1;32m    260\u001b[0m         \u001b[0;31m# change the default number of processes to -1\u001b[0m\u001b[0;34m\u001b[0m\u001b[0;34m\u001b[0m\u001b[0m\n\u001b[1;32m    261\u001b[0m         \u001b[0;32mwith\u001b[0m \u001b[0mparallel_backend\u001b[0m\u001b[0;34m(\u001b[0m\u001b[0mself\u001b[0m\u001b[0;34m.\u001b[0m\u001b[0m_backend\u001b[0m\u001b[0;34m,\u001b[0m \u001b[0mn_jobs\u001b[0m\u001b[0;34m=\u001b[0m\u001b[0mself\u001b[0m\u001b[0;34m.\u001b[0m\u001b[0m_n_jobs\u001b[0m\u001b[0;34m)\u001b[0m\u001b[0;34m:\u001b[0m\u001b[0;34m\u001b[0m\u001b[0;34m\u001b[0m\u001b[0m\n\u001b[0;32m--> 262\u001b[0;31m             return [func(*args, **kwargs)\n\u001b[0m\u001b[1;32m    263\u001b[0m                     for func, args, kwargs in self.items]\n\u001b[1;32m    264\u001b[0m \u001b[0;34m\u001b[0m\u001b[0m\n",
      "\u001b[0;32m/usr/lib/python3.10/site-packages/joblib/parallel.py\u001b[0m in \u001b[0;36m<listcomp>\u001b[0;34m(.0)\u001b[0m\n\u001b[1;32m    260\u001b[0m         \u001b[0;31m# change the default number of processes to -1\u001b[0m\u001b[0;34m\u001b[0m\u001b[0;34m\u001b[0m\u001b[0m\n\u001b[1;32m    261\u001b[0m         \u001b[0;32mwith\u001b[0m \u001b[0mparallel_backend\u001b[0m\u001b[0;34m(\u001b[0m\u001b[0mself\u001b[0m\u001b[0;34m.\u001b[0m\u001b[0m_backend\u001b[0m\u001b[0;34m,\u001b[0m \u001b[0mn_jobs\u001b[0m\u001b[0;34m=\u001b[0m\u001b[0mself\u001b[0m\u001b[0;34m.\u001b[0m\u001b[0m_n_jobs\u001b[0m\u001b[0;34m)\u001b[0m\u001b[0;34m:\u001b[0m\u001b[0;34m\u001b[0m\u001b[0;34m\u001b[0m\u001b[0m\n\u001b[0;32m--> 262\u001b[0;31m             return [func(*args, **kwargs)\n\u001b[0m\u001b[1;32m    263\u001b[0m                     for func, args, kwargs in self.items]\n\u001b[1;32m    264\u001b[0m \u001b[0;34m\u001b[0m\u001b[0m\n",
      "\u001b[0;32m~/.local/lib/python3.10/site-packages/sklearn/utils/fixes.py\u001b[0m in \u001b[0;36m__call__\u001b[0;34m(self, *args, **kwargs)\u001b[0m\n\u001b[1;32m    115\u001b[0m     \u001b[0;32mdef\u001b[0m \u001b[0m__call__\u001b[0m\u001b[0;34m(\u001b[0m\u001b[0mself\u001b[0m\u001b[0;34m,\u001b[0m \u001b[0;34m*\u001b[0m\u001b[0margs\u001b[0m\u001b[0;34m,\u001b[0m \u001b[0;34m**\u001b[0m\u001b[0mkwargs\u001b[0m\u001b[0;34m)\u001b[0m\u001b[0;34m:\u001b[0m\u001b[0;34m\u001b[0m\u001b[0;34m\u001b[0m\u001b[0m\n\u001b[1;32m    116\u001b[0m         \u001b[0;32mwith\u001b[0m \u001b[0mconfig_context\u001b[0m\u001b[0;34m(\u001b[0m\u001b[0;34m**\u001b[0m\u001b[0mself\u001b[0m\u001b[0;34m.\u001b[0m\u001b[0mconfig\u001b[0m\u001b[0;34m)\u001b[0m\u001b[0;34m:\u001b[0m\u001b[0;34m\u001b[0m\u001b[0;34m\u001b[0m\u001b[0m\n\u001b[0;32m--> 117\u001b[0;31m             \u001b[0;32mreturn\u001b[0m \u001b[0mself\u001b[0m\u001b[0;34m.\u001b[0m\u001b[0mfunction\u001b[0m\u001b[0;34m(\u001b[0m\u001b[0;34m*\u001b[0m\u001b[0margs\u001b[0m\u001b[0;34m,\u001b[0m \u001b[0;34m**\u001b[0m\u001b[0mkwargs\u001b[0m\u001b[0;34m)\u001b[0m\u001b[0;34m\u001b[0m\u001b[0;34m\u001b[0m\u001b[0m\n\u001b[0m\u001b[1;32m    118\u001b[0m \u001b[0;34m\u001b[0m\u001b[0m\n\u001b[1;32m    119\u001b[0m \u001b[0;34m\u001b[0m\u001b[0m\n",
      "\u001b[0;32m~/.local/lib/python3.10/site-packages/sklearn/ensemble/_bagging.py\u001b[0m in \u001b[0;36m_parallel_build_estimators\u001b[0;34m(n_estimators, ensemble, X, y, sample_weight, seeds, total_n_estimators, verbose, check_input)\u001b[0m\n\u001b[1;32m    136\u001b[0m                 \u001b[0mcurr_sample_weight\u001b[0m\u001b[0;34m[\u001b[0m\u001b[0mnot_indices_mask\u001b[0m\u001b[0;34m]\u001b[0m \u001b[0;34m=\u001b[0m \u001b[0;36m0\u001b[0m\u001b[0;34m\u001b[0m\u001b[0;34m\u001b[0m\u001b[0m\n\u001b[1;32m    137\u001b[0m \u001b[0;34m\u001b[0m\u001b[0m\n\u001b[0;32m--> 138\u001b[0;31m             \u001b[0mestimator_fit\u001b[0m\u001b[0;34m(\u001b[0m\u001b[0mX\u001b[0m\u001b[0;34m[\u001b[0m\u001b[0;34m:\u001b[0m\u001b[0;34m,\u001b[0m \u001b[0mfeatures\u001b[0m\u001b[0;34m]\u001b[0m\u001b[0;34m,\u001b[0m \u001b[0my\u001b[0m\u001b[0;34m,\u001b[0m \u001b[0msample_weight\u001b[0m\u001b[0;34m=\u001b[0m\u001b[0mcurr_sample_weight\u001b[0m\u001b[0;34m)\u001b[0m\u001b[0;34m\u001b[0m\u001b[0;34m\u001b[0m\u001b[0m\n\u001b[0m\u001b[1;32m    139\u001b[0m \u001b[0;34m\u001b[0m\u001b[0m\n\u001b[1;32m    140\u001b[0m         \u001b[0;32melse\u001b[0m\u001b[0;34m:\u001b[0m\u001b[0;34m\u001b[0m\u001b[0;34m\u001b[0m\u001b[0m\n",
      "\u001b[0;32m~/.local/lib/python3.10/site-packages/sklearn/tree/_classes.py\u001b[0m in \u001b[0;36mfit\u001b[0;34m(self, X, y, sample_weight, check_input)\u001b[0m\n\u001b[1;32m    967\u001b[0m         \"\"\"\n\u001b[1;32m    968\u001b[0m \u001b[0;34m\u001b[0m\u001b[0m\n\u001b[0;32m--> 969\u001b[0;31m         super().fit(\n\u001b[0m\u001b[1;32m    970\u001b[0m             \u001b[0mX\u001b[0m\u001b[0;34m,\u001b[0m\u001b[0;34m\u001b[0m\u001b[0;34m\u001b[0m\u001b[0m\n\u001b[1;32m    971\u001b[0m             \u001b[0my\u001b[0m\u001b[0;34m,\u001b[0m\u001b[0;34m\u001b[0m\u001b[0;34m\u001b[0m\u001b[0m\n",
      "\u001b[0;32m~/.local/lib/python3.10/site-packages/sklearn/tree/_classes.py\u001b[0m in \u001b[0;36mfit\u001b[0;34m(self, X, y, sample_weight, check_input)\u001b[0m\n\u001b[1;32m    456\u001b[0m             )\n\u001b[1;32m    457\u001b[0m \u001b[0;34m\u001b[0m\u001b[0m\n\u001b[0;32m--> 458\u001b[0;31m         \u001b[0mbuilder\u001b[0m\u001b[0;34m.\u001b[0m\u001b[0mbuild\u001b[0m\u001b[0;34m(\u001b[0m\u001b[0mself\u001b[0m\u001b[0;34m.\u001b[0m\u001b[0mtree_\u001b[0m\u001b[0;34m,\u001b[0m \u001b[0mX\u001b[0m\u001b[0;34m,\u001b[0m \u001b[0my\u001b[0m\u001b[0;34m,\u001b[0m \u001b[0msample_weight\u001b[0m\u001b[0;34m)\u001b[0m\u001b[0;34m\u001b[0m\u001b[0;34m\u001b[0m\u001b[0m\n\u001b[0m\u001b[1;32m    459\u001b[0m \u001b[0;34m\u001b[0m\u001b[0m\n\u001b[1;32m    460\u001b[0m         \u001b[0;32mif\u001b[0m \u001b[0mself\u001b[0m\u001b[0;34m.\u001b[0m\u001b[0mn_outputs_\u001b[0m \u001b[0;34m==\u001b[0m \u001b[0;36m1\u001b[0m \u001b[0;32mand\u001b[0m \u001b[0mis_classifier\u001b[0m\u001b[0;34m(\u001b[0m\u001b[0mself\u001b[0m\u001b[0;34m)\u001b[0m\u001b[0;34m:\u001b[0m\u001b[0;34m\u001b[0m\u001b[0;34m\u001b[0m\u001b[0m\n",
      "\u001b[0;31mKeyboardInterrupt\u001b[0m: "
     ]
    }
   ],
   "source": [
    "run_classifiers(clfs, X1_Svd, Y1)"
   ]
  },
  {
   "cell_type": "code",
   "execution_count": null,
   "id": "1763d988-4a43-41bd-9a64-60dd97978679",
   "metadata": {},
   "outputs": [],
   "source": [
    "Même constat que lors des deux tests précédents."
   ]
  },
  {
   "cell_type": "code",
   "execution_count": 11,
   "id": "41db5c51-e93b-46e2-8308-1514763977b0",
   "metadata": {},
   "outputs": [
    {
     "data": {
      "text/plain": [
       "0.9843862167982771"
      ]
     },
     "execution_count": 11,
     "metadata": {},
     "output_type": "execute_result"
    }
   ],
   "source": [
    "# Pipeline\n",
    "X = data2[\"SMS\"]\n",
    "y = LabelEncoder().fit_transform(data2[\"Target\"])\n",
    "\n",
    "model_pipeline = Pipeline([(\"CountVectorizer\", CountVectorizer(stop_words = \"english\", min_df = 0.01)),\n",
    "                           (\"Tfidf\", TfidfTransformer()),\n",
    "                           (\"TruncatedSVD\", TruncatedSVD()),\n",
    "                           (\"RandomForestClassifier()\", RandomForestClassifier(n_estimators=200, random_state=1))])\n",
    "\n",
    "model_pipeline.fit(X, y)\n",
    "model_pipeline.score(X, y)"
   ]
  },
  {
   "cell_type": "code",
   "execution_count": 12,
   "id": "37ccd12d-1b76-49fc-8b41-6f9b6e5f1d9a",
   "metadata": {},
   "outputs": [
    {
     "data": {
      "text/plain": [
       "0.8659368269921034"
      ]
     },
     "execution_count": 12,
     "metadata": {},
     "output_type": "execute_result"
    }
   ],
   "source": [
    "X = data2[\"SMS\"]\n",
    "y = LabelEncoder().fit_transform(data2[\"Target\"])\n",
    "\n",
    "model_pipeline1 = Pipeline([(\"CountVectorizer\", CountVectorizer(stop_words = \"english\", min_df = 0.01)),\n",
    "                           (\"Tfidf\", TfidfTransformer()),\n",
    "                           (\"TruncatedSVD\", TruncatedSVD()),\n",
    "                           (\"MLP\", MLPClassifier(hidden_layer_sizes=(50, 10), random_state=1))])\n",
    "\n",
    "model_pipeline1.fit(X, y)\n",
    "model_pipeline1.score(X, y)"
   ]
  },
  {
   "cell_type": "code",
   "execution_count": 13,
   "id": "e2b2b728-be2d-48c0-a6f2-718f6e46152b",
   "metadata": {},
   "outputs": [
    {
     "data": {
      "text/plain": [
       "0.8659368269921034"
      ]
     },
     "execution_count": 13,
     "metadata": {},
     "output_type": "execute_result"
    }
   ],
   "source": [
    "X = data2[\"SMS\"]\n",
    "y = LabelEncoder().fit_transform(data2[\"Target\"])\n",
    "\n",
    "model_pipeline2 = Pipeline([(\"CountVectorizer\", CountVectorizer(stop_words = \"english\", min_df = 0.01)),\n",
    "                           (\"Tfidf\", TfidfTransformer()),\n",
    "                           (\"TruncatedSVD\", TruncatedSVD()),\n",
    "                           (\"SVC\", SVC())])\n",
    "\n",
    "model_pipeline2.fit(X, y)\n",
    "model_pipeline2.score(X, y)"
   ]
  },
  {
   "cell_type": "markdown",
   "id": "b27a3b63-0ade-4b71-a7ab-9fc8d7602c8d",
   "metadata": {},
   "source": [
    "On regarde nos trois modèles choisis précédemment.\n",
    "On remarque que le modèle RF est le meilleur, nous choisissons donc celui-là."
   ]
  },
  {
   "cell_type": "code",
   "execution_count": 14,
   "id": "793b4fb3-0db5-4a81-811e-e21e8ff36780",
   "metadata": {},
   "outputs": [],
   "source": [
    "import pickle\n",
    "\n",
    "pkl_filename = \"model-pipeline.pkl\"\n",
    "with open(pkl_filename, 'wb') as file:\n",
    "    pickle.dump(model_pipeline, file)"
   ]
  },
  {
   "cell_type": "code",
   "execution_count": 15,
   "id": "e893cc03-07c9-4398-99a1-5d68fd22d4a3",
   "metadata": {},
   "outputs": [],
   "source": [
    "with open(pkl_filename, 'rb') as file:\n",
    "    pk = pickle.load(file)"
   ]
  },
  {
   "cell_type": "code",
   "execution_count": 16,
   "id": "bd53e4ae-de63-4aff-be88-f2485bdda245",
   "metadata": {},
   "outputs": [],
   "source": [
    "# Nouveau jeu de données\n",
    "data3 = pd.read_csv(\"yelp-text-by-stars.csv\", sep=';', encoding = \"ISO-8859-1\")"
   ]
  },
  {
   "cell_type": "code",
   "execution_count": 17,
   "id": "5129db2b-2c6d-4e49-b71d-1ee2fa28ec70",
   "metadata": {},
   "outputs": [
    {
     "data": {
      "text/html": [
       "<div>\n",
       "<style scoped>\n",
       "    .dataframe tbody tr th:only-of-type {\n",
       "        vertical-align: middle;\n",
       "    }\n",
       "\n",
       "    .dataframe tbody tr th {\n",
       "        vertical-align: top;\n",
       "    }\n",
       "\n",
       "    .dataframe thead th {\n",
       "        text-align: right;\n",
       "    }\n",
       "</style>\n",
       "<table border=\"1\" class=\"dataframe\">\n",
       "  <thead>\n",
       "    <tr style=\"text-align: right;\">\n",
       "      <th></th>\n",
       "      <th>Stars</th>\n",
       "      <th>Text</th>\n",
       "    </tr>\n",
       "  </thead>\n",
       "  <tbody>\n",
       "    <tr>\n",
       "      <th>0</th>\n",
       "      <td>1</td>\n",
       "      <td>Boarded my English Mastiff here over New Year'...</td>\n",
       "    </tr>\n",
       "    <tr>\n",
       "      <th>1</th>\n",
       "      <td>1</td>\n",
       "      <td>Another case of the Emperor's New Clothes.  So...</td>\n",
       "    </tr>\n",
       "    <tr>\n",
       "      <th>2</th>\n",
       "      <td>1</td>\n",
       "      <td>Came on Valentine's Day night having pre-bough...</td>\n",
       "    </tr>\n",
       "    <tr>\n",
       "      <th>3</th>\n",
       "      <td>1</td>\n",
       "      <td>2Nd time eating here today.1st time was great ...</td>\n",
       "    </tr>\n",
       "    <tr>\n",
       "      <th>4</th>\n",
       "      <td>1</td>\n",
       "      <td>Allegiant is a disaster.  Their fares are chea...</td>\n",
       "    </tr>\n",
       "  </tbody>\n",
       "</table>\n",
       "</div>"
      ],
      "text/plain": [
       "   Stars                                               Text\n",
       "0      1  Boarded my English Mastiff here over New Year'...\n",
       "1      1  Another case of the Emperor's New Clothes.  So...\n",
       "2      1  Came on Valentine's Day night having pre-bough...\n",
       "3      1  2Nd time eating here today.1st time was great ...\n",
       "4      1  Allegiant is a disaster.  Their fares are chea..."
      ]
     },
     "execution_count": 17,
     "metadata": {},
     "output_type": "execute_result"
    }
   ],
   "source": [
    "data3.head()"
   ]
  },
  {
   "cell_type": "code",
   "execution_count": 18,
   "id": "a311c32a-485e-430c-9855-38cd305d5732",
   "metadata": {},
   "outputs": [],
   "source": [
    "X2 = data3[\"Text\"].values\n",
    "Y2 = data3[\"Stars\"].values"
   ]
  },
  {
   "cell_type": "code",
   "execution_count": 19,
   "id": "04afbec1-ffdb-4d6a-8aeb-de07a828e327",
   "metadata": {},
   "outputs": [],
   "source": [
    "for_scoring = {'f1_score': make_scorer(f1_score, average='micro'),\n",
    "            'precision_score': make_scorer(precision_score, average='micro'),\n",
    "            'recall_score': make_scorer(recall_score, average='micro'),\n",
    "            'accuracy_score': make_scorer(accuracy_score)}\n",
    "\n",
    "cv_scores = cross_validate(model_pipeline, X2, Y2, cv = 2, scoring = for_scoring, error_score = 'raise')"
   ]
  },
  {
   "cell_type": "code",
   "execution_count": 21,
   "id": "a1e23ce8-c227-45b1-989d-4cee3a5774cd",
   "metadata": {},
   "outputs": [
    {
     "data": {
      "text/html": [
       "<style>#sk-container-id-1 {color: black;background-color: white;}#sk-container-id-1 pre{padding: 0;}#sk-container-id-1 div.sk-toggleable {background-color: white;}#sk-container-id-1 label.sk-toggleable__label {cursor: pointer;display: block;width: 100%;margin-bottom: 0;padding: 0.3em;box-sizing: border-box;text-align: center;}#sk-container-id-1 label.sk-toggleable__label-arrow:before {content: \"▸\";float: left;margin-right: 0.25em;color: #696969;}#sk-container-id-1 label.sk-toggleable__label-arrow:hover:before {color: black;}#sk-container-id-1 div.sk-estimator:hover label.sk-toggleable__label-arrow:before {color: black;}#sk-container-id-1 div.sk-toggleable__content {max-height: 0;max-width: 0;overflow: hidden;text-align: left;background-color: #f0f8ff;}#sk-container-id-1 div.sk-toggleable__content pre {margin: 0.2em;color: black;border-radius: 0.25em;background-color: #f0f8ff;}#sk-container-id-1 input.sk-toggleable__control:checked~div.sk-toggleable__content {max-height: 200px;max-width: 100%;overflow: auto;}#sk-container-id-1 input.sk-toggleable__control:checked~label.sk-toggleable__label-arrow:before {content: \"▾\";}#sk-container-id-1 div.sk-estimator input.sk-toggleable__control:checked~label.sk-toggleable__label {background-color: #d4ebff;}#sk-container-id-1 div.sk-label input.sk-toggleable__control:checked~label.sk-toggleable__label {background-color: #d4ebff;}#sk-container-id-1 input.sk-hidden--visually {border: 0;clip: rect(1px 1px 1px 1px);clip: rect(1px, 1px, 1px, 1px);height: 1px;margin: -1px;overflow: hidden;padding: 0;position: absolute;width: 1px;}#sk-container-id-1 div.sk-estimator {font-family: monospace;background-color: #f0f8ff;border: 1px dotted black;border-radius: 0.25em;box-sizing: border-box;margin-bottom: 0.5em;}#sk-container-id-1 div.sk-estimator:hover {background-color: #d4ebff;}#sk-container-id-1 div.sk-parallel-item::after {content: \"\";width: 100%;border-bottom: 1px solid gray;flex-grow: 1;}#sk-container-id-1 div.sk-label:hover label.sk-toggleable__label {background-color: #d4ebff;}#sk-container-id-1 div.sk-serial::before {content: \"\";position: absolute;border-left: 1px solid gray;box-sizing: border-box;top: 0;bottom: 0;left: 50%;z-index: 0;}#sk-container-id-1 div.sk-serial {display: flex;flex-direction: column;align-items: center;background-color: white;padding-right: 0.2em;padding-left: 0.2em;position: relative;}#sk-container-id-1 div.sk-item {position: relative;z-index: 1;}#sk-container-id-1 div.sk-parallel {display: flex;align-items: stretch;justify-content: center;background-color: white;position: relative;}#sk-container-id-1 div.sk-item::before, #sk-container-id-1 div.sk-parallel-item::before {content: \"\";position: absolute;border-left: 1px solid gray;box-sizing: border-box;top: 0;bottom: 0;left: 50%;z-index: -1;}#sk-container-id-1 div.sk-parallel-item {display: flex;flex-direction: column;z-index: 1;position: relative;background-color: white;}#sk-container-id-1 div.sk-parallel-item:first-child::after {align-self: flex-end;width: 50%;}#sk-container-id-1 div.sk-parallel-item:last-child::after {align-self: flex-start;width: 50%;}#sk-container-id-1 div.sk-parallel-item:only-child::after {width: 0;}#sk-container-id-1 div.sk-dashed-wrapped {border: 1px dashed gray;margin: 0 0.4em 0.5em 0.4em;box-sizing: border-box;padding-bottom: 0.4em;background-color: white;}#sk-container-id-1 div.sk-label label {font-family: monospace;font-weight: bold;display: inline-block;line-height: 1.2em;}#sk-container-id-1 div.sk-label-container {text-align: center;}#sk-container-id-1 div.sk-container {/* jupyter's `normalize.less` sets `[hidden] { display: none; }` but bootstrap.min.css set `[hidden] { display: none !important; }` so we also need the `!important` here to be able to override the default hidden behavior on the sphinx rendered scikit-learn.org. See: https://github.com/scikit-learn/scikit-learn/issues/21755 */display: inline-block !important;position: relative;}#sk-container-id-1 div.sk-text-repr-fallback {display: none;}</style><div id=\"sk-container-id-1\" class=\"sk-top-container\"><div class=\"sk-text-repr-fallback\"><pre>Pipeline(steps=[(&#x27;CountVectorizer&#x27;,\n",
       "                 CountVectorizer(min_df=0.01, stop_words=&#x27;english&#x27;)),\n",
       "                (&#x27;Tfidf&#x27;, TfidfTransformer()), (&#x27;TruncatedSVD&#x27;, TruncatedSVD()),\n",
       "                (&#x27;RandomForestClassifier()&#x27;,\n",
       "                 RandomForestClassifier(n_estimators=200, random_state=1))])</pre><b>In a Jupyter environment, please rerun this cell to show the HTML representation or trust the notebook. <br />On GitHub, the HTML representation is unable to render, please try loading this page with nbviewer.org.</b></div><div class=\"sk-container\" hidden><div class=\"sk-item sk-dashed-wrapped\"><div class=\"sk-label-container\"><div class=\"sk-label sk-toggleable\"><input class=\"sk-toggleable__control sk-hidden--visually\" id=\"sk-estimator-id-1\" type=\"checkbox\" ><label for=\"sk-estimator-id-1\" class=\"sk-toggleable__label sk-toggleable__label-arrow\">Pipeline</label><div class=\"sk-toggleable__content\"><pre>Pipeline(steps=[(&#x27;CountVectorizer&#x27;,\n",
       "                 CountVectorizer(min_df=0.01, stop_words=&#x27;english&#x27;)),\n",
       "                (&#x27;Tfidf&#x27;, TfidfTransformer()), (&#x27;TruncatedSVD&#x27;, TruncatedSVD()),\n",
       "                (&#x27;RandomForestClassifier()&#x27;,\n",
       "                 RandomForestClassifier(n_estimators=200, random_state=1))])</pre></div></div></div><div class=\"sk-serial\"><div class=\"sk-item\"><div class=\"sk-estimator sk-toggleable\"><input class=\"sk-toggleable__control sk-hidden--visually\" id=\"sk-estimator-id-2\" type=\"checkbox\" ><label for=\"sk-estimator-id-2\" class=\"sk-toggleable__label sk-toggleable__label-arrow\">CountVectorizer</label><div class=\"sk-toggleable__content\"><pre>CountVectorizer(min_df=0.01, stop_words=&#x27;english&#x27;)</pre></div></div></div><div class=\"sk-item\"><div class=\"sk-estimator sk-toggleable\"><input class=\"sk-toggleable__control sk-hidden--visually\" id=\"sk-estimator-id-3\" type=\"checkbox\" ><label for=\"sk-estimator-id-3\" class=\"sk-toggleable__label sk-toggleable__label-arrow\">TfidfTransformer</label><div class=\"sk-toggleable__content\"><pre>TfidfTransformer()</pre></div></div></div><div class=\"sk-item\"><div class=\"sk-estimator sk-toggleable\"><input class=\"sk-toggleable__control sk-hidden--visually\" id=\"sk-estimator-id-4\" type=\"checkbox\" ><label for=\"sk-estimator-id-4\" class=\"sk-toggleable__label sk-toggleable__label-arrow\">TruncatedSVD</label><div class=\"sk-toggleable__content\"><pre>TruncatedSVD()</pre></div></div></div><div class=\"sk-item\"><div class=\"sk-estimator sk-toggleable\"><input class=\"sk-toggleable__control sk-hidden--visually\" id=\"sk-estimator-id-5\" type=\"checkbox\" ><label for=\"sk-estimator-id-5\" class=\"sk-toggleable__label sk-toggleable__label-arrow\">RandomForestClassifier</label><div class=\"sk-toggleable__content\"><pre>RandomForestClassifier(n_estimators=200, random_state=1)</pre></div></div></div></div></div></div></div>"
      ],
      "text/plain": [
       "Pipeline(steps=[('CountVectorizer',\n",
       "                 CountVectorizer(min_df=0.01, stop_words='english')),\n",
       "                ('Tfidf', TfidfTransformer()), ('TruncatedSVD', TruncatedSVD()),\n",
       "                ('RandomForestClassifier()',\n",
       "                 RandomForestClassifier(n_estimators=200, random_state=1))])"
      ]
     },
     "execution_count": 21,
     "metadata": {},
     "output_type": "execute_result"
    }
   ],
   "source": [
    "pk.fit(X2,Y2)"
   ]
  },
  {
   "cell_type": "code",
   "execution_count": 23,
   "id": "e2f4d370-db91-45ca-9922-465d0bcdfa78",
   "metadata": {},
   "outputs": [
    {
     "data": {
      "text/plain": [
       "0.9982900930949316"
      ]
     },
     "execution_count": 23,
     "metadata": {},
     "output_type": "execute_result"
    }
   ],
   "source": [
    "pk.score(X2,Y2)"
   ]
  },
  {
   "cell_type": "code",
   "execution_count": null,
   "id": "262a272b-4888-42a9-8598-6744516791ae",
   "metadata": {},
   "outputs": [],
   "source": [
    "# Bonus"
   ]
  },
  {
   "cell_type": "code",
   "execution_count": 24,
   "id": "72b2df58-c539-450c-9fe7-ec313769eff1",
   "metadata": {},
   "outputs": [],
   "source": [
    "def longeur_max(phrase):\n",
    "    max_index= 0\n",
    "    for i in range(len(phrase)):\n",
    "        if len(phrase[i]) >=len(phrase[max_index]):\n",
    "            max_index = i\n",
    "    return len(phrase[max_index])"
   ]
  },
  {
   "cell_type": "code",
   "execution_count": 25,
   "id": "002f1f69-c5d4-4e0f-afc6-c1c7a3662cd8",
   "metadata": {},
   "outputs": [
    {
     "data": {
      "text/plain": [
       "4999"
      ]
     },
     "execution_count": 25,
     "metadata": {},
     "output_type": "execute_result"
    }
   ],
   "source": [
    "longeur_max(X2)"
   ]
  },
  {
   "cell_type": "code",
   "execution_count": 26,
   "id": "e2237911-d91e-43dd-8321-a631d16695da",
   "metadata": {},
   "outputs": [],
   "source": [
    "X_test = [x.lower() for x in X2]\n",
    "\n",
    "for i in range(X2.size):\n",
    "    X_test[i] = re.sub('[^A-Za-z]+', ' ', X_test[i])\n",
    "    X_test[i] = X_test[i].split()\n",
    "\n",
    "stop_words = stopwords.words('english')\n",
    "\n",
    "for i in range(X2.size):\n",
    "    X_test[i] = [word for word in X_test[i] if word not in stop_words]"
   ]
  },
  {
   "cell_type": "code",
   "execution_count": 27,
   "id": "f7a53b7c-906b-4296-8aff-3bf90f5cab30",
   "metadata": {},
   "outputs": [
    {
     "data": {
      "text/plain": [
       "((47366,), (47366,))"
      ]
     },
     "execution_count": 27,
     "metadata": {},
     "output_type": "execute_result"
    }
   ],
   "source": [
    "vocabulary, counts = np.unique(X_test, return_counts=True)\n",
    "\n",
    "vocabulary.shape, counts.shape"
   ]
  },
  {
   "cell_type": "code",
   "execution_count": 28,
   "id": "f6914e52-31b3-4ab2-9ef5-a0ee420cc7df",
   "metadata": {},
   "outputs": [
    {
     "ename": "ValueError",
     "evalue": "Expected 2D array, got 1D array instead:\narray=[list(['boarded', 'english', 'mastiff', 'new', 'year', 'closed', 'sunday', 'even', 'though', 'got', 'home', 'sunday', 'leave', 'another', 'day', 'pay', 'another', 'day', 'pick', 'monday', 'morning', 'got', 'complimentary', 'bath', 'boarding', 'pick', 'got', 'car', 'noticed', 'pungent', 'musky', 'odor', 'figure', 'got', 'home', 'smell', 'bad', 'leave', 'car', 'windows', 'open', 'air', 'greenish', 'material', 'underside', 'tail', 'around', 'butt', 'tried', 'clean', 'let', 'outside', 'watery', 'diarrhea', 'called', 'asked', 'stinky', 'green', 'stuff', 'noticed', 'groomer', 'said', 'notice', 'figured', 'rolled', 'something', 'clean', 'sent', 'home', 'way', 'anal', 'gland', 'secretions', 'thinking', 'groomer', 'working', 'veterinary', 'hospital', 'recognize', 'go', 'grab', 'tech', 'somewhere', 'place', 'take', 'look', 'bring', 'poor', 'dog', 'way', 'back', 'making', 'late', 'work', 'something', 'never', 'sent', 'home', 'express', 'anal', 'glands', 'brought', 'still', 'stinky', 'leaving', 'oily', 'green', 'stuff', 'sitting', 'lobby', 'asked', 'gal', 'behind', 'counter', 'tried', 'tell', 'soap', 'asked', 'tissue', 'wiped', 'showed', 'asked', 'look', 'like', 'soap', 'would', 'like', 'tell', 'think', 'smells', 'like', 'soap', 'took', 'back', 'cleaned', 'prescribed', 'anti', 'diarrheal', 'medication', 'noticed', 'bad', 'diarrhea', 'back', 'never', 'board', 'dog'])\n list(['another', 'case', 'emperor', 'new', 'clothes', 'someone', 'artsy', 'set', 'decided', 'relatively', 'good', 'overpriced', 'fare', 'great', 'pizza', 'lemmings', 'followed', 'suit', 'anyone', 'tell', 'emperor', 'clothes', 'limited', 'hours', 'delivery', 'lack', 'dining', 'area', 'add', 'snob', 'appeal', 'taken'])\n list(['came', 'valentine', 'day', 'night', 'pre', 'bought', 'tickets', 'ended', 'waiting', 'line', 'ten', 'minutes', 'missing', 'beginning', 'movie', 'automated', 'ticketing', 'machines', 'broken', 'properly', 'staffed', 'ticket', 'counters', 'pick', 'tickets', 'already', 'bought', 'seriously', 'annoying', 'theater', 'usually', 'enjoyable'])\n ...\n list(['best', 'tom', 'yum', 'ever', 'also', 'rad', 'na', 'noodles', 'seafood', 'delicious', 'excellent', 'friendly', 'service', 'water', 'glasses', 'never', 'going', 'empty'])\n list(['best', 'groomer', 'valley', 'kind', 'wonderful', 'charlie', 'totally', 'accommodating', 'schedule', 'wonderful', 'cut'])\n list(['agree', 'reviewers', 'great', 'place', 'best', 'tools', 'particularly', 'good', 'screws', 'nuts', 'bolts', 'although', 'limited', 'selection', 'tools'])].\nReshape your data either using array.reshape(-1, 1) if your data has a single feature or array.reshape(1, -1) if it contains a single sample.",
     "output_type": "error",
     "traceback": [
      "\u001b[0;31m---------------------------------------------------------------------------\u001b[0m",
      "\u001b[0;31mValueError\u001b[0m                                Traceback (most recent call last)",
      "\u001b[0;32m/tmp/ipykernel_4121014/3509149289.py\u001b[0m in \u001b[0;36m<module>\u001b[0;34m\u001b[0m\n\u001b[1;32m      1\u001b[0m \u001b[0mohe\u001b[0m \u001b[0;34m=\u001b[0m \u001b[0mOneHotEncoder\u001b[0m\u001b[0;34m(\u001b[0m\u001b[0;34m)\u001b[0m\u001b[0;34m\u001b[0m\u001b[0;34m\u001b[0m\u001b[0m\n\u001b[0;32m----> 2\u001b[0;31m \u001b[0mtransformed\u001b[0m \u001b[0;34m=\u001b[0m \u001b[0mohe\u001b[0m\u001b[0;34m.\u001b[0m\u001b[0mfit_transform\u001b[0m\u001b[0;34m(\u001b[0m\u001b[0mX_test\u001b[0m\u001b[0;34m)\u001b[0m\u001b[0;34m\u001b[0m\u001b[0;34m\u001b[0m\u001b[0m\n\u001b[0m\u001b[1;32m      3\u001b[0m \u001b[0mprint\u001b[0m\u001b[0;34m(\u001b[0m\u001b[0mtransformed\u001b[0m\u001b[0;34m.\u001b[0m\u001b[0mtoarray\u001b[0m\u001b[0;34m(\u001b[0m\u001b[0;34m)\u001b[0m\u001b[0;34m)\u001b[0m\u001b[0;34m\u001b[0m\u001b[0;34m\u001b[0m\u001b[0m\n",
      "\u001b[0;32m~/.local/lib/python3.10/site-packages/sklearn/preprocessing/_encoders.py\u001b[0m in \u001b[0;36mfit_transform\u001b[0;34m(self, X, y)\u001b[0m\n\u001b[1;32m    853\u001b[0m         \"\"\"\n\u001b[1;32m    854\u001b[0m         \u001b[0mself\u001b[0m\u001b[0;34m.\u001b[0m\u001b[0m_validate_keywords\u001b[0m\u001b[0;34m(\u001b[0m\u001b[0;34m)\u001b[0m\u001b[0;34m\u001b[0m\u001b[0;34m\u001b[0m\u001b[0m\n\u001b[0;32m--> 855\u001b[0;31m         \u001b[0;32mreturn\u001b[0m \u001b[0msuper\u001b[0m\u001b[0;34m(\u001b[0m\u001b[0;34m)\u001b[0m\u001b[0;34m.\u001b[0m\u001b[0mfit_transform\u001b[0m\u001b[0;34m(\u001b[0m\u001b[0mX\u001b[0m\u001b[0;34m,\u001b[0m \u001b[0my\u001b[0m\u001b[0;34m)\u001b[0m\u001b[0;34m\u001b[0m\u001b[0;34m\u001b[0m\u001b[0m\n\u001b[0m\u001b[1;32m    856\u001b[0m \u001b[0;34m\u001b[0m\u001b[0m\n\u001b[1;32m    857\u001b[0m     \u001b[0;32mdef\u001b[0m \u001b[0mtransform\u001b[0m\u001b[0;34m(\u001b[0m\u001b[0mself\u001b[0m\u001b[0;34m,\u001b[0m \u001b[0mX\u001b[0m\u001b[0;34m)\u001b[0m\u001b[0;34m:\u001b[0m\u001b[0;34m\u001b[0m\u001b[0;34m\u001b[0m\u001b[0m\n",
      "\u001b[0;32m~/.local/lib/python3.10/site-packages/sklearn/base.py\u001b[0m in \u001b[0;36mfit_transform\u001b[0;34m(self, X, y, **fit_params)\u001b[0m\n\u001b[1;32m    865\u001b[0m         \u001b[0;32mif\u001b[0m \u001b[0my\u001b[0m \u001b[0;32mis\u001b[0m \u001b[0;32mNone\u001b[0m\u001b[0;34m:\u001b[0m\u001b[0;34m\u001b[0m\u001b[0;34m\u001b[0m\u001b[0m\n\u001b[1;32m    866\u001b[0m             \u001b[0;31m# fit method of arity 1 (unsupervised transformation)\u001b[0m\u001b[0;34m\u001b[0m\u001b[0;34m\u001b[0m\u001b[0m\n\u001b[0;32m--> 867\u001b[0;31m             \u001b[0;32mreturn\u001b[0m \u001b[0mself\u001b[0m\u001b[0;34m.\u001b[0m\u001b[0mfit\u001b[0m\u001b[0;34m(\u001b[0m\u001b[0mX\u001b[0m\u001b[0;34m,\u001b[0m \u001b[0;34m**\u001b[0m\u001b[0mfit_params\u001b[0m\u001b[0;34m)\u001b[0m\u001b[0;34m.\u001b[0m\u001b[0mtransform\u001b[0m\u001b[0;34m(\u001b[0m\u001b[0mX\u001b[0m\u001b[0;34m)\u001b[0m\u001b[0;34m\u001b[0m\u001b[0;34m\u001b[0m\u001b[0m\n\u001b[0m\u001b[1;32m    868\u001b[0m         \u001b[0;32melse\u001b[0m\u001b[0;34m:\u001b[0m\u001b[0;34m\u001b[0m\u001b[0;34m\u001b[0m\u001b[0m\n\u001b[1;32m    869\u001b[0m             \u001b[0;31m# fit method of arity 2 (supervised transformation)\u001b[0m\u001b[0;34m\u001b[0m\u001b[0;34m\u001b[0m\u001b[0m\n",
      "\u001b[0;32m~/.local/lib/python3.10/site-packages/sklearn/preprocessing/_encoders.py\u001b[0m in \u001b[0;36mfit\u001b[0;34m(self, X, y)\u001b[0m\n\u001b[1;32m    816\u001b[0m         \"\"\"\n\u001b[1;32m    817\u001b[0m         \u001b[0mself\u001b[0m\u001b[0;34m.\u001b[0m\u001b[0m_validate_keywords\u001b[0m\u001b[0;34m(\u001b[0m\u001b[0;34m)\u001b[0m\u001b[0;34m\u001b[0m\u001b[0;34m\u001b[0m\u001b[0m\n\u001b[0;32m--> 818\u001b[0;31m         fit_results = self._fit(\n\u001b[0m\u001b[1;32m    819\u001b[0m             \u001b[0mX\u001b[0m\u001b[0;34m,\u001b[0m\u001b[0;34m\u001b[0m\u001b[0;34m\u001b[0m\u001b[0m\n\u001b[1;32m    820\u001b[0m             \u001b[0mhandle_unknown\u001b[0m\u001b[0;34m=\u001b[0m\u001b[0mself\u001b[0m\u001b[0;34m.\u001b[0m\u001b[0mhandle_unknown\u001b[0m\u001b[0;34m,\u001b[0m\u001b[0;34m\u001b[0m\u001b[0;34m\u001b[0m\u001b[0m\n",
      "\u001b[0;32m~/.local/lib/python3.10/site-packages/sklearn/preprocessing/_encoders.py\u001b[0m in \u001b[0;36m_fit\u001b[0;34m(self, X, handle_unknown, force_all_finite, return_counts)\u001b[0m\n\u001b[1;32m     78\u001b[0m         \u001b[0mself\u001b[0m\u001b[0;34m.\u001b[0m\u001b[0m_check_n_features\u001b[0m\u001b[0;34m(\u001b[0m\u001b[0mX\u001b[0m\u001b[0;34m,\u001b[0m \u001b[0mreset\u001b[0m\u001b[0;34m=\u001b[0m\u001b[0;32mTrue\u001b[0m\u001b[0;34m)\u001b[0m\u001b[0;34m\u001b[0m\u001b[0;34m\u001b[0m\u001b[0m\n\u001b[1;32m     79\u001b[0m         \u001b[0mself\u001b[0m\u001b[0;34m.\u001b[0m\u001b[0m_check_feature_names\u001b[0m\u001b[0;34m(\u001b[0m\u001b[0mX\u001b[0m\u001b[0;34m,\u001b[0m \u001b[0mreset\u001b[0m\u001b[0;34m=\u001b[0m\u001b[0;32mTrue\u001b[0m\u001b[0;34m)\u001b[0m\u001b[0;34m\u001b[0m\u001b[0;34m\u001b[0m\u001b[0m\n\u001b[0;32m---> 80\u001b[0;31m         X_list, n_samples, n_features = self._check_X(\n\u001b[0m\u001b[1;32m     81\u001b[0m             \u001b[0mX\u001b[0m\u001b[0;34m,\u001b[0m \u001b[0mforce_all_finite\u001b[0m\u001b[0;34m=\u001b[0m\u001b[0mforce_all_finite\u001b[0m\u001b[0;34m\u001b[0m\u001b[0;34m\u001b[0m\u001b[0m\n\u001b[1;32m     82\u001b[0m         )\n",
      "\u001b[0;32m~/.local/lib/python3.10/site-packages/sklearn/preprocessing/_encoders.py\u001b[0m in \u001b[0;36m_check_X\u001b[0;34m(self, X, force_all_finite)\u001b[0m\n\u001b[1;32m     43\u001b[0m         \u001b[0;32mif\u001b[0m \u001b[0;32mnot\u001b[0m \u001b[0;34m(\u001b[0m\u001b[0mhasattr\u001b[0m\u001b[0;34m(\u001b[0m\u001b[0mX\u001b[0m\u001b[0;34m,\u001b[0m \u001b[0;34m\"iloc\"\u001b[0m\u001b[0;34m)\u001b[0m \u001b[0;32mand\u001b[0m \u001b[0mgetattr\u001b[0m\u001b[0;34m(\u001b[0m\u001b[0mX\u001b[0m\u001b[0;34m,\u001b[0m \u001b[0;34m\"ndim\"\u001b[0m\u001b[0;34m,\u001b[0m \u001b[0;36m0\u001b[0m\u001b[0;34m)\u001b[0m \u001b[0;34m==\u001b[0m \u001b[0;36m2\u001b[0m\u001b[0;34m)\u001b[0m\u001b[0;34m:\u001b[0m\u001b[0;34m\u001b[0m\u001b[0;34m\u001b[0m\u001b[0m\n\u001b[1;32m     44\u001b[0m             \u001b[0;31m# if not a dataframe, do normal check_array validation\u001b[0m\u001b[0;34m\u001b[0m\u001b[0;34m\u001b[0m\u001b[0m\n\u001b[0;32m---> 45\u001b[0;31m             \u001b[0mX_temp\u001b[0m \u001b[0;34m=\u001b[0m \u001b[0mcheck_array\u001b[0m\u001b[0;34m(\u001b[0m\u001b[0mX\u001b[0m\u001b[0;34m,\u001b[0m \u001b[0mdtype\u001b[0m\u001b[0;34m=\u001b[0m\u001b[0;32mNone\u001b[0m\u001b[0;34m,\u001b[0m \u001b[0mforce_all_finite\u001b[0m\u001b[0;34m=\u001b[0m\u001b[0mforce_all_finite\u001b[0m\u001b[0;34m)\u001b[0m\u001b[0;34m\u001b[0m\u001b[0;34m\u001b[0m\u001b[0m\n\u001b[0m\u001b[1;32m     46\u001b[0m             \u001b[0;32mif\u001b[0m \u001b[0;32mnot\u001b[0m \u001b[0mhasattr\u001b[0m\u001b[0;34m(\u001b[0m\u001b[0mX\u001b[0m\u001b[0;34m,\u001b[0m \u001b[0;34m\"dtype\"\u001b[0m\u001b[0;34m)\u001b[0m \u001b[0;32mand\u001b[0m \u001b[0mnp\u001b[0m\u001b[0;34m.\u001b[0m\u001b[0missubdtype\u001b[0m\u001b[0;34m(\u001b[0m\u001b[0mX_temp\u001b[0m\u001b[0;34m.\u001b[0m\u001b[0mdtype\u001b[0m\u001b[0;34m,\u001b[0m \u001b[0mnp\u001b[0m\u001b[0;34m.\u001b[0m\u001b[0mstr_\u001b[0m\u001b[0;34m)\u001b[0m\u001b[0;34m:\u001b[0m\u001b[0;34m\u001b[0m\u001b[0;34m\u001b[0m\u001b[0m\n\u001b[1;32m     47\u001b[0m                 \u001b[0mX\u001b[0m \u001b[0;34m=\u001b[0m \u001b[0mcheck_array\u001b[0m\u001b[0;34m(\u001b[0m\u001b[0mX\u001b[0m\u001b[0;34m,\u001b[0m \u001b[0mdtype\u001b[0m\u001b[0;34m=\u001b[0m\u001b[0mobject\u001b[0m\u001b[0;34m,\u001b[0m \u001b[0mforce_all_finite\u001b[0m\u001b[0;34m=\u001b[0m\u001b[0mforce_all_finite\u001b[0m\u001b[0;34m)\u001b[0m\u001b[0;34m\u001b[0m\u001b[0;34m\u001b[0m\u001b[0m\n",
      "\u001b[0;32m~/.local/lib/python3.10/site-packages/sklearn/utils/validation.py\u001b[0m in \u001b[0;36mcheck_array\u001b[0;34m(array, accept_sparse, accept_large_sparse, dtype, order, copy, force_all_finite, ensure_2d, allow_nd, ensure_min_samples, ensure_min_features, estimator, input_name)\u001b[0m\n\u001b[1;32m    877\u001b[0m             \u001b[0;31m# If input is 1D raise error\u001b[0m\u001b[0;34m\u001b[0m\u001b[0;34m\u001b[0m\u001b[0m\n\u001b[1;32m    878\u001b[0m             \u001b[0;32mif\u001b[0m \u001b[0marray\u001b[0m\u001b[0;34m.\u001b[0m\u001b[0mndim\u001b[0m \u001b[0;34m==\u001b[0m \u001b[0;36m1\u001b[0m\u001b[0;34m:\u001b[0m\u001b[0;34m\u001b[0m\u001b[0;34m\u001b[0m\u001b[0m\n\u001b[0;32m--> 879\u001b[0;31m                 raise ValueError(\n\u001b[0m\u001b[1;32m    880\u001b[0m                     \u001b[0;34m\"Expected 2D array, got 1D array instead:\\narray={}.\\n\"\u001b[0m\u001b[0;34m\u001b[0m\u001b[0;34m\u001b[0m\u001b[0m\n\u001b[1;32m    881\u001b[0m                     \u001b[0;34m\"Reshape your data either using array.reshape(-1, 1) if \"\u001b[0m\u001b[0;34m\u001b[0m\u001b[0;34m\u001b[0m\u001b[0m\n",
      "\u001b[0;31mValueError\u001b[0m: Expected 2D array, got 1D array instead:\narray=[list(['boarded', 'english', 'mastiff', 'new', 'year', 'closed', 'sunday', 'even', 'though', 'got', 'home', 'sunday', 'leave', 'another', 'day', 'pay', 'another', 'day', 'pick', 'monday', 'morning', 'got', 'complimentary', 'bath', 'boarding', 'pick', 'got', 'car', 'noticed', 'pungent', 'musky', 'odor', 'figure', 'got', 'home', 'smell', 'bad', 'leave', 'car', 'windows', 'open', 'air', 'greenish', 'material', 'underside', 'tail', 'around', 'butt', 'tried', 'clean', 'let', 'outside', 'watery', 'diarrhea', 'called', 'asked', 'stinky', 'green', 'stuff', 'noticed', 'groomer', 'said', 'notice', 'figured', 'rolled', 'something', 'clean', 'sent', 'home', 'way', 'anal', 'gland', 'secretions', 'thinking', 'groomer', 'working', 'veterinary', 'hospital', 'recognize', 'go', 'grab', 'tech', 'somewhere', 'place', 'take', 'look', 'bring', 'poor', 'dog', 'way', 'back', 'making', 'late', 'work', 'something', 'never', 'sent', 'home', 'express', 'anal', 'glands', 'brought', 'still', 'stinky', 'leaving', 'oily', 'green', 'stuff', 'sitting', 'lobby', 'asked', 'gal', 'behind', 'counter', 'tried', 'tell', 'soap', 'asked', 'tissue', 'wiped', 'showed', 'asked', 'look', 'like', 'soap', 'would', 'like', 'tell', 'think', 'smells', 'like', 'soap', 'took', 'back', 'cleaned', 'prescribed', 'anti', 'diarrheal', 'medication', 'noticed', 'bad', 'diarrhea', 'back', 'never', 'board', 'dog'])\n list(['another', 'case', 'emperor', 'new', 'clothes', 'someone', 'artsy', 'set', 'decided', 'relatively', 'good', 'overpriced', 'fare', 'great', 'pizza', 'lemmings', 'followed', 'suit', 'anyone', 'tell', 'emperor', 'clothes', 'limited', 'hours', 'delivery', 'lack', 'dining', 'area', 'add', 'snob', 'appeal', 'taken'])\n list(['came', 'valentine', 'day', 'night', 'pre', 'bought', 'tickets', 'ended', 'waiting', 'line', 'ten', 'minutes', 'missing', 'beginning', 'movie', 'automated', 'ticketing', 'machines', 'broken', 'properly', 'staffed', 'ticket', 'counters', 'pick', 'tickets', 'already', 'bought', 'seriously', 'annoying', 'theater', 'usually', 'enjoyable'])\n ...\n list(['best', 'tom', 'yum', 'ever', 'also', 'rad', 'na', 'noodles', 'seafood', 'delicious', 'excellent', 'friendly', 'service', 'water', 'glasses', 'never', 'going', 'empty'])\n list(['best', 'groomer', 'valley', 'kind', 'wonderful', 'charlie', 'totally', 'accommodating', 'schedule', 'wonderful', 'cut'])\n list(['agree', 'reviewers', 'great', 'place', 'best', 'tools', 'particularly', 'good', 'screws', 'nuts', 'bolts', 'although', 'limited', 'selection', 'tools'])].\nReshape your data either using array.reshape(-1, 1) if your data has a single feature or array.reshape(1, -1) if it contains a single sample."
     ]
    }
   ],
   "source": [
    "ohe = OneHotEncoder()\n",
    "transformed = ohe.fit_transform(X_test)\n",
    "print(transformed.toarray())"
   ]
  },
  {
   "cell_type": "code",
   "execution_count": 29,
   "id": "b9f4ab03-2a56-4eb3-a8f2-237bdd1c1f4c",
   "metadata": {},
   "outputs": [],
   "source": [
    "X_train, X_test, Y_train, Y_test = train_test_split(X_test, Y2, train_size = 0.5, random_state = 1)"
   ]
  },
  {
   "cell_type": "code",
   "execution_count": 30,
   "id": "98e1ef45-2c31-4161-99a6-a47875c2e5c9",
   "metadata": {},
   "outputs": [
    {
     "name": "stderr",
     "output_type": "stream",
     "text": [
      "2023-01-03 16:33:57.481065: W tensorflow/stream_executor/platform/default/dso_loader.cc:64] Could not load dynamic library 'libcuda.so.1'; dlerror: libcuda.so.1: cannot open shared object file: No such file or directory\n",
      "2023-01-03 16:33:57.481169: W tensorflow/stream_executor/cuda/cuda_driver.cc:263] failed call to cuInit: UNKNOWN ERROR (303)\n",
      "2023-01-03 16:33:57.481252: I tensorflow/stream_executor/cuda/cuda_diagnostics.cc:156] kernel driver does not appear to be running on this host (newtown): /proc/driver/nvidia/version does not exist\n"
     ]
    }
   ],
   "source": [
    "embedding_dim = 256\n",
    "pad_size = 5000\n",
    "vocab_size = 20000\n",
    "model = Sequential()\n",
    "model.add(Embedding(vocab_size, embedding_dim, input_length = pad_size))\n",
    "model.add(GlobalAveragePooling1D())\n",
    "model.add(Dense(1, activation='sigmoid'))"
   ]
  },
  {
   "cell_type": "code",
   "execution_count": 31,
   "id": "6d58d2c7-1cd9-4019-8471-22f92720f124",
   "metadata": {},
   "outputs": [
    {
     "ename": "ValueError",
     "evalue": "Failed to find data adapter that can handle input: (<class 'list'> containing values of types {'(<class \\'list\\'> containing values of types {\"<class \\'str\\'>\"})', \"(<class 'list'> containing values of types set())\"}), <class 'numpy.ndarray'>",
     "output_type": "error",
     "traceback": [
      "\u001b[0;31m---------------------------------------------------------------------------\u001b[0m",
      "\u001b[0;31mValueError\u001b[0m                                Traceback (most recent call last)",
      "\u001b[0;32m/tmp/ipykernel_4121014/4048059588.py\u001b[0m in \u001b[0;36m<module>\u001b[0;34m\u001b[0m\n\u001b[1;32m      3\u001b[0m               metrics=['accuracy'])\n\u001b[1;32m      4\u001b[0m \u001b[0;34m\u001b[0m\u001b[0m\n\u001b[0;32m----> 5\u001b[0;31m history = model.fit(X_test, Y2,\n\u001b[0m\u001b[1;32m      6\u001b[0m     \u001b[0mbatch_size\u001b[0m \u001b[0;34m=\u001b[0m \u001b[0;36m256\u001b[0m\u001b[0;34m,\u001b[0m\u001b[0;34m\u001b[0m\u001b[0;34m\u001b[0m\u001b[0m\n\u001b[1;32m      7\u001b[0m     epochs=10)\n",
      "\u001b[0;32m/usr/local/lib/python3.10/site-packages/keras/utils/traceback_utils.py\u001b[0m in \u001b[0;36merror_handler\u001b[0;34m(*args, **kwargs)\u001b[0m\n\u001b[1;32m     68\u001b[0m             \u001b[0;31m# To get the full stack trace, call:\u001b[0m\u001b[0;34m\u001b[0m\u001b[0;34m\u001b[0m\u001b[0m\n\u001b[1;32m     69\u001b[0m             \u001b[0;31m# `tf.debugging.disable_traceback_filtering()`\u001b[0m\u001b[0;34m\u001b[0m\u001b[0;34m\u001b[0m\u001b[0m\n\u001b[0;32m---> 70\u001b[0;31m             \u001b[0;32mraise\u001b[0m \u001b[0me\u001b[0m\u001b[0;34m.\u001b[0m\u001b[0mwith_traceback\u001b[0m\u001b[0;34m(\u001b[0m\u001b[0mfiltered_tb\u001b[0m\u001b[0;34m)\u001b[0m \u001b[0;32mfrom\u001b[0m \u001b[0;32mNone\u001b[0m\u001b[0;34m\u001b[0m\u001b[0;34m\u001b[0m\u001b[0m\n\u001b[0m\u001b[1;32m     71\u001b[0m         \u001b[0;32mfinally\u001b[0m\u001b[0;34m:\u001b[0m\u001b[0;34m\u001b[0m\u001b[0;34m\u001b[0m\u001b[0m\n\u001b[1;32m     72\u001b[0m             \u001b[0;32mdel\u001b[0m \u001b[0mfiltered_tb\u001b[0m\u001b[0;34m\u001b[0m\u001b[0;34m\u001b[0m\u001b[0m\n",
      "\u001b[0;32m/usr/local/lib/python3.10/site-packages/keras/engine/data_adapter.py\u001b[0m in \u001b[0;36mselect_data_adapter\u001b[0;34m(x, y)\u001b[0m\n\u001b[1;32m   1081\u001b[0m     \u001b[0;32mif\u001b[0m \u001b[0;32mnot\u001b[0m \u001b[0madapter_cls\u001b[0m\u001b[0;34m:\u001b[0m\u001b[0;34m\u001b[0m\u001b[0;34m\u001b[0m\u001b[0m\n\u001b[1;32m   1082\u001b[0m         \u001b[0;31m# TODO(scottzhu): This should be a less implementation-specific error.\u001b[0m\u001b[0;34m\u001b[0m\u001b[0;34m\u001b[0m\u001b[0m\n\u001b[0;32m-> 1083\u001b[0;31m         raise ValueError(\n\u001b[0m\u001b[1;32m   1084\u001b[0m             \u001b[0;34m\"Failed to find data adapter that can handle \"\u001b[0m\u001b[0;34m\u001b[0m\u001b[0;34m\u001b[0m\u001b[0m\n\u001b[1;32m   1085\u001b[0m             \u001b[0;34m\"input: {}, {}\"\u001b[0m\u001b[0;34m.\u001b[0m\u001b[0mformat\u001b[0m\u001b[0;34m(\u001b[0m\u001b[0m_type_name\u001b[0m\u001b[0;34m(\u001b[0m\u001b[0mx\u001b[0m\u001b[0;34m)\u001b[0m\u001b[0;34m,\u001b[0m \u001b[0m_type_name\u001b[0m\u001b[0;34m(\u001b[0m\u001b[0my\u001b[0m\u001b[0;34m)\u001b[0m\u001b[0;34m)\u001b[0m\u001b[0;34m\u001b[0m\u001b[0;34m\u001b[0m\u001b[0m\n",
      "\u001b[0;31mValueError\u001b[0m: Failed to find data adapter that can handle input: (<class 'list'> containing values of types {'(<class \\'list\\'> containing values of types {\"<class \\'str\\'>\"})', \"(<class 'list'> containing values of types set())\"}), <class 'numpy.ndarray'>"
     ]
    }
   ],
   "source": [
    "model.compile(optimizer='adam',\n",
    "              loss='sparse_categorical_crossentropy',\n",
    "              metrics=['accuracy'])\n",
    "\n",
    "history = model.fit(X_test, Y2,\n",
    "    batch_size = 256,\n",
    "    epochs=10)"
   ]
  },
  {
   "cell_type": "code",
   "execution_count": null,
   "id": "06f4971b-126f-4b3e-a6d1-0be2ddf65eaa",
   "metadata": {},
   "outputs": [],
   "source": []
  }
 ],
 "metadata": {
  "kernelspec": {
   "display_name": "Python 3 (ipykernel)",
   "language": "python",
   "name": "python3"
  },
  "language_info": {
   "codemirror_mode": {
    "name": "ipython",
    "version": 3
   },
   "file_extension": ".py",
   "mimetype": "text/x-python",
   "name": "python",
   "nbconvert_exporter": "python",
   "pygments_lexer": "ipython3",
   "version": "3.10.6"
  }
 },
 "nbformat": 4,
 "nbformat_minor": 5
}
