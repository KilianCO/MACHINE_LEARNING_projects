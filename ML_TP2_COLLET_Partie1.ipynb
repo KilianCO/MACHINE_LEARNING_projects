{
 "cells": [
  {
   "cell_type": "markdown",
   "id": "9a052c9f-5fca-4e47-8414-b3007541ea9a",
   "metadata": {},
   "source": [
    "# Kilian COLLET ####"
   ]
  },
  {
   "cell_type": "markdown",
   "id": "d45a70cb-bcfc-401b-9278-e445300fddc8",
   "metadata": {},
   "source": [
    "# TP 2 ####"
   ]
  },
  {
   "cell_type": "code",
   "execution_count": 1,
   "id": "246c6612-89fc-43f5-948c-bf6393f44f2c",
   "metadata": {},
   "outputs": [],
   "source": [
    "import numpy as np\n",
    "np.set_printoptions(threshold=10000,suppress=True)\n",
    "import pandas as pd\n",
    "import warnings\n",
    "import itertools\n",
    "import matplotlib.pyplot as plt\n",
    "warnings.filterwarnings('ignore')\n",
    "from sklearn import svm, datasets, tree\n",
    "from sklearn.metrics import accuracy_score, precision_score, fbeta_score, make_scorer\n",
    "from sklearn.tree import DecisionTreeClassifier\n",
    "from sklearn.ensemble import RandomForestClassifier,BaggingClassifier,AdaBoostClassifier\n",
    "from sklearn.neighbors import KNeighborsClassifier\n",
    "from sklearn.neural_network import MLPClassifier\n",
    "from sklearn.datasets import make_classification\n",
    "from sklearn.model_selection import train_test_split, GridSearchCV, KFold, cross_val_score, cross_validate\n",
    "from sklearn.preprocessing import StandardScaler, MinMaxScaler, LabelEncoder, OrdinalEncoder, OneHotEncoder\n",
    "from sklearn.decomposition import PCA, TruncatedSVD\n",
    "from sklearn.naive_bayes import GaussianNB\n",
    "from sklearn.pipeline import Pipeline, make_pipeline\n",
    "from sklearn.svm import SVC\n",
    "from sklearn.impute import SimpleImputer\n",
    "from sklearn.feature_extraction.text import CountVectorizer, TfidfTransformer"
   ]
  },
  {
   "cell_type": "markdown",
   "id": "21c1b5ac-d33b-4111-8cd7-b06c49091ed4",
   "metadata": {},
   "source": [
    "### I. Apprentissage supervisé : Feature engineering et Classification ####"
   ]
  },
  {
   "cell_type": "code",
   "execution_count": 2,
   "id": "629531d8-ea70-4a0e-b553-203daf62fcb4",
   "metadata": {},
   "outputs": [],
   "source": [
    "# Question 1 : Chargement des données et préparation"
   ]
  },
  {
   "cell_type": "code",
   "execution_count": 3,
   "id": "089e9468-d19f-41e6-a7b8-3846d801be3d",
   "metadata": {},
   "outputs": [
    {
     "data": {
      "text/html": [
       "<div>\n",
       "<style scoped>\n",
       "    .dataframe tbody tr th:only-of-type {\n",
       "        vertical-align: middle;\n",
       "    }\n",
       "\n",
       "    .dataframe tbody tr th {\n",
       "        vertical-align: top;\n",
       "    }\n",
       "\n",
       "    .dataframe thead th {\n",
       "        text-align: right;\n",
       "    }\n",
       "</style>\n",
       "<table border=\"1\" class=\"dataframe\">\n",
       "  <thead>\n",
       "    <tr style=\"text-align: right;\">\n",
       "      <th></th>\n",
       "      <th>Seniority</th>\n",
       "      <th>Home</th>\n",
       "      <th>Time</th>\n",
       "      <th>Age</th>\n",
       "      <th>Marital</th>\n",
       "      <th>Records</th>\n",
       "      <th>Job</th>\n",
       "      <th>Expenses</th>\n",
       "      <th>Income</th>\n",
       "      <th>Assets</th>\n",
       "      <th>Debt</th>\n",
       "      <th>Amount</th>\n",
       "      <th>Price</th>\n",
       "      <th>Status</th>\n",
       "    </tr>\n",
       "  </thead>\n",
       "  <tbody>\n",
       "    <tr>\n",
       "      <th>0</th>\n",
       "      <td>9.0</td>\n",
       "      <td>1.0</td>\n",
       "      <td>60.0</td>\n",
       "      <td>30.0</td>\n",
       "      <td>0.0</td>\n",
       "      <td>1.0</td>\n",
       "      <td>1.0</td>\n",
       "      <td>73.0</td>\n",
       "      <td>129.0</td>\n",
       "      <td>0.0</td>\n",
       "      <td>0.0</td>\n",
       "      <td>800.0</td>\n",
       "      <td>846.0</td>\n",
       "      <td>1</td>\n",
       "    </tr>\n",
       "    <tr>\n",
       "      <th>1</th>\n",
       "      <td>17.0</td>\n",
       "      <td>1.0</td>\n",
       "      <td>60.0</td>\n",
       "      <td>58.0</td>\n",
       "      <td>1.0</td>\n",
       "      <td>1.0</td>\n",
       "      <td>0.0</td>\n",
       "      <td>48.0</td>\n",
       "      <td>131.0</td>\n",
       "      <td>0.0</td>\n",
       "      <td>0.0</td>\n",
       "      <td>1000.0</td>\n",
       "      <td>1658.0</td>\n",
       "      <td>1</td>\n",
       "    </tr>\n",
       "    <tr>\n",
       "      <th>2</th>\n",
       "      <td>10.0</td>\n",
       "      <td>0.0</td>\n",
       "      <td>36.0</td>\n",
       "      <td>46.0</td>\n",
       "      <td>0.0</td>\n",
       "      <td>2.0</td>\n",
       "      <td>1.0</td>\n",
       "      <td>90.0</td>\n",
       "      <td>200.0</td>\n",
       "      <td>3000.0</td>\n",
       "      <td>0.0</td>\n",
       "      <td>2000.0</td>\n",
       "      <td>2985.0</td>\n",
       "      <td>0</td>\n",
       "    </tr>\n",
       "    <tr>\n",
       "      <th>3</th>\n",
       "      <td>0.0</td>\n",
       "      <td>1.0</td>\n",
       "      <td>60.0</td>\n",
       "      <td>24.0</td>\n",
       "      <td>1.0</td>\n",
       "      <td>1.0</td>\n",
       "      <td>0.0</td>\n",
       "      <td>63.0</td>\n",
       "      <td>182.0</td>\n",
       "      <td>2500.0</td>\n",
       "      <td>0.0</td>\n",
       "      <td>900.0</td>\n",
       "      <td>1325.0</td>\n",
       "      <td>1</td>\n",
       "    </tr>\n",
       "    <tr>\n",
       "      <th>4</th>\n",
       "      <td>0.0</td>\n",
       "      <td>1.0</td>\n",
       "      <td>36.0</td>\n",
       "      <td>26.0</td>\n",
       "      <td>1.0</td>\n",
       "      <td>1.0</td>\n",
       "      <td>0.0</td>\n",
       "      <td>46.0</td>\n",
       "      <td>107.0</td>\n",
       "      <td>0.0</td>\n",
       "      <td>0.0</td>\n",
       "      <td>310.0</td>\n",
       "      <td>910.0</td>\n",
       "      <td>1</td>\n",
       "    </tr>\n",
       "  </tbody>\n",
       "</table>\n",
       "</div>"
      ],
      "text/plain": [
       "   Seniority  Home  Time   Age  Marital  Records  Job  Expenses  Income  \\\n",
       "0        9.0   1.0  60.0  30.0      0.0      1.0  1.0      73.0   129.0   \n",
       "1       17.0   1.0  60.0  58.0      1.0      1.0  0.0      48.0   131.0   \n",
       "2       10.0   0.0  36.0  46.0      0.0      2.0  1.0      90.0   200.0   \n",
       "3        0.0   1.0  60.0  24.0      1.0      1.0  0.0      63.0   182.0   \n",
       "4        0.0   1.0  36.0  26.0      1.0      1.0  0.0      46.0   107.0   \n",
       "\n",
       "   Assets  Debt  Amount   Price  Status  \n",
       "0     0.0   0.0   800.0   846.0       1  \n",
       "1     0.0   0.0  1000.0  1658.0       1  \n",
       "2  3000.0   0.0  2000.0  2985.0       0  \n",
       "3  2500.0   0.0   900.0  1325.0       1  \n",
       "4     0.0   0.0   310.0   910.0       1  "
      ]
     },
     "execution_count": 3,
     "metadata": {},
     "output_type": "execute_result"
    }
   ],
   "source": [
    "data = pd.read_csv('credit_scoring.csv', sep=';') #importation des données\n",
    "\n",
    "data.head() #première visualisation"
   ]
  },
  {
   "cell_type": "code",
   "execution_count": 4,
   "id": "fe9674a9-15b2-451e-ad51-c111917d05f1",
   "metadata": {},
   "outputs": [],
   "source": [
    "#transformation et sélection\n",
    "variables = data.drop(columns='Status').values\n",
    "target = data.iloc[:,-1].values"
   ]
  },
  {
   "cell_type": "code",
   "execution_count": 5,
   "id": "29963729-ab42-40b8-8fce-730832fcf12a",
   "metadata": {},
   "outputs": [
    {
     "data": {
      "text/plain": [
       "numpy.ndarray"
      ]
     },
     "execution_count": 5,
     "metadata": {},
     "output_type": "execute_result"
    }
   ],
   "source": [
    "#Type de variables\n",
    "type(variables)"
   ]
  },
  {
   "cell_type": "code",
   "execution_count": 6,
   "id": "c394edfa-67e3-49c6-ba9c-3e7807b962fa",
   "metadata": {},
   "outputs": [
    {
     "name": "stdout",
     "output_type": "stream",
     "text": [
      "Nous avons 4375 observations de 13 variables explicatives pour le jeu de données variables \n"
     ]
    }
   ],
   "source": [
    "print(f'Nous avons {variables.shape[0]} observations de {variables.shape[1]} variables explicatives pour le jeu de données variables ') "
   ]
  },
  {
   "cell_type": "code",
   "execution_count": 7,
   "id": "1f6f1faf-3996-4e1a-9c62-233d3f44ad3a",
   "metadata": {},
   "outputs": [
    {
     "name": "stdout",
     "output_type": "stream",
     "text": [
      "Nous avons 4375 observations pour le jeu de données target\n"
     ]
    }
   ],
   "source": [
    "print(f'Nous avons {len(target)} observations pour le jeu de données target') "
   ]
  },
  {
   "cell_type": "code",
   "execution_count": 8,
   "id": "ed429d1a-c32e-4301-ab36-749676dadd05",
   "metadata": {},
   "outputs": [
    {
     "name": "stdout",
     "output_type": "stream",
     "text": [
      "Dans target, nous avons 1216 observations qui valent 0 et 3159 qui valent 1\n"
     ]
    }
   ],
   "source": [
    "print(f'Dans target, nous avons {sum(target==0)} observations qui valent 0 et {sum(target==1)} qui valent 1') "
   ]
  },
  {
   "cell_type": "code",
   "execution_count": 9,
   "id": "deba9f6b-3a81-4b15-860b-ce8742414dd7",
   "metadata": {},
   "outputs": [
    {
     "name": "stdout",
     "output_type": "stream",
     "text": [
      "En pourcentages : 27.79% observations qui valent 0 et 72.21% qui valent 1\n"
     ]
    }
   ],
   "source": [
    "print(f'En pourcentages : {sum(target==0)*100/len(target):.2f}% observations qui valent 0 et {sum(target==1)*100/len(target):.2f}% qui valent 1') "
   ]
  },
  {
   "cell_type": "code",
   "execution_count": 10,
   "id": "bf23626f-c73d-4b3e-b57d-2d6f04a70bb2",
   "metadata": {},
   "outputs": [],
   "source": [
    "#séparation en jeux d'entrainement et test\n",
    "X_train, X_test, y_train, y_test = train_test_split(variables, target, test_size=0.5, random_state=1)"
   ]
  },
  {
   "cell_type": "code",
   "execution_count": 11,
   "id": "fbcd919c-f145-4eeb-b5a1-36a9b9fce86c",
   "metadata": {},
   "outputs": [],
   "source": [
    "# Question 2"
   ]
  },
  {
   "cell_type": "code",
   "execution_count": 12,
   "id": "b807cd79-13cb-4737-9252-c3713d91502f",
   "metadata": {},
   "outputs": [],
   "source": [
    "cart = DecisionTreeClassifier(random_state=1).fit(X_train, y_train, sample_weight=None, check_input=True)"
   ]
  },
  {
   "cell_type": "code",
   "execution_count": 13,
   "id": "8c87b1dc-772c-49dd-877b-5a70557ebcf8",
   "metadata": {},
   "outputs": [
    {
     "name": "stdout",
     "output_type": "stream",
     "text": [
      "Le score de notre modèle est 0.72715\n"
     ]
    }
   ],
   "source": [
    "print(f'Le score de notre modèle est {cart.score(X_test, y_test, sample_weight=None):.5f}')"
   ]
  },
  {
   "cell_type": "code",
   "execution_count": 14,
   "id": "b8827355-373f-4fba-a5eb-0cebe50d00fa",
   "metadata": {},
   "outputs": [],
   "source": [
    "kNN = KNeighborsClassifier(n_neighbors=5).fit(X_train, y_train)"
   ]
  },
  {
   "cell_type": "code",
   "execution_count": 15,
   "id": "c2694322-6278-41c5-8043-bb490f9221e5",
   "metadata": {},
   "outputs": [
    {
     "name": "stdout",
     "output_type": "stream",
     "text": [
      "Le score de notre modèle est 0.72486\n"
     ]
    }
   ],
   "source": [
    "print(f'Le score de notre modèle est {kNN.score(X_test, y_test, sample_weight=None):.5f}')"
   ]
  },
  {
   "cell_type": "code",
   "execution_count": 16,
   "id": "f93fff78-ea0f-4f09-a44f-7adc7e878f81",
   "metadata": {},
   "outputs": [],
   "source": [
    "mlpc = MLPClassifier(hidden_layer_sizes=(40, 20), random_state=1).fit(X_train, y_train)"
   ]
  },
  {
   "cell_type": "code",
   "execution_count": 17,
   "id": "65a315dc-1964-4434-9189-035e395c445b",
   "metadata": {},
   "outputs": [
    {
     "name": "stdout",
     "output_type": "stream",
     "text": [
      "Le score de notre modèle est 0.73949\n"
     ]
    }
   ],
   "source": [
    "print(f'Le score de notre modèle est {mlpc.score(X_test, y_test, sample_weight=None):.5f}')"
   ]
  },
  {
   "cell_type": "code",
   "execution_count": 18,
   "id": "0250068e-ba8c-4409-a759-bcb0b830e703",
   "metadata": {},
   "outputs": [],
   "source": [
    "# Question 3 : Précision ou Rappel"
   ]
  },
  {
   "cell_type": "markdown",
   "id": "52bc7ecf-3400-4029-ba43-345aba163235",
   "metadata": {},
   "source": [
    "Entre Rappel et Précision, nous choisirons de nous concentrer sur la Précision car l'erreur à éviter est celle de première espèce : les faux positifs. Cette quantité est minimisée lorsque la précision est maximisée."
   ]
  },
  {
   "cell_type": "code",
   "execution_count": 19,
   "id": "97595b29-fb6d-47cf-9108-3dd7f909abc3",
   "metadata": {},
   "outputs": [
    {
     "name": "stdout",
     "output_type": "stream",
     "text": [
      "Modèle CART :\n",
      "Score : 0.72715\n",
      "Précision : 0.81942\n",
      "\n",
      "Modèle kNN :\n",
      "Score : 0.72486\n",
      "Précision : 0.77097\n",
      "\n",
      "Modèle MLPClassifier :\n",
      "Score : 0.73949\n",
      "Précision : 0.75401\n",
      "\n"
     ]
    }
   ],
   "source": [
    "print(f'Modèle CART :\\nScore : {cart.score(X_test, y_test, sample_weight=None):.5f}\\nPrécision : {precision_score(y_test,cart.predict(X_test)):.5f}\\n')\n",
    "print(f'Modèle kNN :\\nScore : {kNN.score(X_test, y_test, sample_weight=None):.5f}\\nPrécision : {precision_score(y_test,kNN.predict(X_test)):.5f}\\n')\n",
    "print(f'Modèle MLPClassifier :\\nScore : {mlpc.score(X_test, y_test, sample_weight=None):.5f}\\nPrécision : {precision_score(y_test,mlpc.predict(X_test)):.5f}\\n')"
   ]
  },
  {
   "cell_type": "markdown",
   "id": "1233fd73-7298-41fd-b7a0-14734af25f1f",
   "metadata": {},
   "source": [
    "Nous préférerons donc le premier modèle car pour un score quasiment équivalent aux autres modèles, il est celui qui présente la meilleure précision."
   ]
  },
  {
   "cell_type": "code",
   "execution_count": 20,
   "id": "4aae5a39-f44b-47f1-957f-1f51845298e8",
   "metadata": {},
   "outputs": [],
   "source": [
    "# Question 3 (suite) : Normalisation des données"
   ]
  },
  {
   "cell_type": "code",
   "execution_count": 21,
   "id": "01958fa6-ec95-4421-b01c-ebe33388efe0",
   "metadata": {},
   "outputs": [],
   "source": [
    "scaler = StandardScaler().fit_transform(variables)\n",
    "X_train2, X_test2, y_train2, y_test2 = train_test_split(scaler, target, test_size=0.5, random_state=1)\n",
    "cart2 = DecisionTreeClassifier(random_state=1).fit(X_train2, y_train2, sample_weight=None, check_input=True)\n",
    "kNN2 = KNeighborsClassifier(n_neighbors=5).fit(X_train2, y_train2)\n",
    "mlpc2 = MLPClassifier(hidden_layer_sizes=(40, 20), random_state=1).fit(X_train2, y_train2)"
   ]
  },
  {
   "cell_type": "code",
   "execution_count": 22,
   "id": "d467dffc-ebf8-40c2-a69a-70fa8c653f63",
   "metadata": {},
   "outputs": [
    {
     "name": "stdout",
     "output_type": "stream",
     "text": [
      "Modèle CART2 :\n",
      "Score : 0.72578\n",
      "Précision : 0.81948\n",
      "\n",
      "Modèle kNN2 :\n",
      "Score : 0.75411\n",
      "Précision : 0.80947\n",
      "\n",
      "Modèle MLPClassifier2 :\n",
      "Score : 0.77377\n",
      "Précision : 0.83425\n",
      "\n"
     ]
    }
   ],
   "source": [
    "print(f'Modèle CART2 :\\nScore : {cart2.score(X_test2, y_test2, sample_weight=None):.5f}\\nPrécision : {precision_score(y_test2,cart2.predict(X_test2)):.5f}\\n')\n",
    "print(f'Modèle kNN2 :\\nScore : {kNN2.score(X_test2, y_test2, sample_weight=None):.5f}\\nPrécision : {precision_score(y_test2,kNN2.predict(X_test2)):.5f}\\n')\n",
    "print(f'Modèle MLPClassifier2 :\\nScore : {mlpc2.score(X_test2, y_test2, sample_weight=None):.5f}\\nPrécision : {precision_score(y_test2,mlpc2.predict(X_test2)):.5f}\\n')"
   ]
  },
  {
   "cell_type": "markdown",
   "id": "b7f78aab-9a55-4ced-8687-8c53e56c6b94",
   "metadata": {},
   "source": [
    "Nous remarquons que les performances de nos algos sont globalement meilleures que précédemment. La normalisation des données a donc amélioré leur performance.\n",
    "Le meilleur algo semble dorénavant être le MLPClassifier avec cette fois-ci le meilleur score ainsi que la meilleure précision."
   ]
  },
  {
   "cell_type": "markdown",
   "id": "518c491c-d22c-4044-8ddf-f328e54ba5a8",
   "metadata": {},
   "source": [
    "Nous pouvons aussi faire de même avec la standardisation via MinMaxScaler"
   ]
  },
  {
   "cell_type": "code",
   "execution_count": 23,
   "id": "b7e2b2d2-4696-4a31-83e0-3041ddc7405c",
   "metadata": {},
   "outputs": [],
   "source": [
    "scaler2 = MinMaxScaler().fit_transform(variables)\n",
    "X_train2b, X_test2b, y_train2b, y_test2b = train_test_split(scaler2, target, test_size=0.5, random_state=1)\n",
    "cart2b = DecisionTreeClassifier(random_state=1).fit(X_train2b, y_train2b, sample_weight=None, check_input=True)\n",
    "kNN2b = KNeighborsClassifier(n_neighbors=5).fit(X_train2b, y_train2b)\n",
    "mlpc2b = MLPClassifier(hidden_layer_sizes=(40, 20), random_state=1).fit(X_train2b, y_train2b)"
   ]
  },
  {
   "cell_type": "code",
   "execution_count": 24,
   "id": "8c0ff21b-f987-48c8-88d1-0637178d2d94",
   "metadata": {},
   "outputs": [
    {
     "name": "stdout",
     "output_type": "stream",
     "text": [
      "Modèle CART2b :\n",
      "Score : 0.72943\n",
      "Précision : 0.82000\n",
      "\n",
      "Modèle kNN2b :\n",
      "Score : 0.74817\n",
      "Précision : 0.81171\n",
      "\n",
      "Modèle MLPClassifier2b :\n",
      "Score : 0.79159\n",
      "Précision : 0.83813\n",
      "\n"
     ]
    }
   ],
   "source": [
    "print(f'Modèle CART2b :\\nScore : {cart2b.score(X_test2b, y_test2b, sample_weight=None):.5f}\\nPrécision : {precision_score(y_test2b,cart2b.predict(X_test2b)):.5f}\\n')\n",
    "print(f'Modèle kNN2b :\\nScore : {kNN2b.score(X_test2b, y_test2b, sample_weight=None):.5f}\\nPrécision : {precision_score(y_test2b,kNN2b.predict(X_test2b)):.5f}\\n')\n",
    "print(f'Modèle MLPClassifier2b :\\nScore : {mlpc2b.score(X_test2b, y_test2b, sample_weight=None):.5f}\\nPrécision : {precision_score(y_test2b,mlpc2b.predict(X_test2b)):.5f}\\n')"
   ]
  },
  {
   "cell_type": "markdown",
   "id": "a0e2ee9e-20d7-4dad-b88f-e47c7c692a01",
   "metadata": {},
   "source": [
    "On remarque que nos résultats sont légèrement meilleurs avec MinMaxScaler et nous déciderons donc de continuer avec ceux-ci par la suite."
   ]
  },
  {
   "cell_type": "code",
   "execution_count": 25,
   "id": "0d1fba36-f93f-4b86-924f-cb98cb6b1c3c",
   "metadata": {},
   "outputs": [],
   "source": [
    "# Question 4 : PCA"
   ]
  },
  {
   "cell_type": "code",
   "execution_count": 26,
   "id": "e56b9e73-b396-4f5b-800a-97ac12e151b5",
   "metadata": {},
   "outputs": [
    {
     "name": "stdout",
     "output_type": "stream",
     "text": [
      "[0.19205626 0.14557791 0.10542274]\n"
     ]
    }
   ],
   "source": [
    "pca = PCA(n_components=3)\n",
    "X_pca = pca.fit_transform(scaler) #modèle fitté\n",
    "print(pca.explained_variance_ratio_) #affichage de la variance expliquée par nos trois composantes"
   ]
  },
  {
   "cell_type": "code",
   "execution_count": 27,
   "id": "decffb1b-6938-4d7a-bdb3-59e1f32f4bc9",
   "metadata": {},
   "outputs": [],
   "source": [
    "# Concaténation de nos données normalisées avec les X_pca\n",
    "data3comp = np.concatenate((scaler,X_pca),axis=1)"
   ]
  },
  {
   "cell_type": "code",
   "execution_count": 28,
   "id": "05b3fab3-bf88-4f40-8277-3962a48c72ac",
   "metadata": {},
   "outputs": [
    {
     "name": "stdout",
     "output_type": "stream",
     "text": [
      "Modèle CART3 :\n",
      "Score : 0.72121\n",
      "Précision : 0.81747\n",
      "\n",
      "Modèle kNN3 :\n",
      "Score : 0.76005\n",
      "Précision : 0.81239\n",
      "\n",
      "Modèle MLPClassifier3 :\n",
      "Score : 0.77285\n",
      "Précision : 0.82880\n",
      "\n"
     ]
    }
   ],
   "source": [
    "X_train3, X_test3, y_train3, y_test3 = train_test_split(data3comp, target, test_size=0.5, random_state=1)\n",
    "cart3 = DecisionTreeClassifier(random_state=1).fit(X_train3, y_train3, sample_weight=None, check_input=True)\n",
    "kNN3 = KNeighborsClassifier(n_neighbors=5).fit(X_train3, y_train3)\n",
    "mlpc3 = MLPClassifier(hidden_layer_sizes=(40, 20), random_state=1).fit(X_train3, y_train3)\n",
    "\n",
    "print(f'Modèle CART3 :\\nScore : {cart3.score(X_test3, y_test3, sample_weight=None):.5f}\\nPrécision : {precision_score(y_test3,cart3.predict(X_test3)):.5f}\\n')\n",
    "print(f'Modèle kNN3 :\\nScore : {kNN3.score(X_test3, y_test3, sample_weight=None):.5f}\\nPrécision : {precision_score(y_test3,kNN3.predict(X_test3)):.5f}\\n')\n",
    "print(f'Modèle MLPClassifier3 :\\nScore : {mlpc3.score(X_test3, y_test3, sample_weight=None):.5f}\\nPrécision : {precision_score(y_test3,mlpc3.predict(X_test3)):.5f}\\n')"
   ]
  },
  {
   "cell_type": "markdown",
   "id": "3d85c9bc-8528-4d97-8461-6e256dd695b0",
   "metadata": {},
   "source": [
    "Nous remarquons que le fait d'avoir rajouté ces trois nouvelles variables n'améliore pas vraiment la performance de nos modèles."
   ]
  },
  {
   "cell_type": "markdown",
   "id": "f4a5b50f-79e7-4282-875f-6c2ec190f665",
   "metadata": {},
   "source": [
    "Pour la suite, nous choisirons donc notre meilleur algo en terme de Score et Précision : le MLPClassifier.\n",
    "Nous normalisons les données car nous avons vu que ceci a un impact positif sur le Score et la Précision de notre modèle.\n",
    "L'ACP n'apportant rien, nous ne gardons pas les composantes qu'elle rajoute."
   ]
  },
  {
   "cell_type": "code",
   "execution_count": 29,
   "id": "2452a0f3-7568-4a07-b006-8d6fc166c977",
   "metadata": {},
   "outputs": [],
   "source": [
    "# Question 5 : sélection de variables"
   ]
  },
  {
   "cell_type": "code",
   "execution_count": 30,
   "id": "58449b51-120a-43b9-9b53-bd68a1771a03",
   "metadata": {},
   "outputs": [
    {
     "name": "stdout",
     "output_type": "stream",
     "text": [
      "Index(['Income', 'Seniority', 'Price', 'Amount', 'Age', 'Assets', 'Expenses',\n",
      "       'Records', 'Time', 'Job', 'Debt', 'Home', 'Marital'],\n",
      "      dtype='object')\n"
     ]
    },
    {
     "data": {
      "image/png": "[encoded data removed]",
      "text/plain": [
       "<Figure size 432x288 with 1 Axes>"
      ]
     },
     "metadata": {
      "needs_background": "light"
     },
     "output_type": "display_data"
    }
   ],
   "source": [
    "clf = RandomForestClassifier(n_estimators=100)\n",
    "clf.fit(X_train2b, y_train2b)\n",
    "importances=clf.feature_importances_\n",
    "std = np.std([tree.feature_importances_ for tree in clf.estimators_],axis=0)\n",
    "sorted_idx = np.argsort(importances)[::-1]\n",
    "features = data.columns[:-1]\n",
    "print(features[sorted_idx])\n",
    "padding = np.arange(X_train2b.size/len(X_train2b)) + 0.5\n",
    "plt.barh(padding, importances[sorted_idx],xerr=std[sorted_idx], align='center')\n",
    "plt.yticks(padding, features[sorted_idx])\n",
    "plt.xlabel(\"Relative Importance\")\n",
    "plt.title(\"Variable Importance\")\n",
    "plt.show()"
   ]
  },
  {
   "cell_type": "code",
   "execution_count": 31,
   "id": "add8a426-2f29-42c0-aed9-73e259ac2776",
   "metadata": {},
   "outputs": [
    {
     "data": {
      "image/png": "[encoded data removed]",
      "text/plain": [
       "<Figure size 432x288 with 1 Axes>"
      ]
     },
     "metadata": {
      "needs_background": "light"
     },
     "output_type": "display_data"
    }
   ],
   "source": [
    "scores=np.zeros(X_train2b.shape[1]+1)\n",
    "for f in np.arange(0, X_train2b.shape[1]+1):\n",
    "    X1_f = X_train2b[:,sorted_idx[:f+1]]\n",
    "    X2_f = X_test2b[:,sorted_idx[:f+1]]\n",
    "    mlpc2b.fit(X1_f,y_train2b)\n",
    "    Ymlp=mlpc2b.predict(X2_f)\n",
    "    scores[f]=np.round(accuracy_score(y_test2b,Ymlp),3)\n",
    "plt.plot(scores)\n",
    "plt.xlabel(\"Nombre de Variables\")\n",
    "plt.ylabel(\"Accuracy\")\n",
    "plt.title(\"Evolution de l'accuracy en fonction des variables\")\n",
    "plt.show()"
   ]
  },
  {
   "cell_type": "code",
   "execution_count": 32,
   "id": "7e622b6b-c602-4044-b099-8b345415ed24",
   "metadata": {},
   "outputs": [
    {
     "name": "stdout",
     "output_type": "stream",
     "text": [
      "L'accuracy optimale est atteinte lorsque nous avons 10 variables\n"
     ]
    }
   ],
   "source": [
    "print(f\"L'accuracy optimale est atteinte lorsque nous avons {np.argmax(scores)} variables\")"
   ]
  },
  {
   "cell_type": "code",
   "execution_count": 33,
   "id": "53305501-5128-4998-8452-5b6791c47387",
   "metadata": {},
   "outputs": [],
   "source": [
    "X_train = X_train2b[:,sorted_idx[:10]]\n",
    "X_test = X_test2b[:,sorted_idx[:10]]"
   ]
  },
  {
   "cell_type": "code",
   "execution_count": 34,
   "id": "0be51a46-8891-4dec-a1ce-2b7cdef82cd4",
   "metadata": {},
   "outputs": [],
   "source": [
    "# Question 6 : paramétrage des classifieurs"
   ]
  },
  {
   "cell_type": "code",
   "execution_count": 35,
   "id": "19b42468-e2ff-40f4-b800-ae94958b8c7d",
   "metadata": {},
   "outputs": [
    {
     "data": {
      "text/plain": [
       "{'activation': 'relu',\n",
       " 'alpha': 0.0001,\n",
       " 'batch_size': 'auto',\n",
       " 'beta_1': 0.9,\n",
       " 'beta_2': 0.999,\n",
       " 'early_stopping': False,\n",
       " 'epsilon': 1e-08,\n",
       " 'hidden_layer_sizes': (40, 20),\n",
       " 'learning_rate': 'constant',\n",
       " 'learning_rate_init': 0.001,\n",
       " 'max_fun': 15000,\n",
       " 'max_iter': 200,\n",
       " 'momentum': 0.9,\n",
       " 'n_iter_no_change': 10,\n",
       " 'nesterovs_momentum': True,\n",
       " 'power_t': 0.5,\n",
       " 'random_state': 1,\n",
       " 'shuffle': True,\n",
       " 'solver': 'adam',\n",
       " 'tol': 0.0001,\n",
       " 'validation_fraction': 0.1,\n",
       " 'verbose': False,\n",
       " 'warm_start': False}"
      ]
     },
     "execution_count": 35,
     "metadata": {},
     "output_type": "execute_result"
    }
   ],
   "source": [
    "mlpc.get_params()"
   ]
  },
  {
   "cell_type": "code",
   "execution_count": 36,
   "id": "d5db1e5d-3cdd-46b7-b510-70a21ced167b",
   "metadata": {
    "collapsed": true,
    "jupyter": {
     "outputs_hidden": true
    },
    "tags": []
   },
   "outputs": [
    {
     "name": "stdout",
     "output_type": "stream",
     "text": [
      "Fitting 5 folds for each of 20 candidates, totalling 100 fits\n",
      "[CV 1/5] END activation=identity, hidden_layer_sizes=(10, 10);, score=0.795 total time=   1.3s\n",
      "[CV 2/5] END activation=identity, hidden_layer_sizes=(10, 10);, score=0.799 total time=   0.7s\n",
      "[CV 3/5] END activation=identity, hidden_layer_sizes=(10, 10);, score=0.773 total time=   0.6s\n",
      "[CV 4/5] END activation=identity, hidden_layer_sizes=(10, 10);, score=0.792 total time=   0.8s\n",
      "[CV 5/5] END activation=identity, hidden_layer_sizes=(10, 10);, score=0.755 total time=   0.6s\n",
      "[CV 1/5] END activation=identity, hidden_layer_sizes=(20, 10);, score=0.792 total time=   1.3s\n",
      "[CV 2/5] END activation=identity, hidden_layer_sizes=(20, 10);, score=0.795 total time=   1.0s\n",
      "[CV 3/5] END activation=identity, hidden_layer_sizes=(20, 10);, score=0.769 total time=   0.8s\n",
      "[CV 4/5] END activation=identity, hidden_layer_sizes=(20, 10);, score=0.792 total time=   1.2s\n",
      "[CV 5/5] END activation=identity, hidden_layer_sizes=(20, 10);, score=0.760 total time=   0.7s\n",
      "[CV 1/5] END activation=identity, hidden_layer_sizes=(30, 10);, score=0.788 total time=   0.9s\n",
      "[CV 2/5] END activation=identity, hidden_layer_sizes=(30, 10);, score=0.797 total time=   0.7s\n",
      "[CV 3/5] END activation=identity, hidden_layer_sizes=(30, 10);, score=0.771 total time=   0.8s\n",
      "[CV 4/5] END activation=identity, hidden_layer_sizes=(30, 10);, score=0.792 total time=   1.2s\n",
      "[CV 5/5] END activation=identity, hidden_layer_sizes=(30, 10);, score=0.762 total time=   1.1s\n",
      "[CV 1/5] END activation=identity, hidden_layer_sizes=(40, 10);, score=0.790 total time=   0.8s\n",
      "[CV 2/5] END activation=identity, hidden_layer_sizes=(40, 10);, score=0.797 total time=   1.0s\n",
      "[CV 3/5] END activation=identity, hidden_layer_sizes=(40, 10);, score=0.764 total time=   0.6s\n",
      "[CV 4/5] END activation=identity, hidden_layer_sizes=(40, 10);, score=0.792 total time=   0.8s\n",
      "[CV 5/5] END activation=identity, hidden_layer_sizes=(40, 10);, score=0.769 total time=   0.6s\n",
      "[CV 1/5] END activation=identity, hidden_layer_sizes=(50, 10);, score=0.790 total time=   1.0s\n",
      "[CV 2/5] END activation=identity, hidden_layer_sizes=(50, 10);, score=0.797 total time=   1.1s\n",
      "[CV 3/5] END activation=identity, hidden_layer_sizes=(50, 10);, score=0.764 total time=   0.8s\n",
      "[CV 4/5] END activation=identity, hidden_layer_sizes=(50, 10);, score=0.785 total time=   1.2s\n",
      "[CV 5/5] END activation=identity, hidden_layer_sizes=(50, 10);, score=0.762 total time=   1.0s\n",
      "[CV 1/5] END activation=logistic, hidden_layer_sizes=(10, 10);, score=0.783 total time=   1.3s\n",
      "[CV 2/5] END activation=logistic, hidden_layer_sizes=(10, 10);, score=0.781 total time=   1.3s\n",
      "[CV 3/5] END activation=logistic, hidden_layer_sizes=(10, 10);, score=0.760 total time=   1.3s\n",
      "[CV 4/5] END activation=logistic, hidden_layer_sizes=(10, 10);, score=0.783 total time=   1.3s\n",
      "[CV 5/5] END activation=logistic, hidden_layer_sizes=(10, 10);, score=0.762 total time=   1.3s\n",
      "[CV 1/5] END activation=logistic, hidden_layer_sizes=(20, 10);, score=0.779 total time=   1.5s\n",
      "[CV 2/5] END activation=logistic, hidden_layer_sizes=(20, 10);, score=0.774 total time=   1.5s\n",
      "[CV 3/5] END activation=logistic, hidden_layer_sizes=(20, 10);, score=0.762 total time=   1.5s\n",
      "[CV 4/5] END activation=logistic, hidden_layer_sizes=(20, 10);, score=0.778 total time=   1.5s\n",
      "[CV 5/5] END activation=logistic, hidden_layer_sizes=(20, 10);, score=0.767 total time=   1.5s\n",
      "[CV 1/5] END activation=logistic, hidden_layer_sizes=(30, 10);, score=0.772 total time=   1.6s\n",
      "[CV 2/5] END activation=logistic, hidden_layer_sizes=(30, 10);, score=0.776 total time=   1.6s\n",
      "[CV 3/5] END activation=logistic, hidden_layer_sizes=(30, 10);, score=0.753 total time=   1.6s\n",
      "[CV 4/5] END activation=logistic, hidden_layer_sizes=(30, 10);, score=0.778 total time=   1.6s\n",
      "[CV 5/5] END activation=logistic, hidden_layer_sizes=(30, 10);, score=0.757 total time=   1.6s\n",
      "[CV 1/5] END activation=logistic, hidden_layer_sizes=(40, 10);, score=0.788 total time=   1.7s\n",
      "[CV 2/5] END activation=logistic, hidden_layer_sizes=(40, 10);, score=0.801 total time=   1.7s\n",
      "[CV 3/5] END activation=logistic, hidden_layer_sizes=(40, 10);, score=0.778 total time=   1.7s\n",
      "[CV 4/5] END activation=logistic, hidden_layer_sizes=(40, 10);, score=0.794 total time=   1.7s\n",
      "[CV 5/5] END activation=logistic, hidden_layer_sizes=(40, 10);, score=0.760 total time=   1.7s\n",
      "[CV 1/5] END activation=logistic, hidden_layer_sizes=(50, 10);, score=0.785 total time=   1.8s\n",
      "[CV 2/5] END activation=logistic, hidden_layer_sizes=(50, 10);, score=0.785 total time=   1.8s\n",
      "[CV 3/5] END activation=logistic, hidden_layer_sizes=(50, 10);, score=0.757 total time=   1.8s\n",
      "[CV 4/5] END activation=logistic, hidden_layer_sizes=(50, 10);, score=0.783 total time=   1.8s\n",
      "[CV 5/5] END activation=logistic, hidden_layer_sizes=(50, 10);, score=0.762 total time=   1.8s\n",
      "[CV 1/5] END activation=tanh, hidden_layer_sizes=(10, 10);, score=0.792 total time=   1.5s\n",
      "[CV 2/5] END activation=tanh, hidden_layer_sizes=(10, 10);, score=0.801 total time=   1.5s\n",
      "[CV 3/5] END activation=tanh, hidden_layer_sizes=(10, 10);, score=0.773 total time=   1.4s\n",
      "[CV 4/5] END activation=tanh, hidden_layer_sizes=(10, 10);, score=0.787 total time=   1.4s\n",
      "[CV 5/5] END activation=tanh, hidden_layer_sizes=(10, 10);, score=0.769 total time=   1.4s\n",
      "[CV 1/5] END activation=tanh, hidden_layer_sizes=(20, 10);, score=0.799 total time=   1.6s\n",
      "[CV 2/5] END activation=tanh, hidden_layer_sizes=(20, 10);, score=0.801 total time=   1.6s\n",
      "[CV 3/5] END activation=tanh, hidden_layer_sizes=(20, 10);, score=0.780 total time=   1.6s\n",
      "[CV 4/5] END activation=tanh, hidden_layer_sizes=(20, 10);, score=0.773 total time=   1.6s\n",
      "[CV 5/5] END activation=tanh, hidden_layer_sizes=(20, 10);, score=0.767 total time=   1.6s\n",
      "[CV 1/5] END activation=tanh, hidden_layer_sizes=(30, 10);, score=0.792 total time=   1.8s\n",
      "[CV 2/5] END activation=tanh, hidden_layer_sizes=(30, 10);, score=0.804 total time=   1.8s\n",
      "[CV 3/5] END activation=tanh, hidden_layer_sizes=(30, 10);, score=0.778 total time=   1.8s\n",
      "[CV 4/5] END activation=tanh, hidden_layer_sizes=(30, 10);, score=0.778 total time=   1.8s\n",
      "[CV 5/5] END activation=tanh, hidden_layer_sizes=(30, 10);, score=0.769 total time=   1.8s\n",
      "[CV 1/5] END activation=tanh, hidden_layer_sizes=(40, 10);, score=0.785 total time=   1.9s\n",
      "[CV 2/5] END activation=tanh, hidden_layer_sizes=(40, 10);, score=0.806 total time=   1.9s\n",
      "[CV 3/5] END activation=tanh, hidden_layer_sizes=(40, 10);, score=0.771 total time=   2.0s\n",
      "[CV 4/5] END activation=tanh, hidden_layer_sizes=(40, 10);, score=0.789 total time=   1.9s\n",
      "[CV 5/5] END activation=tanh, hidden_layer_sizes=(40, 10);, score=0.769 total time=   2.0s\n",
      "[CV 1/5] END activation=tanh, hidden_layer_sizes=(50, 10);, score=0.790 total time=   2.1s\n",
      "[CV 2/5] END activation=tanh, hidden_layer_sizes=(50, 10);, score=0.801 total time=   2.1s\n",
      "[CV 3/5] END activation=tanh, hidden_layer_sizes=(50, 10);, score=0.780 total time=   2.1s\n",
      "[CV 4/5] END activation=tanh, hidden_layer_sizes=(50, 10);, score=0.776 total time=   2.1s\n",
      "[CV 5/5] END activation=tanh, hidden_layer_sizes=(50, 10);, score=0.767 total time=   2.1s\n",
      "[CV 1/5] END activation=relu, hidden_layer_sizes=(10, 10);, score=0.792 total time=   1.3s\n",
      "[CV 2/5] END activation=relu, hidden_layer_sizes=(10, 10);, score=0.804 total time=   1.3s\n",
      "[CV 3/5] END activation=relu, hidden_layer_sizes=(10, 10);, score=0.769 total time=   1.3s\n",
      "[CV 4/5] END activation=relu, hidden_layer_sizes=(10, 10);, score=0.785 total time=   1.3s\n",
      "[CV 5/5] END activation=relu, hidden_layer_sizes=(10, 10);, score=0.769 total time=   1.3s\n",
      "[CV 1/5] END activation=relu, hidden_layer_sizes=(20, 10);, score=0.795 total time=   1.4s\n",
      "[CV 2/5] END activation=relu, hidden_layer_sizes=(20, 10);, score=0.808 total time=   1.4s\n",
      "[CV 3/5] END activation=relu, hidden_layer_sizes=(20, 10);, score=0.753 total time=   1.4s\n",
      "[CV 4/5] END activation=relu, hidden_layer_sizes=(20, 10);, score=0.771 total time=   1.4s\n",
      "[CV 5/5] END activation=relu, hidden_layer_sizes=(20, 10);, score=0.778 total time=   1.4s\n",
      "[CV 1/5] END activation=relu, hidden_layer_sizes=(30, 10);, score=0.799 total time=   1.5s\n",
      "[CV 2/5] END activation=relu, hidden_layer_sizes=(30, 10);, score=0.799 total time=   1.5s\n",
      "[CV 3/5] END activation=relu, hidden_layer_sizes=(30, 10);, score=0.746 total time=   1.5s\n",
      "[CV 4/5] END activation=relu, hidden_layer_sizes=(30, 10);, score=0.778 total time=   1.5s\n",
      "[CV 5/5] END activation=relu, hidden_layer_sizes=(30, 10);, score=0.773 total time=   1.5s\n",
      "[CV 1/5] END activation=relu, hidden_layer_sizes=(40, 10);, score=0.781 total time=   1.6s\n",
      "[CV 2/5] END activation=relu, hidden_layer_sizes=(40, 10);, score=0.799 total time=   1.6s\n",
      "[CV 3/5] END activation=relu, hidden_layer_sizes=(40, 10);, score=0.753 total time=   1.6s\n",
      "[CV 4/5] END activation=relu, hidden_layer_sizes=(40, 10);, score=0.776 total time=   1.6s\n",
      "[CV 5/5] END activation=relu, hidden_layer_sizes=(40, 10);, score=0.762 total time=   1.6s\n",
      "[CV 1/5] END activation=relu, hidden_layer_sizes=(50, 10);, score=0.788 total time=   1.7s\n",
      "[CV 2/5] END activation=relu, hidden_layer_sizes=(50, 10);, score=0.801 total time=   1.7s\n",
      "[CV 3/5] END activation=relu, hidden_layer_sizes=(50, 10);, score=0.753 total time=   1.7s\n",
      "[CV 4/5] END activation=relu, hidden_layer_sizes=(50, 10);, score=0.778 total time=   1.7s\n",
      "[CV 5/5] END activation=relu, hidden_layer_sizes=(50, 10);, score=0.783 total time=   1.7s\n"
     ]
    }
   ],
   "source": [
    "parameters = {'activation':['identity', 'logistic','tanh', 'relu'], 'hidden_layer_sizes':[(10,10),(20,10),(30,10),(40,10),(50,10)]}\n",
    "\n",
    "mlp_Grid = GridSearchCV(mlpc,parameters, verbose=3,cv = 5).fit(X_train, y_train2b)"
   ]
  },
  {
   "cell_type": "code",
   "execution_count": 37,
   "id": "65bc1947-f9e0-4a17-99ff-25a8bff95ee8",
   "metadata": {},
   "outputs": [
    {
     "data": {
      "text/plain": [
       "{'activation': 'tanh', 'hidden_layer_sizes': (10, 10)}"
      ]
     },
     "execution_count": 37,
     "metadata": {},
     "output_type": "execute_result"
    }
   ],
   "source": [
    "mlp_Grid.best_params_"
   ]
  },
  {
   "cell_type": "markdown",
   "id": "a6ea9b7c-2e67-4801-87f3-a3c49f73d540",
   "metadata": {},
   "source": [
    "Nos meilleurs paramètres sont 'tanh' et '(10,10)'"
   ]
  },
  {
   "cell_type": "code",
   "execution_count": 43,
   "id": "0e161db3-5098-499c-b1dc-dfb067f59e59",
   "metadata": {},
   "outputs": [],
   "source": [
    "cv_results = pd.DataFrame(mlp_Grid.cv_results_)\n",
    "mean_test_score = cv_results.loc[np.where(cv_results[\"param_activation\"] == \"tanh\")[0], \"mean_test_score\"]"
   ]
  },
  {
   "cell_type": "code",
   "execution_count": 44,
   "id": "62222286-f13e-434a-96ed-2348bd635221",
   "metadata": {},
   "outputs": [
    {
     "data": {
      "text/plain": [
       "Text(0, 0.5, 'Accuracy')"
      ]
     },
     "execution_count": 44,
     "metadata": {},
     "output_type": "execute_result"
    },
    {
     "data": {
      "image/png": "[encoded data removed]",
      "text/plain": [
       "<Figure size 1440x144 with 1 Axes>"
      ]
     },
     "metadata": {
      "needs_background": "light"
     },
     "output_type": "display_data"
    }
   ],
   "source": [
    "plt.figure(figsize = (20,2))\n",
    "plt.plot([str(e) for e in list(parameters[\"hidden_layer_sizes\"])], mean_test_score)\n",
    "_ = plt.title(\"Accuracy du modèle MLP pour tanh\")\n",
    "plt.xlabel(\"hidden layer sizes\")\n",
    "plt.ylabel(\"Accuracy\")"
   ]
  },
  {
   "cell_type": "code",
   "execution_count": 40,
   "id": "76ddefa3-d09c-470b-97fd-17b10068dd94",
   "metadata": {},
   "outputs": [],
   "source": [
    "# Question 7 : pipeline"
   ]
  },
  {
   "cell_type": "code",
   "execution_count": 46,
   "id": "24b43db4-4a55-4f86-9532-b9033366ebc6",
   "metadata": {},
   "outputs": [
    {
     "data": {
      "text/plain": [
       "0.796617915904936"
      ]
     },
     "execution_count": 46,
     "metadata": {},
     "output_type": "execute_result"
    }
   ],
   "source": [
    "pipe = Pipeline([('scaler', MinMaxScaler()), ('mlp', MLPClassifier(activation = 'tanh', hidden_layer_sizes = (50,10)))])\n",
    "pipe.fit(X_train, y_train)\n",
    "pipe.score(X_test, y_test)"
   ]
  },
  {
   "cell_type": "markdown",
   "id": "18cd46b8-7105-410b-a3a4-c7391269a9d9",
   "metadata": {},
   "source": [
    "Sauvegarde de la pipeline dans un joblib :"
   ]
  },
  {
   "cell_type": "code",
   "execution_count": 47,
   "id": "028d1365-7d18-44d2-b92d-61dd6d33c686",
   "metadata": {},
   "outputs": [],
   "source": [
    "import joblib\n",
    "jl = joblib.dump(pipe,\"Pipeline.joblib\")"
   ]
  },
  {
   "cell_type": "code",
   "execution_count": 48,
   "id": "0be4fdcb-9605-4819-b3cb-8c6ff6b6d273",
   "metadata": {},
   "outputs": [
    {
     "data": {
      "text/plain": [
       "0.796617915904936"
      ]
     },
     "execution_count": 48,
     "metadata": {},
     "output_type": "execute_result"
    }
   ],
   "source": [
    "jl1 = joblib.load(\"Pipeline.joblib\")\n",
    "jl1.score(X_test, y_test)"
   ]
  },
  {
   "cell_type": "markdown",
   "id": "685187e8-4575-416b-b95e-9ff7bf7a7ab8",
   "metadata": {},
   "source": [
    "Sauvegarde de la pipeline dans un pickle :"
   ]
  },
  {
   "cell_type": "code",
   "execution_count": 50,
   "id": "153773d3-a736-4b5a-a540-5f99c970ad9a",
   "metadata": {},
   "outputs": [],
   "source": [
    "import pickle\n",
    "pkl_filename = \"pickle_model.pkl\"\n",
    "with open(pkl_filename, 'wb') as file:\n",
    "    pickle.dump(pipe, file)"
   ]
  },
  {
   "cell_type": "code",
   "execution_count": 52,
   "id": "9d989fc1-f46a-46f5-9e45-bb0f2da2b50c",
   "metadata": {},
   "outputs": [
    {
     "data": {
      "text/plain": [
       "0.796617915904936"
      ]
     },
     "execution_count": 52,
     "metadata": {},
     "output_type": "execute_result"
    }
   ],
   "source": [
    "with open(pkl_filename, 'rb') as file:\n",
    "    pk = pickle.load(file)\n",
    "\n",
    "pk.score(X_test, y_test)"
   ]
  },
  {
   "cell_type": "code",
   "execution_count": null,
   "id": "372133bd-395d-4315-94b6-1b890e1844c5",
   "metadata": {},
   "outputs": [],
   "source": [
    "# Question 8"
   ]
  },
  {
   "cell_type": "code",
   "execution_count": 54,
   "id": "624ee360-25c8-40b9-9821-b13ed9c57f03",
   "metadata": {},
   "outputs": [],
   "source": [
    "def run_classifiers(clfs, X, Y):\n",
    "    kf = KFold(n_splits = 10, shuffle = True, random_state = 0)\n",
    "    scores = {\"accuracy\": \"accuracy\", \"auc\": \"roc_auc\", \"precision\": \"precision\"}\n",
    "    for i in clfs:\n",
    "        clf = clfs[i]\n",
    "        cv_scores = cross_validate(clf, X, Y, cv = kf, scoring = scores)\n",
    "        print(\"Accuracy for {0} is: {1:.3f} +/- {2:.3f}\".format(i, np.mean(cv_scores[\"test_accuracy\"]), np.std(cv_scores[\"test_accuracy\"])))\n",
    "        print(\"AUC for {0} is: {1:.3f} +/- {2:.3f}\".format(i, np.mean(cv_scores[\"test_auc\"]), np.std(cv_scores[\"test_auc\"])))\n",
    "        print(\"Precision for {0} is: {1:.3f} +/- {2:.3f}\".format(i, np.mean(cv_scores[\"test_precision\"]), np.std(cv_scores[\"test_precision\"])))\n",
    "        print(\"Execution time for {0} is: {1:.3f} +/- {2:.3f}\\n\".format(i, np.mean(cv_scores[\"fit_time\"]), np.std(cv_scores[\"fit_time\"])))"
   ]
  },
  {
   "cell_type": "code",
   "execution_count": 53,
   "id": "0d50e091-1af8-415d-b73e-21210262a9f3",
   "metadata": {},
   "outputs": [],
   "source": [
    "clfs = {\n",
    "    'NBS': GaussianNB(),\n",
    "    'CART': DecisionTreeClassifier(criterion = \"gini\", random_state = 1),\n",
    "    'ID3': DecisionTreeClassifier(criterion = \"entropy\", random_state = 1),\n",
    "    'DS': DecisionTreeClassifier(max_depth = 1, random_state = 1),\n",
    "    'MLP': MLPClassifier(hidden_layer_sizes = (20, 10), random_state = 1),\n",
    "    'KNN': KNeighborsClassifier(n_neighbors = 5),\n",
    "    'BAG': BaggingClassifier(n_estimators = 200, random_state = 1),\n",
    "    'ADA': AdaBoostClassifier(n_estimators = 200),\n",
    "    'RF': RandomForestClassifier(n_estimators = 200, random_state = 1),\n",
    "    'SVC': SVC()\n",
    "}"
   ]
  },
  {
   "cell_type": "code",
   "execution_count": 56,
   "id": "913b62be-5169-4be3-802b-b123dafa37ac",
   "metadata": {},
   "outputs": [
    {
     "name": "stdout",
     "output_type": "stream",
     "text": [
      "Accuracy for NBS is: 0.756 +/- 0.026\n",
      "AUC for NBS is: 0.785 +/- 0.032\n",
      "Precision for NBS is: 0.814 +/- 0.035\n",
      "Execution time for NBS is: 0.003 +/- 0.001\n",
      "\n",
      "Accuracy for CART is: 0.699 +/- 0.026\n",
      "AUC for CART is: 0.628 +/- 0.034\n",
      "Precision for CART is: 0.792 +/- 0.034\n",
      "Execution time for CART is: 0.018 +/- 0.000\n",
      "\n",
      "Accuracy for ID3 is: 0.707 +/- 0.029\n",
      "AUC for ID3 is: 0.634 +/- 0.033\n",
      "Precision for ID3 is: 0.795 +/- 0.035\n",
      "Execution time for ID3 is: 0.021 +/- 0.004\n",
      "\n",
      "Accuracy for DS is: 0.721 +/- 0.028\n",
      "AUC for DS is: 0.617 +/- 0.034\n",
      "Precision for DS is: 0.736 +/- 0.030\n",
      "Execution time for DS is: 0.002 +/- 0.000\n",
      "\n",
      "Accuracy for MLP is: 0.783 +/- 0.026\n",
      "AUC for MLP is: 0.822 +/- 0.029\n",
      "Precision for MLP is: 0.817 +/- 0.034\n",
      "Execution time for MLP is: 1.525 +/- 0.010\n",
      "\n",
      "Accuracy for KNN is: 0.749 +/- 0.024\n",
      "AUC for KNN is: 0.740 +/- 0.023\n",
      "Precision for KNN is: 0.800 +/- 0.029\n",
      "Execution time for KNN is: 0.003 +/- 0.000\n",
      "\n",
      "Accuracy for BAG is: 0.759 +/- 0.021\n",
      "AUC for BAG is: 0.798 +/- 0.024\n",
      "Precision for BAG is: 0.808 +/- 0.034\n",
      "Execution time for BAG is: 1.522 +/- 0.017\n",
      "\n",
      "Accuracy for ADA is: 0.775 +/- 0.031\n",
      "AUC for ADA is: 0.806 +/- 0.029\n",
      "Precision for ADA is: 0.816 +/- 0.037\n",
      "Execution time for ADA is: 0.619 +/- 0.003\n",
      "\n",
      "Accuracy for RF is: 0.764 +/- 0.025\n",
      "AUC for RF is: 0.809 +/- 0.022\n",
      "Precision for RF is: 0.808 +/- 0.032\n",
      "Execution time for RF is: 0.782 +/- 0.007\n",
      "\n",
      "Accuracy for SVC is: 0.754 +/- 0.027\n",
      "AUC for SVC is: 0.806 +/- 0.028\n",
      "Precision for SVC is: 0.780 +/- 0.039\n",
      "Execution time for SVC is: 0.180 +/- 0.004\n",
      "\n"
     ]
    }
   ],
   "source": [
    "run_classifiers(clfs, X_train, y_train2)"
   ]
  },
  {
   "cell_type": "markdown",
   "id": "a68ac6e5-1862-4bb0-83a8-903a1e4c9542",
   "metadata": {},
   "source": [
    "Notre modèle le plus performant est le modèle MLP.\n",
    "Mais il est aussi le modèle qui prend le plus de temps pour s'exécuter.\n",
    "\n",
    "On pourrait aussi garder comme meilleur modèle ADA boosting car son score est proche du MLP mais son temps d'execution est bien plus intéressant."
   ]
  }
 ],
 "metadata": {
  "kernelspec": {
   "display_name": "Python 3 (ipykernel)",
   "language": "python",
   "name": "python3"
  },
  "language_info": {
   "codemirror_mode": {
    "name": "ipython",
    "version": 3
   },
   "file_extension": ".py",
   "mimetype": "text/x-python",
   "name": "python",
   "nbconvert_exporter": "python",
   "pygments_lexer": "ipython3",
   "version": "3.10.6"
  }
 },
 "nbformat": 4,
 "nbformat_minor": 5
}
